{
 "cells": [
  {
   "metadata": {
    "ExecuteTime": {
     "end_time": "2025-06-03T01:46:58.679831Z",
     "start_time": "2025-06-03T01:46:52.302189Z"
    }
   },
   "cell_type": "code",
   "source": [
    "import importlib\n",
    "import models\n",
    "import helper_funtions\n",
    "import preprocess\n",
    "import settings\n",
    "\n",
    "importlib.reload(settings)\n",
    "importlib.reload(models)\n",
    "importlib.reload(helper_funtions)\n",
    "importlib.reload(preprocess)\n",
    "\n",
    "import torch\n",
    "import numpy as np\n",
    "from models.LSTM import LSTM_HumanFi, CNN_LSTM, CNN_BiLSTM_TemporalAttention, CNN_BiLSTM_ChannelAttention, CNN_BiLSTM_DualAttention, CNN_BiLSTM_Attention\n",
    "from models.RadioNet import RadioNet_NeuralWave\n",
    "from models.ResNet import ECAResNet1D, ECABasicBlock1D, ResNet1D_JARILWWF, OptResNet1D_JARILWWF, OptECAResNet1D_JARILWWF, CustomResNet1D, CustomECAResNet1D\n",
    "from models.TemporalConvNet import TemporalConvNet\n",
    "from helper_funtions import grid_search, get_learning_curve_data, plot_learning_curves, run_with_seeds, run_experiment_with_seeds\n",
    "from preprocess import DataPreprocessor\n",
    "from settings import DEVICE, CRITERION, folder_path_5ghz_10hz_collected, folder_path_5ghz_200hz_collected, folder_path_60ghz_collected, output_path, NUM_EPOCHS, ROWS_PER_SECOND, INPUT_DIM"
   ],
   "id": "eaf05c930fb61034",
   "outputs": [],
   "execution_count": 1
  },
  {
   "metadata": {
    "ExecuteTime": {
     "end_time": "2025-06-03T01:46:58.685707Z",
     "start_time": "2025-06-03T01:46:58.682335Z"
    }
   },
   "cell_type": "code",
   "source": [
    "# temporalconvnet\n",
    "# {'num_inputs': x, 'num_channels': [64, 128, 128], 'kernel_size': 2, 'dropout': 0.5}\n",
    "# mixup\n",
    "\n",
    "signal_configs = {\n",
    "    '5ghz_10hz': {\n",
    "        'model_class': TemporalConvNet,\n",
    "        'model_args': {\n",
    "            'num_inputs': INPUT_DIM['5ghz_10hz'],\n",
    "            'num_channels': [64, 128, 128],\n",
    "            'kernel_size': 2,\n",
    "            'dropout': 0.5\n",
    "        },\n",
    "        'folder_path': folder_path_5ghz_10hz_collected,\n",
    "        'background_subtraction': True,\n",
    "        'num_epochs': NUM_EPOCHS,\n",
    "        'rows_per_second': ROWS_PER_SECOND['5ghz_10hz']\n",
    "    },\n",
    "    '5ghz_200hz': {\n",
    "        'model_class': TemporalConvNet,\n",
    "        'model_args': {\n",
    "            'num_inputs': INPUT_DIM['5ghz_200hz'],\n",
    "            'num_channels': [64, 128, 128],\n",
    "            'kernel_size': 2,\n",
    "            'dropout': 0.5\n",
    "        },\n",
    "        'folder_path': folder_path_5ghz_200hz_collected,\n",
    "        'background_subtraction': True,\n",
    "        'num_epochs': NUM_EPOCHS,\n",
    "        'rows_per_second': ROWS_PER_SECOND['5ghz_200hz']\n",
    "    },\n",
    "    '60ghz_collected': {\n",
    "        'model_class': TemporalConvNet,\n",
    "        'model_args': {\n",
    "            'num_inputs': INPUT_DIM['60ghz_collected'],\n",
    "            'num_channels': [64, 128, 128],\n",
    "            'kernel_size': 2,\n",
    "            'dropout': 0.5\n",
    "        },\n",
    "        'folder_path': folder_path_60ghz_collected,\n",
    "        'background_subtraction': True,\n",
    "        'num_epochs': NUM_EPOCHS,\n",
    "        'rows_per_second': ROWS_PER_SECOND['60ghz_collected']\n",
    "    }\n",
    "}\n",
    "\n",
    "train_splits = [0.1, 0.2, 0.3, 0.4, 0.5, 0.6, 0.7]\n",
    "accuracy_type = 2 # 1 for validation accuracy, 2 for test accuracy\n",
    "num_seeds = 3"
   ],
   "id": "49cfd703560946e5",
   "outputs": [],
   "execution_count": 2
  },
  {
   "metadata": {
    "ExecuteTime": {
     "end_time": "2025-06-03T07:09:28.445747Z",
     "start_time": "2025-06-03T01:46:58.786680Z"
    }
   },
   "cell_type": "code",
   "source": [
    "results_per_signal, stds_per_signal = run_experiment_with_seeds(experiment_func=get_learning_curve_data,\n",
    "                                                                signal_configs=signal_configs,\n",
    "                                                                varying_param_name='train_splits',\n",
    "                                                                varying_param_value=train_splits,\n",
    "                                                                n_seeds=num_seeds,\n",
    "                                                                accuracy_type=accuracy_type,\n",
    "                                                                seconds_per_sample=5)"
   ],
   "id": "450b2a5410d5424c",
   "outputs": [
    {
     "name": "stdout",
     "output_type": "stream",
     "text": [
      "Running experiment for 5ghz_10hz...\n",
      "\n",
      "--- Running seed 42 ---\n",
      "\n",
      "--- Training split 0.10 ---\n",
      "\n",
      "(Device: cuda) Started training model: TemporalConvNet\n"
     ]
    },
    {
     "name": "stderr",
     "output_type": "stream",
     "text": [
      "C:\\Users\\centu\\PycharmProjects\\MasterThesis_mmWavePI\\.venv\\Lib\\site-packages\\torch\\nn\\utils\\weight_norm.py:143: FutureWarning: `torch.nn.utils.weight_norm` is deprecated in favor of `torch.nn.utils.parametrizations.weight_norm`.\n",
      "  WeightNorm.apply(module, name, dim)\n"
     ]
    },
    {
     "name": "stdout",
     "output_type": "stream",
     "text": [
      "Early stopping at epoch 138 (no improvement in 50 epochs)\n",
      "Training time:  0:00:58.633903\n",
      "\n",
      "--- Training split 0.20 ---\n",
      "\n",
      "(Device: cuda) Started training model: TemporalConvNet\n"
     ]
    },
    {
     "name": "stderr",
     "output_type": "stream",
     "text": [
      "C:\\Users\\centu\\PycharmProjects\\MasterThesis_mmWavePI\\.venv\\Lib\\site-packages\\torch\\nn\\utils\\weight_norm.py:143: FutureWarning: `torch.nn.utils.weight_norm` is deprecated in favor of `torch.nn.utils.parametrizations.weight_norm`.\n",
      "  WeightNorm.apply(module, name, dim)\n"
     ]
    },
    {
     "name": "stdout",
     "output_type": "stream",
     "text": [
      "Early stopping at epoch 100 (no improvement in 50 epochs)\n",
      "Training time:  0:01:04.385808\n",
      "\n",
      "--- Training split 0.30 ---\n",
      "\n",
      "(Device: cuda) Started training model: TemporalConvNet\n"
     ]
    },
    {
     "name": "stderr",
     "output_type": "stream",
     "text": [
      "C:\\Users\\centu\\PycharmProjects\\MasterThesis_mmWavePI\\.venv\\Lib\\site-packages\\torch\\nn\\utils\\weight_norm.py:143: FutureWarning: `torch.nn.utils.weight_norm` is deprecated in favor of `torch.nn.utils.parametrizations.weight_norm`.\n",
      "  WeightNorm.apply(module, name, dim)\n"
     ]
    },
    {
     "name": "stdout",
     "output_type": "stream",
     "text": [
      "Early stopping at epoch 131 (no improvement in 50 epochs)\n",
      "Training time:  0:01:50.792394\n",
      "\n",
      "--- Training split 0.40 ---\n",
      "\n",
      "(Device: cuda) Started training model: TemporalConvNet\n"
     ]
    },
    {
     "name": "stderr",
     "output_type": "stream",
     "text": [
      "C:\\Users\\centu\\PycharmProjects\\MasterThesis_mmWavePI\\.venv\\Lib\\site-packages\\torch\\nn\\utils\\weight_norm.py:143: FutureWarning: `torch.nn.utils.weight_norm` is deprecated in favor of `torch.nn.utils.parametrizations.weight_norm`.\n",
      "  WeightNorm.apply(module, name, dim)\n"
     ]
    },
    {
     "name": "stdout",
     "output_type": "stream",
     "text": [
      "Early stopping at epoch 211 (no improvement in 50 epochs)\n",
      "Training time:  0:03:38.947804\n",
      "\n",
      "--- Training split 0.50 ---\n",
      "\n",
      "(Device: cuda) Started training model: TemporalConvNet\n"
     ]
    },
    {
     "name": "stderr",
     "output_type": "stream",
     "text": [
      "C:\\Users\\centu\\PycharmProjects\\MasterThesis_mmWavePI\\.venv\\Lib\\site-packages\\torch\\nn\\utils\\weight_norm.py:143: FutureWarning: `torch.nn.utils.weight_norm` is deprecated in favor of `torch.nn.utils.parametrizations.weight_norm`.\n",
      "  WeightNorm.apply(module, name, dim)\n"
     ]
    },
    {
     "name": "stdout",
     "output_type": "stream",
     "text": [
      "Early stopping at epoch 345 (no improvement in 50 epochs)\n",
      "Training time:  0:07:07.718202\n",
      "\n",
      "--- Training split 0.60 ---\n",
      "\n",
      "(Device: cuda) Started training model: TemporalConvNet\n"
     ]
    },
    {
     "name": "stderr",
     "output_type": "stream",
     "text": [
      "C:\\Users\\centu\\PycharmProjects\\MasterThesis_mmWavePI\\.venv\\Lib\\site-packages\\torch\\nn\\utils\\weight_norm.py:143: FutureWarning: `torch.nn.utils.weight_norm` is deprecated in favor of `torch.nn.utils.parametrizations.weight_norm`.\n",
      "  WeightNorm.apply(module, name, dim)\n"
     ]
    },
    {
     "name": "stdout",
     "output_type": "stream",
     "text": [
      "Early stopping at epoch 200 (no improvement in 50 epochs)\n",
      "Training time:  0:04:57.305881\n",
      "\n",
      "--- Training split 0.70 ---\n",
      "\n",
      "(Device: cuda) Started training model: TemporalConvNet\n"
     ]
    },
    {
     "name": "stderr",
     "output_type": "stream",
     "text": [
      "C:\\Users\\centu\\PycharmProjects\\MasterThesis_mmWavePI\\.venv\\Lib\\site-packages\\torch\\nn\\utils\\weight_norm.py:143: FutureWarning: `torch.nn.utils.weight_norm` is deprecated in favor of `torch.nn.utils.parametrizations.weight_norm`.\n",
      "  WeightNorm.apply(module, name, dim)\n"
     ]
    },
    {
     "name": "stdout",
     "output_type": "stream",
     "text": [
      "Early stopping at epoch 218 (no improvement in 50 epochs)\n",
      "Training time:  0:05:46.484790\n",
      "\n",
      "--- Running seed 420 ---\n",
      "\n",
      "--- Training split 0.10 ---\n",
      "\n",
      "(Device: cuda) Started training model: TemporalConvNet\n"
     ]
    },
    {
     "name": "stderr",
     "output_type": "stream",
     "text": [
      "C:\\Users\\centu\\PycharmProjects\\MasterThesis_mmWavePI\\.venv\\Lib\\site-packages\\torch\\nn\\utils\\weight_norm.py:143: FutureWarning: `torch.nn.utils.weight_norm` is deprecated in favor of `torch.nn.utils.parametrizations.weight_norm`.\n",
      "  WeightNorm.apply(module, name, dim)\n"
     ]
    },
    {
     "name": "stdout",
     "output_type": "stream",
     "text": [
      "Early stopping at epoch 117 (no improvement in 50 epochs)\n",
      "Training time:  0:00:46.604262\n",
      "\n",
      "--- Training split 0.20 ---\n",
      "\n",
      "(Device: cuda) Started training model: TemporalConvNet\n"
     ]
    },
    {
     "name": "stderr",
     "output_type": "stream",
     "text": [
      "C:\\Users\\centu\\PycharmProjects\\MasterThesis_mmWavePI\\.venv\\Lib\\site-packages\\torch\\nn\\utils\\weight_norm.py:143: FutureWarning: `torch.nn.utils.weight_norm` is deprecated in favor of `torch.nn.utils.parametrizations.weight_norm`.\n",
      "  WeightNorm.apply(module, name, dim)\n"
     ]
    },
    {
     "name": "stdout",
     "output_type": "stream",
     "text": [
      "Early stopping at epoch 248 (no improvement in 50 epochs)\n",
      "Training time:  0:02:30.074246\n",
      "\n",
      "--- Training split 0.30 ---\n",
      "\n",
      "(Device: cuda) Started training model: TemporalConvNet\n"
     ]
    },
    {
     "name": "stderr",
     "output_type": "stream",
     "text": [
      "C:\\Users\\centu\\PycharmProjects\\MasterThesis_mmWavePI\\.venv\\Lib\\site-packages\\torch\\nn\\utils\\weight_norm.py:143: FutureWarning: `torch.nn.utils.weight_norm` is deprecated in favor of `torch.nn.utils.parametrizations.weight_norm`.\n",
      "  WeightNorm.apply(module, name, dim)\n"
     ]
    },
    {
     "name": "stdout",
     "output_type": "stream",
     "text": [
      "Early stopping at epoch 89 (no improvement in 50 epochs)\n",
      "Training time:  0:01:10.908851\n",
      "\n",
      "--- Training split 0.40 ---\n",
      "\n",
      "(Device: cuda) Started training model: TemporalConvNet\n"
     ]
    },
    {
     "name": "stderr",
     "output_type": "stream",
     "text": [
      "C:\\Users\\centu\\PycharmProjects\\MasterThesis_mmWavePI\\.venv\\Lib\\site-packages\\torch\\nn\\utils\\weight_norm.py:143: FutureWarning: `torch.nn.utils.weight_norm` is deprecated in favor of `torch.nn.utils.parametrizations.weight_norm`.\n",
      "  WeightNorm.apply(module, name, dim)\n"
     ]
    },
    {
     "name": "stdout",
     "output_type": "stream",
     "text": [
      "Early stopping at epoch 227 (no improvement in 50 epochs)\n",
      "Training time:  0:03:50.970152\n",
      "\n",
      "--- Training split 0.50 ---\n",
      "\n",
      "(Device: cuda) Started training model: TemporalConvNet\n"
     ]
    },
    {
     "name": "stderr",
     "output_type": "stream",
     "text": [
      "C:\\Users\\centu\\PycharmProjects\\MasterThesis_mmWavePI\\.venv\\Lib\\site-packages\\torch\\nn\\utils\\weight_norm.py:143: FutureWarning: `torch.nn.utils.weight_norm` is deprecated in favor of `torch.nn.utils.parametrizations.weight_norm`.\n",
      "  WeightNorm.apply(module, name, dim)\n"
     ]
    },
    {
     "name": "stdout",
     "output_type": "stream",
     "text": [
      "Early stopping at epoch 236 (no improvement in 50 epochs)\n",
      "Training time:  0:07:52.386317\n",
      "\n",
      "--- Training split 0.60 ---\n",
      "\n",
      "(Device: cuda) Started training model: TemporalConvNet\n"
     ]
    },
    {
     "name": "stderr",
     "output_type": "stream",
     "text": [
      "C:\\Users\\centu\\PycharmProjects\\MasterThesis_mmWavePI\\.venv\\Lib\\site-packages\\torch\\nn\\utils\\weight_norm.py:143: FutureWarning: `torch.nn.utils.weight_norm` is deprecated in favor of `torch.nn.utils.parametrizations.weight_norm`.\n",
      "  WeightNorm.apply(module, name, dim)\n"
     ]
    },
    {
     "name": "stdout",
     "output_type": "stream",
     "text": [
      "Early stopping at epoch 239 (no improvement in 50 epochs)\n",
      "Training time:  0:08:17.837069\n",
      "\n",
      "--- Training split 0.70 ---\n",
      "\n",
      "(Device: cuda) Started training model: TemporalConvNet\n"
     ]
    },
    {
     "name": "stderr",
     "output_type": "stream",
     "text": [
      "C:\\Users\\centu\\PycharmProjects\\MasterThesis_mmWavePI\\.venv\\Lib\\site-packages\\torch\\nn\\utils\\weight_norm.py:143: FutureWarning: `torch.nn.utils.weight_norm` is deprecated in favor of `torch.nn.utils.parametrizations.weight_norm`.\n",
      "  WeightNorm.apply(module, name, dim)\n"
     ]
    },
    {
     "name": "stdout",
     "output_type": "stream",
     "text": [
      "Early stopping at epoch 238 (no improvement in 50 epochs)\n",
      "Training time:  0:06:21.242056\n",
      "\n",
      "--- Running seed 101010 ---\n",
      "\n",
      "--- Training split 0.10 ---\n",
      "\n",
      "(Device: cuda) Started training model: TemporalConvNet\n"
     ]
    },
    {
     "name": "stderr",
     "output_type": "stream",
     "text": [
      "C:\\Users\\centu\\PycharmProjects\\MasterThesis_mmWavePI\\.venv\\Lib\\site-packages\\torch\\nn\\utils\\weight_norm.py:143: FutureWarning: `torch.nn.utils.weight_norm` is deprecated in favor of `torch.nn.utils.parametrizations.weight_norm`.\n",
      "  WeightNorm.apply(module, name, dim)\n"
     ]
    },
    {
     "name": "stdout",
     "output_type": "stream",
     "text": [
      "Early stopping at epoch 121 (no improvement in 50 epochs)\n",
      "Training time:  0:00:49.505324\n",
      "\n",
      "--- Training split 0.20 ---\n",
      "\n",
      "(Device: cuda) Started training model: TemporalConvNet\n"
     ]
    },
    {
     "name": "stderr",
     "output_type": "stream",
     "text": [
      "C:\\Users\\centu\\PycharmProjects\\MasterThesis_mmWavePI\\.venv\\Lib\\site-packages\\torch\\nn\\utils\\weight_norm.py:143: FutureWarning: `torch.nn.utils.weight_norm` is deprecated in favor of `torch.nn.utils.parametrizations.weight_norm`.\n",
      "  WeightNorm.apply(module, name, dim)\n"
     ]
    },
    {
     "name": "stdout",
     "output_type": "stream",
     "text": [
      "Early stopping at epoch 266 (no improvement in 50 epochs)\n",
      "Training time:  0:02:44.864030\n",
      "\n",
      "--- Training split 0.30 ---\n",
      "\n",
      "(Device: cuda) Started training model: TemporalConvNet\n"
     ]
    },
    {
     "name": "stderr",
     "output_type": "stream",
     "text": [
      "C:\\Users\\centu\\PycharmProjects\\MasterThesis_mmWavePI\\.venv\\Lib\\site-packages\\torch\\nn\\utils\\weight_norm.py:143: FutureWarning: `torch.nn.utils.weight_norm` is deprecated in favor of `torch.nn.utils.parametrizations.weight_norm`.\n",
      "  WeightNorm.apply(module, name, dim)\n"
     ]
    },
    {
     "name": "stdout",
     "output_type": "stream",
     "text": [
      "Early stopping at epoch 93 (no improvement in 50 epochs)\n",
      "Training time:  0:01:21.531457\n",
      "\n",
      "--- Training split 0.40 ---\n",
      "\n",
      "(Device: cuda) Started training model: TemporalConvNet\n"
     ]
    },
    {
     "name": "stderr",
     "output_type": "stream",
     "text": [
      "C:\\Users\\centu\\PycharmProjects\\MasterThesis_mmWavePI\\.venv\\Lib\\site-packages\\torch\\nn\\utils\\weight_norm.py:143: FutureWarning: `torch.nn.utils.weight_norm` is deprecated in favor of `torch.nn.utils.parametrizations.weight_norm`.\n",
      "  WeightNorm.apply(module, name, dim)\n"
     ]
    },
    {
     "name": "stdout",
     "output_type": "stream",
     "text": [
      "Early stopping at epoch 221 (no improvement in 50 epochs)\n",
      "Training time:  0:03:43.589415\n",
      "\n",
      "--- Training split 0.50 ---\n",
      "\n",
      "(Device: cuda) Started training model: TemporalConvNet\n"
     ]
    },
    {
     "name": "stderr",
     "output_type": "stream",
     "text": [
      "C:\\Users\\centu\\PycharmProjects\\MasterThesis_mmWavePI\\.venv\\Lib\\site-packages\\torch\\nn\\utils\\weight_norm.py:143: FutureWarning: `torch.nn.utils.weight_norm` is deprecated in favor of `torch.nn.utils.parametrizations.weight_norm`.\n",
      "  WeightNorm.apply(module, name, dim)\n"
     ]
    },
    {
     "name": "stdout",
     "output_type": "stream",
     "text": [
      "Early stopping at epoch 165 (no improvement in 50 epochs)\n",
      "Training time:  0:04:39.781457\n",
      "\n",
      "--- Training split 0.60 ---\n",
      "\n",
      "(Device: cuda) Started training model: TemporalConvNet\n"
     ]
    },
    {
     "name": "stderr",
     "output_type": "stream",
     "text": [
      "C:\\Users\\centu\\PycharmProjects\\MasterThesis_mmWavePI\\.venv\\Lib\\site-packages\\torch\\nn\\utils\\weight_norm.py:143: FutureWarning: `torch.nn.utils.weight_norm` is deprecated in favor of `torch.nn.utils.parametrizations.weight_norm`.\n",
      "  WeightNorm.apply(module, name, dim)\n"
     ]
    },
    {
     "name": "stdout",
     "output_type": "stream",
     "text": [
      "Early stopping at epoch 198 (no improvement in 50 epochs)\n",
      "Training time:  0:14:16.897638\n",
      "\n",
      "--- Training split 0.70 ---\n",
      "\n",
      "(Device: cuda) Started training model: TemporalConvNet\n"
     ]
    },
    {
     "name": "stderr",
     "output_type": "stream",
     "text": [
      "C:\\Users\\centu\\PycharmProjects\\MasterThesis_mmWavePI\\.venv\\Lib\\site-packages\\torch\\nn\\utils\\weight_norm.py:143: FutureWarning: `torch.nn.utils.weight_norm` is deprecated in favor of `torch.nn.utils.parametrizations.weight_norm`.\n",
      "  WeightNorm.apply(module, name, dim)\n"
     ]
    },
    {
     "name": "stdout",
     "output_type": "stream",
     "text": [
      "Early stopping at epoch 210 (no improvement in 50 epochs)\n",
      "Training time:  0:09:09.540257\n",
      "seed outputs:  [([0.1, 0.2, 0.3, 0.4, 0.5, 0.6, 0.7], [0.44, 0.46, 0.71, 0.83, 0.9, 0.9, 0.94], [0.49, 0.46, 0.66, 0.74, 0.83, 0.84, 0.91]), ([0.1, 0.2, 0.3, 0.4, 0.5, 0.6, 0.7], [0.47, 0.61, 0.71, 0.86, 0.87, 0.9, 0.96], [0.54, 0.6, 0.69, 0.81, 0.79, 0.84, 0.9]), ([0.1, 0.2, 0.3, 0.4, 0.5, 0.6, 0.7], [0.51, 0.59, 0.64, 0.84, 0.84, 0.87, 0.94], [0.51, 0.64, 0.7, 0.79, 0.76, 0.87, 0.87])]\n",
      "Running experiment for 5ghz_200hz...\n",
      "\n",
      "--- Running seed 42 ---\n",
      "\n",
      "--- Training split 0.10 ---\n"
     ]
    },
    {
     "name": "stderr",
     "output_type": "stream",
     "text": [
      "C:\\Users\\centu\\PycharmProjects\\MasterThesis_mmWavePI\\.venv\\Lib\\site-packages\\torch\\nn\\utils\\weight_norm.py:143: FutureWarning: `torch.nn.utils.weight_norm` is deprecated in favor of `torch.nn.utils.parametrizations.weight_norm`.\n",
      "  WeightNorm.apply(module, name, dim)\n"
     ]
    },
    {
     "name": "stdout",
     "output_type": "stream",
     "text": [
      "\n",
      "(Device: cuda) Started training model: TemporalConvNet\n",
      "Early stopping at epoch 203 (no improvement in 50 epochs)\n",
      "Training time:  0:05:33.500675\n",
      "\n",
      "--- Training split 0.20 ---\n"
     ]
    },
    {
     "name": "stderr",
     "output_type": "stream",
     "text": [
      "C:\\Users\\centu\\PycharmProjects\\MasterThesis_mmWavePI\\.venv\\Lib\\site-packages\\torch\\nn\\utils\\weight_norm.py:143: FutureWarning: `torch.nn.utils.weight_norm` is deprecated in favor of `torch.nn.utils.parametrizations.weight_norm`.\n",
      "  WeightNorm.apply(module, name, dim)\n"
     ]
    },
    {
     "name": "stdout",
     "output_type": "stream",
     "text": [
      "\n",
      "(Device: cuda) Started training model: TemporalConvNet\n",
      "Early stopping at epoch 95 (no improvement in 50 epochs)\n",
      "Training time:  0:03:57.485684\n",
      "\n",
      "--- Training split 0.30 ---\n"
     ]
    },
    {
     "name": "stderr",
     "output_type": "stream",
     "text": [
      "C:\\Users\\centu\\PycharmProjects\\MasterThesis_mmWavePI\\.venv\\Lib\\site-packages\\torch\\nn\\utils\\weight_norm.py:143: FutureWarning: `torch.nn.utils.weight_norm` is deprecated in favor of `torch.nn.utils.parametrizations.weight_norm`.\n",
      "  WeightNorm.apply(module, name, dim)\n"
     ]
    },
    {
     "name": "stdout",
     "output_type": "stream",
     "text": [
      "\n",
      "(Device: cuda) Started training model: TemporalConvNet\n",
      "Early stopping at epoch 211 (no improvement in 50 epochs)\n",
      "Training time:  0:11:39.178372\n",
      "\n",
      "--- Training split 0.40 ---\n"
     ]
    },
    {
     "name": "stderr",
     "output_type": "stream",
     "text": [
      "C:\\Users\\centu\\PycharmProjects\\MasterThesis_mmWavePI\\.venv\\Lib\\site-packages\\torch\\nn\\utils\\weight_norm.py:143: FutureWarning: `torch.nn.utils.weight_norm` is deprecated in favor of `torch.nn.utils.parametrizations.weight_norm`.\n",
      "  WeightNorm.apply(module, name, dim)\n"
     ]
    },
    {
     "name": "stdout",
     "output_type": "stream",
     "text": [
      "\n",
      "(Device: cuda) Started training model: TemporalConvNet\n",
      "Early stopping at epoch 305 (no improvement in 50 epochs)\n",
      "Training time:  0:20:39.700881\n",
      "\n",
      "--- Training split 0.50 ---\n"
     ]
    },
    {
     "name": "stderr",
     "output_type": "stream",
     "text": [
      "C:\\Users\\centu\\PycharmProjects\\MasterThesis_mmWavePI\\.venv\\Lib\\site-packages\\torch\\nn\\utils\\weight_norm.py:143: FutureWarning: `torch.nn.utils.weight_norm` is deprecated in favor of `torch.nn.utils.parametrizations.weight_norm`.\n",
      "  WeightNorm.apply(module, name, dim)\n"
     ]
    },
    {
     "name": "stdout",
     "output_type": "stream",
     "text": [
      "\n",
      "(Device: cuda) Started training model: TemporalConvNet\n",
      "Early stopping at epoch 299 (no improvement in 50 epochs)\n",
      "Training time:  0:23:26.353300\n",
      "\n",
      "--- Training split 0.60 ---\n"
     ]
    },
    {
     "name": "stderr",
     "output_type": "stream",
     "text": [
      "C:\\Users\\centu\\PycharmProjects\\MasterThesis_mmWavePI\\.venv\\Lib\\site-packages\\torch\\nn\\utils\\weight_norm.py:143: FutureWarning: `torch.nn.utils.weight_norm` is deprecated in favor of `torch.nn.utils.parametrizations.weight_norm`.\n",
      "  WeightNorm.apply(module, name, dim)\n"
     ]
    },
    {
     "name": "stdout",
     "output_type": "stream",
     "text": [
      "\n",
      "(Device: cuda) Started training model: TemporalConvNet\n",
      "Early stopping at epoch 240 (no improvement in 50 epochs)\n",
      "Training time:  0:20:29.722427\n",
      "\n",
      "--- Training split 0.70 ---\n"
     ]
    },
    {
     "name": "stderr",
     "output_type": "stream",
     "text": [
      "C:\\Users\\centu\\PycharmProjects\\MasterThesis_mmWavePI\\.venv\\Lib\\site-packages\\torch\\nn\\utils\\weight_norm.py:143: FutureWarning: `torch.nn.utils.weight_norm` is deprecated in favor of `torch.nn.utils.parametrizations.weight_norm`.\n",
      "  WeightNorm.apply(module, name, dim)\n"
     ]
    },
    {
     "name": "stdout",
     "output_type": "stream",
     "text": [
      "\n",
      "(Device: cuda) Started training model: TemporalConvNet\n",
      "Early stopping at epoch 267 (no improvement in 50 epochs)\n",
      "Training time:  0:16:22.446134\n",
      "\n",
      "--- Running seed 420 ---\n",
      "\n",
      "--- Training split 0.10 ---\n",
      "\n",
      "(Device: cuda) Started training model: TemporalConvNet\n"
     ]
    },
    {
     "name": "stderr",
     "output_type": "stream",
     "text": [
      "C:\\Users\\centu\\PycharmProjects\\MasterThesis_mmWavePI\\.venv\\Lib\\site-packages\\torch\\nn\\utils\\weight_norm.py:143: FutureWarning: `torch.nn.utils.weight_norm` is deprecated in favor of `torch.nn.utils.parametrizations.weight_norm`.\n",
      "  WeightNorm.apply(module, name, dim)\n"
     ]
    },
    {
     "name": "stdout",
     "output_type": "stream",
     "text": [
      "Early stopping at epoch 117 (no improvement in 50 epochs)\n",
      "Training time:  0:00:40.114969\n",
      "\n",
      "--- Training split 0.20 ---\n"
     ]
    },
    {
     "name": "stderr",
     "output_type": "stream",
     "text": [
      "C:\\Users\\centu\\PycharmProjects\\MasterThesis_mmWavePI\\.venv\\Lib\\site-packages\\torch\\nn\\utils\\weight_norm.py:143: FutureWarning: `torch.nn.utils.weight_norm` is deprecated in favor of `torch.nn.utils.parametrizations.weight_norm`.\n",
      "  WeightNorm.apply(module, name, dim)\n"
     ]
    },
    {
     "name": "stdout",
     "output_type": "stream",
     "text": [
      "\n",
      "(Device: cuda) Started training model: TemporalConvNet\n",
      "Early stopping at epoch 131 (no improvement in 50 epochs)\n",
      "Training time:  0:01:08.263227\n",
      "\n",
      "--- Training split 0.30 ---\n"
     ]
    },
    {
     "name": "stderr",
     "output_type": "stream",
     "text": [
      "C:\\Users\\centu\\PycharmProjects\\MasterThesis_mmWavePI\\.venv\\Lib\\site-packages\\torch\\nn\\utils\\weight_norm.py:143: FutureWarning: `torch.nn.utils.weight_norm` is deprecated in favor of `torch.nn.utils.parametrizations.weight_norm`.\n",
      "  WeightNorm.apply(module, name, dim)\n"
     ]
    },
    {
     "name": "stdout",
     "output_type": "stream",
     "text": [
      "\n",
      "(Device: cuda) Started training model: TemporalConvNet\n",
      "Early stopping at epoch 264 (no improvement in 50 epochs)\n",
      "Training time:  0:03:02.842411\n",
      "\n",
      "--- Training split 0.40 ---\n",
      "\n",
      "(Device: cuda) Started training model: TemporalConvNet\n"
     ]
    },
    {
     "name": "stderr",
     "output_type": "stream",
     "text": [
      "C:\\Users\\centu\\PycharmProjects\\MasterThesis_mmWavePI\\.venv\\Lib\\site-packages\\torch\\nn\\utils\\weight_norm.py:143: FutureWarning: `torch.nn.utils.weight_norm` is deprecated in favor of `torch.nn.utils.parametrizations.weight_norm`.\n",
      "  WeightNorm.apply(module, name, dim)\n"
     ]
    },
    {
     "name": "stdout",
     "output_type": "stream",
     "text": [
      "Early stopping at epoch 308 (no improvement in 50 epochs)\n",
      "Training time:  0:04:22.182536\n",
      "\n",
      "--- Training split 0.50 ---\n",
      "\n",
      "(Device: cuda) Started training model: TemporalConvNet\n"
     ]
    },
    {
     "name": "stderr",
     "output_type": "stream",
     "text": [
      "C:\\Users\\centu\\PycharmProjects\\MasterThesis_mmWavePI\\.venv\\Lib\\site-packages\\torch\\nn\\utils\\weight_norm.py:143: FutureWarning: `torch.nn.utils.weight_norm` is deprecated in favor of `torch.nn.utils.parametrizations.weight_norm`.\n",
      "  WeightNorm.apply(module, name, dim)\n"
     ]
    },
    {
     "name": "stdout",
     "output_type": "stream",
     "text": [
      "Early stopping at epoch 339 (no improvement in 50 epochs)\n",
      "Training time:  0:05:53.726995\n",
      "\n",
      "--- Training split 0.60 ---\n",
      "\n",
      "(Device: cuda) Started training model: TemporalConvNet\n"
     ]
    },
    {
     "name": "stderr",
     "output_type": "stream",
     "text": [
      "C:\\Users\\centu\\PycharmProjects\\MasterThesis_mmWavePI\\.venv\\Lib\\site-packages\\torch\\nn\\utils\\weight_norm.py:143: FutureWarning: `torch.nn.utils.weight_norm` is deprecated in favor of `torch.nn.utils.parametrizations.weight_norm`.\n",
      "  WeightNorm.apply(module, name, dim)\n"
     ]
    },
    {
     "name": "stdout",
     "output_type": "stream",
     "text": [
      "Early stopping at epoch 261 (no improvement in 50 epochs)\n",
      "Training time:  0:05:12.202867\n",
      "\n",
      "--- Training split 0.70 ---\n"
     ]
    },
    {
     "name": "stderr",
     "output_type": "stream",
     "text": [
      "C:\\Users\\centu\\PycharmProjects\\MasterThesis_mmWavePI\\.venv\\Lib\\site-packages\\torch\\nn\\utils\\weight_norm.py:143: FutureWarning: `torch.nn.utils.weight_norm` is deprecated in favor of `torch.nn.utils.parametrizations.weight_norm`.\n",
      "  WeightNorm.apply(module, name, dim)\n"
     ]
    },
    {
     "name": "stdout",
     "output_type": "stream",
     "text": [
      "\n",
      "(Device: cuda) Started training model: TemporalConvNet\n",
      "Early stopping at epoch 282 (no improvement in 50 epochs)\n",
      "Training time:  0:06:24.337399\n",
      "\n",
      "--- Running seed 101010 ---\n",
      "\n",
      "--- Training split 0.10 ---\n",
      "\n",
      "(Device: cuda) Started training model: TemporalConvNet\n"
     ]
    },
    {
     "name": "stderr",
     "output_type": "stream",
     "text": [
      "C:\\Users\\centu\\PycharmProjects\\MasterThesis_mmWavePI\\.venv\\Lib\\site-packages\\torch\\nn\\utils\\weight_norm.py:143: FutureWarning: `torch.nn.utils.weight_norm` is deprecated in favor of `torch.nn.utils.parametrizations.weight_norm`.\n",
      "  WeightNorm.apply(module, name, dim)\n"
     ]
    },
    {
     "name": "stdout",
     "output_type": "stream",
     "text": [
      "Early stopping at epoch 215 (no improvement in 50 epochs)\n",
      "Training time:  0:01:13.934978\n",
      "\n",
      "--- Training split 0.20 ---\n"
     ]
    },
    {
     "name": "stderr",
     "output_type": "stream",
     "text": [
      "C:\\Users\\centu\\PycharmProjects\\MasterThesis_mmWavePI\\.venv\\Lib\\site-packages\\torch\\nn\\utils\\weight_norm.py:143: FutureWarning: `torch.nn.utils.weight_norm` is deprecated in favor of `torch.nn.utils.parametrizations.weight_norm`.\n",
      "  WeightNorm.apply(module, name, dim)\n"
     ]
    },
    {
     "name": "stdout",
     "output_type": "stream",
     "text": [
      "\n",
      "(Device: cuda) Started training model: TemporalConvNet\n",
      "Early stopping at epoch 105 (no improvement in 50 epochs)\n",
      "Training time:  0:00:54.276134\n",
      "\n",
      "--- Training split 0.30 ---\n"
     ]
    },
    {
     "name": "stderr",
     "output_type": "stream",
     "text": [
      "C:\\Users\\centu\\PycharmProjects\\MasterThesis_mmWavePI\\.venv\\Lib\\site-packages\\torch\\nn\\utils\\weight_norm.py:143: FutureWarning: `torch.nn.utils.weight_norm` is deprecated in favor of `torch.nn.utils.parametrizations.weight_norm`.\n",
      "  WeightNorm.apply(module, name, dim)\n"
     ]
    },
    {
     "name": "stdout",
     "output_type": "stream",
     "text": [
      "\n",
      "(Device: cuda) Started training model: TemporalConvNet\n",
      "Early stopping at epoch 93 (no improvement in 50 epochs)\n",
      "Training time:  0:01:03.954069\n",
      "\n",
      "--- Training split 0.40 ---\n",
      "\n",
      "(Device: cuda) Started training model: TemporalConvNet\n"
     ]
    },
    {
     "name": "stderr",
     "output_type": "stream",
     "text": [
      "C:\\Users\\centu\\PycharmProjects\\MasterThesis_mmWavePI\\.venv\\Lib\\site-packages\\torch\\nn\\utils\\weight_norm.py:143: FutureWarning: `torch.nn.utils.weight_norm` is deprecated in favor of `torch.nn.utils.parametrizations.weight_norm`.\n",
      "  WeightNorm.apply(module, name, dim)\n"
     ]
    },
    {
     "name": "stdout",
     "output_type": "stream",
     "text": [
      "Early stopping at epoch 278 (no improvement in 50 epochs)\n",
      "Training time:  0:03:57.210474\n",
      "\n",
      "--- Training split 0.50 ---\n",
      "\n",
      "(Device: cuda) Started training model: TemporalConvNet\n"
     ]
    },
    {
     "name": "stderr",
     "output_type": "stream",
     "text": [
      "C:\\Users\\centu\\PycharmProjects\\MasterThesis_mmWavePI\\.venv\\Lib\\site-packages\\torch\\nn\\utils\\weight_norm.py:143: FutureWarning: `torch.nn.utils.weight_norm` is deprecated in favor of `torch.nn.utils.parametrizations.weight_norm`.\n",
      "  WeightNorm.apply(module, name, dim)\n"
     ]
    },
    {
     "name": "stdout",
     "output_type": "stream",
     "text": [
      "Early stopping at epoch 303 (no improvement in 50 epochs)\n",
      "Training time:  0:05:15.682091\n",
      "\n",
      "--- Training split 0.60 ---\n",
      "\n",
      "(Device: cuda) Started training model: TemporalConvNet\n"
     ]
    },
    {
     "name": "stderr",
     "output_type": "stream",
     "text": [
      "C:\\Users\\centu\\PycharmProjects\\MasterThesis_mmWavePI\\.venv\\Lib\\site-packages\\torch\\nn\\utils\\weight_norm.py:143: FutureWarning: `torch.nn.utils.weight_norm` is deprecated in favor of `torch.nn.utils.parametrizations.weight_norm`.\n",
      "  WeightNorm.apply(module, name, dim)\n"
     ]
    },
    {
     "name": "stdout",
     "output_type": "stream",
     "text": [
      "Early stopping at epoch 226 (no improvement in 50 epochs)\n",
      "Training time:  0:04:29.795496\n",
      "\n",
      "--- Training split 0.70 ---\n"
     ]
    },
    {
     "name": "stderr",
     "output_type": "stream",
     "text": [
      "C:\\Users\\centu\\PycharmProjects\\MasterThesis_mmWavePI\\.venv\\Lib\\site-packages\\torch\\nn\\utils\\weight_norm.py:143: FutureWarning: `torch.nn.utils.weight_norm` is deprecated in favor of `torch.nn.utils.parametrizations.weight_norm`.\n",
      "  WeightNorm.apply(module, name, dim)\n"
     ]
    },
    {
     "name": "stdout",
     "output_type": "stream",
     "text": [
      "\n",
      "(Device: cuda) Started training model: TemporalConvNet\n",
      "Early stopping at epoch 354 (no improvement in 50 epochs)\n",
      "Training time:  0:08:05.653869\n",
      "seed outputs:  [([0.1, 0.2, 0.3, 0.4, 0.5, 0.6, 0.7], [0.53, 0.65, 0.77, 0.94, 0.94, 0.94, 0.97], [0.39, 0.56, 0.73, 0.74, 0.85, 0.92, 0.94]), ([0.1, 0.2, 0.3, 0.4, 0.5, 0.6, 0.7], [0.42, 0.65, 0.76, 0.89, 0.94, 0.97, 0.98], [0.44, 0.66, 0.68, 0.82, 0.84, 0.89, 0.95]), ([0.1, 0.2, 0.3, 0.4, 0.5, 0.6, 0.7], [0.52, 0.65, 0.58, 0.92, 0.95, 0.94, 0.98], [0.42, 0.6, 0.65, 0.79, 0.82, 0.9, 0.87])]\n",
      "Running experiment for 60ghz_collected...\n",
      "\n",
      "--- Running seed 42 ---\n",
      "\n",
      "--- Training split 0.10 ---\n",
      "\n",
      "(Device: cuda) Started training model: TemporalConvNet\n"
     ]
    },
    {
     "name": "stderr",
     "output_type": "stream",
     "text": [
      "C:\\Users\\centu\\PycharmProjects\\MasterThesis_mmWavePI\\.venv\\Lib\\site-packages\\torch\\nn\\utils\\weight_norm.py:143: FutureWarning: `torch.nn.utils.weight_norm` is deprecated in favor of `torch.nn.utils.parametrizations.weight_norm`.\n",
      "  WeightNorm.apply(module, name, dim)\n"
     ]
    },
    {
     "name": "stdout",
     "output_type": "stream",
     "text": [
      "Early stopping at epoch 288 (no improvement in 50 epochs)\n",
      "Training time:  0:01:48.674294\n",
      "\n",
      "--- Training split 0.20 ---\n",
      "\n",
      "(Device: cuda) Started training model: TemporalConvNet\n"
     ]
    },
    {
     "name": "stderr",
     "output_type": "stream",
     "text": [
      "C:\\Users\\centu\\PycharmProjects\\MasterThesis_mmWavePI\\.venv\\Lib\\site-packages\\torch\\nn\\utils\\weight_norm.py:143: FutureWarning: `torch.nn.utils.weight_norm` is deprecated in favor of `torch.nn.utils.parametrizations.weight_norm`.\n",
      "  WeightNorm.apply(module, name, dim)\n"
     ]
    },
    {
     "name": "stdout",
     "output_type": "stream",
     "text": [
      "Early stopping at epoch 182 (no improvement in 50 epochs)\n",
      "Training time:  0:01:45.137807\n",
      "\n",
      "--- Training split 0.30 ---\n",
      "\n",
      "(Device: cuda) Started training model: TemporalConvNet\n"
     ]
    },
    {
     "name": "stderr",
     "output_type": "stream",
     "text": [
      "C:\\Users\\centu\\PycharmProjects\\MasterThesis_mmWavePI\\.venv\\Lib\\site-packages\\torch\\nn\\utils\\weight_norm.py:143: FutureWarning: `torch.nn.utils.weight_norm` is deprecated in favor of `torch.nn.utils.parametrizations.weight_norm`.\n",
      "  WeightNorm.apply(module, name, dim)\n"
     ]
    },
    {
     "name": "stdout",
     "output_type": "stream",
     "text": [
      "Early stopping at epoch 207 (no improvement in 50 epochs)\n",
      "Training time:  0:02:35.325325\n",
      "\n",
      "--- Training split 0.40 ---\n",
      "\n",
      "(Device: cuda) Started training model: TemporalConvNet\n"
     ]
    },
    {
     "name": "stderr",
     "output_type": "stream",
     "text": [
      "C:\\Users\\centu\\PycharmProjects\\MasterThesis_mmWavePI\\.venv\\Lib\\site-packages\\torch\\nn\\utils\\weight_norm.py:143: FutureWarning: `torch.nn.utils.weight_norm` is deprecated in favor of `torch.nn.utils.parametrizations.weight_norm`.\n",
      "  WeightNorm.apply(module, name, dim)\n"
     ]
    },
    {
     "name": "stdout",
     "output_type": "stream",
     "text": [
      "Early stopping at epoch 291 (no improvement in 50 epochs)\n",
      "Training time:  0:04:41.593453\n",
      "\n",
      "--- Training split 0.50 ---\n",
      "\n",
      "(Device: cuda) Started training model: TemporalConvNet\n"
     ]
    },
    {
     "name": "stderr",
     "output_type": "stream",
     "text": [
      "C:\\Users\\centu\\PycharmProjects\\MasterThesis_mmWavePI\\.venv\\Lib\\site-packages\\torch\\nn\\utils\\weight_norm.py:143: FutureWarning: `torch.nn.utils.weight_norm` is deprecated in favor of `torch.nn.utils.parametrizations.weight_norm`.\n",
      "  WeightNorm.apply(module, name, dim)\n"
     ]
    },
    {
     "name": "stdout",
     "output_type": "stream",
     "text": [
      "Early stopping at epoch 290 (no improvement in 50 epochs)\n",
      "Training time:  0:05:29.164723\n",
      "\n",
      "--- Training split 0.60 ---\n",
      "\n",
      "(Device: cuda) Started training model: TemporalConvNet\n"
     ]
    },
    {
     "name": "stderr",
     "output_type": "stream",
     "text": [
      "C:\\Users\\centu\\PycharmProjects\\MasterThesis_mmWavePI\\.venv\\Lib\\site-packages\\torch\\nn\\utils\\weight_norm.py:143: FutureWarning: `torch.nn.utils.weight_norm` is deprecated in favor of `torch.nn.utils.parametrizations.weight_norm`.\n",
      "  WeightNorm.apply(module, name, dim)\n"
     ]
    },
    {
     "name": "stdout",
     "output_type": "stream",
     "text": [
      "Early stopping at epoch 304 (no improvement in 50 epochs)\n",
      "Training time:  0:06:39.003179\n",
      "\n",
      "--- Training split 0.70 ---\n",
      "\n",
      "(Device: cuda) Started training model: TemporalConvNet\n"
     ]
    },
    {
     "name": "stderr",
     "output_type": "stream",
     "text": [
      "C:\\Users\\centu\\PycharmProjects\\MasterThesis_mmWavePI\\.venv\\Lib\\site-packages\\torch\\nn\\utils\\weight_norm.py:143: FutureWarning: `torch.nn.utils.weight_norm` is deprecated in favor of `torch.nn.utils.parametrizations.weight_norm`.\n",
      "  WeightNorm.apply(module, name, dim)\n"
     ]
    },
    {
     "name": "stdout",
     "output_type": "stream",
     "text": [
      "Early stopping at epoch 151 (no improvement in 50 epochs)\n",
      "Training time:  0:03:44.132265\n",
      "\n",
      "--- Running seed 420 ---\n",
      "\n",
      "--- Training split 0.10 ---\n",
      "\n",
      "(Device: cuda) Started training model: TemporalConvNet\n"
     ]
    },
    {
     "name": "stderr",
     "output_type": "stream",
     "text": [
      "C:\\Users\\centu\\PycharmProjects\\MasterThesis_mmWavePI\\.venv\\Lib\\site-packages\\torch\\nn\\utils\\weight_norm.py:143: FutureWarning: `torch.nn.utils.weight_norm` is deprecated in favor of `torch.nn.utils.parametrizations.weight_norm`.\n",
      "  WeightNorm.apply(module, name, dim)\n"
     ]
    },
    {
     "name": "stdout",
     "output_type": "stream",
     "text": [
      "Early stopping at epoch 108 (no improvement in 50 epochs)\n",
      "Training time:  0:00:40.107473\n",
      "\n",
      "--- Training split 0.20 ---\n",
      "\n",
      "(Device: cuda) Started training model: TemporalConvNet\n"
     ]
    },
    {
     "name": "stderr",
     "output_type": "stream",
     "text": [
      "C:\\Users\\centu\\PycharmProjects\\MasterThesis_mmWavePI\\.venv\\Lib\\site-packages\\torch\\nn\\utils\\weight_norm.py:143: FutureWarning: `torch.nn.utils.weight_norm` is deprecated in favor of `torch.nn.utils.parametrizations.weight_norm`.\n",
      "  WeightNorm.apply(module, name, dim)\n"
     ]
    },
    {
     "name": "stdout",
     "output_type": "stream",
     "text": [
      "Early stopping at epoch 124 (no improvement in 50 epochs)\n",
      "Training time:  0:01:11.756623\n",
      "\n",
      "--- Training split 0.30 ---\n",
      "\n",
      "(Device: cuda) Started training model: TemporalConvNet\n"
     ]
    },
    {
     "name": "stderr",
     "output_type": "stream",
     "text": [
      "C:\\Users\\centu\\PycharmProjects\\MasterThesis_mmWavePI\\.venv\\Lib\\site-packages\\torch\\nn\\utils\\weight_norm.py:143: FutureWarning: `torch.nn.utils.weight_norm` is deprecated in favor of `torch.nn.utils.parametrizations.weight_norm`.\n",
      "  WeightNorm.apply(module, name, dim)\n"
     ]
    },
    {
     "name": "stdout",
     "output_type": "stream",
     "text": [
      "Early stopping at epoch 126 (no improvement in 50 epochs)\n",
      "Training time:  0:01:34.798597\n",
      "\n",
      "--- Training split 0.40 ---\n",
      "\n",
      "(Device: cuda) Started training model: TemporalConvNet\n"
     ]
    },
    {
     "name": "stderr",
     "output_type": "stream",
     "text": [
      "C:\\Users\\centu\\PycharmProjects\\MasterThesis_mmWavePI\\.venv\\Lib\\site-packages\\torch\\nn\\utils\\weight_norm.py:143: FutureWarning: `torch.nn.utils.weight_norm` is deprecated in favor of `torch.nn.utils.parametrizations.weight_norm`.\n",
      "  WeightNorm.apply(module, name, dim)\n"
     ]
    },
    {
     "name": "stdout",
     "output_type": "stream",
     "text": [
      "Early stopping at epoch 436 (no improvement in 50 epochs)\n",
      "Training time:  0:06:51.287163\n",
      "\n",
      "--- Training split 0.50 ---\n",
      "\n",
      "(Device: cuda) Started training model: TemporalConvNet\n"
     ]
    },
    {
     "name": "stderr",
     "output_type": "stream",
     "text": [
      "C:\\Users\\centu\\PycharmProjects\\MasterThesis_mmWavePI\\.venv\\Lib\\site-packages\\torch\\nn\\utils\\weight_norm.py:143: FutureWarning: `torch.nn.utils.weight_norm` is deprecated in favor of `torch.nn.utils.parametrizations.weight_norm`.\n",
      "  WeightNorm.apply(module, name, dim)\n"
     ]
    },
    {
     "name": "stdout",
     "output_type": "stream",
     "text": [
      "Early stopping at epoch 196 (no improvement in 50 epochs)\n",
      "Training time:  0:03:42.211264\n",
      "\n",
      "--- Training split 0.60 ---\n",
      "\n",
      "(Device: cuda) Started training model: TemporalConvNet\n"
     ]
    },
    {
     "name": "stderr",
     "output_type": "stream",
     "text": [
      "C:\\Users\\centu\\PycharmProjects\\MasterThesis_mmWavePI\\.venv\\Lib\\site-packages\\torch\\nn\\utils\\weight_norm.py:143: FutureWarning: `torch.nn.utils.weight_norm` is deprecated in favor of `torch.nn.utils.parametrizations.weight_norm`.\n",
      "  WeightNorm.apply(module, name, dim)\n"
     ]
    },
    {
     "name": "stdout",
     "output_type": "stream",
     "text": [
      "Early stopping at epoch 213 (no improvement in 50 epochs)\n",
      "Training time:  0:04:39.834294\n",
      "\n",
      "--- Training split 0.70 ---\n",
      "\n",
      "(Device: cuda) Started training model: TemporalConvNet\n"
     ]
    },
    {
     "name": "stderr",
     "output_type": "stream",
     "text": [
      "C:\\Users\\centu\\PycharmProjects\\MasterThesis_mmWavePI\\.venv\\Lib\\site-packages\\torch\\nn\\utils\\weight_norm.py:143: FutureWarning: `torch.nn.utils.weight_norm` is deprecated in favor of `torch.nn.utils.parametrizations.weight_norm`.\n",
      "  WeightNorm.apply(module, name, dim)\n"
     ]
    },
    {
     "name": "stdout",
     "output_type": "stream",
     "text": [
      "Early stopping at epoch 183 (no improvement in 50 epochs)\n",
      "Training time:  0:04:32.953336\n",
      "\n",
      "--- Running seed 101010 ---\n",
      "\n",
      "--- Training split 0.10 ---\n",
      "\n",
      "(Device: cuda) Started training model: TemporalConvNet\n"
     ]
    },
    {
     "name": "stderr",
     "output_type": "stream",
     "text": [
      "C:\\Users\\centu\\PycharmProjects\\MasterThesis_mmWavePI\\.venv\\Lib\\site-packages\\torch\\nn\\utils\\weight_norm.py:143: FutureWarning: `torch.nn.utils.weight_norm` is deprecated in favor of `torch.nn.utils.parametrizations.weight_norm`.\n",
      "  WeightNorm.apply(module, name, dim)\n"
     ]
    },
    {
     "name": "stdout",
     "output_type": "stream",
     "text": [
      "Early stopping at epoch 176 (no improvement in 50 epochs)\n",
      "Training time:  0:01:07.621197\n",
      "\n",
      "--- Training split 0.20 ---\n",
      "\n",
      "(Device: cuda) Started training model: TemporalConvNet\n"
     ]
    },
    {
     "name": "stderr",
     "output_type": "stream",
     "text": [
      "C:\\Users\\centu\\PycharmProjects\\MasterThesis_mmWavePI\\.venv\\Lib\\site-packages\\torch\\nn\\utils\\weight_norm.py:143: FutureWarning: `torch.nn.utils.weight_norm` is deprecated in favor of `torch.nn.utils.parametrizations.weight_norm`.\n",
      "  WeightNorm.apply(module, name, dim)\n"
     ]
    },
    {
     "name": "stdout",
     "output_type": "stream",
     "text": [
      "Early stopping at epoch 218 (no improvement in 50 epochs)\n",
      "Training time:  0:02:05.825037\n",
      "\n",
      "--- Training split 0.30 ---\n",
      "\n",
      "(Device: cuda) Started training model: TemporalConvNet\n"
     ]
    },
    {
     "name": "stderr",
     "output_type": "stream",
     "text": [
      "C:\\Users\\centu\\PycharmProjects\\MasterThesis_mmWavePI\\.venv\\Lib\\site-packages\\torch\\nn\\utils\\weight_norm.py:143: FutureWarning: `torch.nn.utils.weight_norm` is deprecated in favor of `torch.nn.utils.parametrizations.weight_norm`.\n",
      "  WeightNorm.apply(module, name, dim)\n"
     ]
    },
    {
     "name": "stdout",
     "output_type": "stream",
     "text": [
      "Early stopping at epoch 203 (no improvement in 50 epochs)\n",
      "Training time:  0:02:32.910304\n",
      "\n",
      "--- Training split 0.40 ---\n",
      "\n",
      "(Device: cuda) Started training model: TemporalConvNet\n"
     ]
    },
    {
     "name": "stderr",
     "output_type": "stream",
     "text": [
      "C:\\Users\\centu\\PycharmProjects\\MasterThesis_mmWavePI\\.venv\\Lib\\site-packages\\torch\\nn\\utils\\weight_norm.py:143: FutureWarning: `torch.nn.utils.weight_norm` is deprecated in favor of `torch.nn.utils.parametrizations.weight_norm`.\n",
      "  WeightNorm.apply(module, name, dim)\n"
     ]
    },
    {
     "name": "stdout",
     "output_type": "stream",
     "text": [
      "Early stopping at epoch 252 (no improvement in 50 epochs)\n",
      "Training time:  0:03:57.765263\n",
      "\n",
      "--- Training split 0.50 ---\n",
      "\n",
      "(Device: cuda) Started training model: TemporalConvNet\n"
     ]
    },
    {
     "name": "stderr",
     "output_type": "stream",
     "text": [
      "C:\\Users\\centu\\PycharmProjects\\MasterThesis_mmWavePI\\.venv\\Lib\\site-packages\\torch\\nn\\utils\\weight_norm.py:143: FutureWarning: `torch.nn.utils.weight_norm` is deprecated in favor of `torch.nn.utils.parametrizations.weight_norm`.\n",
      "  WeightNorm.apply(module, name, dim)\n"
     ]
    },
    {
     "name": "stdout",
     "output_type": "stream",
     "text": [
      "Early stopping at epoch 244 (no improvement in 50 epochs)\n",
      "Training time:  0:04:35.834671\n",
      "\n",
      "--- Training split 0.60 ---\n",
      "\n",
      "(Device: cuda) Started training model: TemporalConvNet\n"
     ]
    },
    {
     "name": "stderr",
     "output_type": "stream",
     "text": [
      "C:\\Users\\centu\\PycharmProjects\\MasterThesis_mmWavePI\\.venv\\Lib\\site-packages\\torch\\nn\\utils\\weight_norm.py:143: FutureWarning: `torch.nn.utils.weight_norm` is deprecated in favor of `torch.nn.utils.parametrizations.weight_norm`.\n",
      "  WeightNorm.apply(module, name, dim)\n"
     ]
    },
    {
     "name": "stdout",
     "output_type": "stream",
     "text": [
      "Early stopping at epoch 242 (no improvement in 50 epochs)\n",
      "Training time:  0:05:17.512092\n",
      "\n",
      "--- Training split 0.70 ---\n",
      "\n",
      "(Device: cuda) Started training model: TemporalConvNet\n"
     ]
    },
    {
     "name": "stderr",
     "output_type": "stream",
     "text": [
      "C:\\Users\\centu\\PycharmProjects\\MasterThesis_mmWavePI\\.venv\\Lib\\site-packages\\torch\\nn\\utils\\weight_norm.py:143: FutureWarning: `torch.nn.utils.weight_norm` is deprecated in favor of `torch.nn.utils.parametrizations.weight_norm`.\n",
      "  WeightNorm.apply(module, name, dim)\n"
     ]
    },
    {
     "name": "stdout",
     "output_type": "stream",
     "text": [
      "Early stopping at epoch 223 (no improvement in 50 epochs)\n",
      "Training time:  0:05:34.610058\n",
      "seed outputs:  [([0.1, 0.2, 0.3, 0.4, 0.5, 0.6, 0.7], [0.68, 0.68, 0.84, 0.93, 0.9, 0.99, 0.99], [0.74, 0.65, 0.78, 0.82, 0.84, 0.96, 0.94]), ([0.1, 0.2, 0.3, 0.4, 0.5, 0.6, 0.7], [0.65, 0.62, 0.81, 0.91, 0.96, 0.97, 0.99], [0.65, 0.71, 0.71, 0.85, 0.91, 0.96, 0.93]), ([0.1, 0.2, 0.3, 0.4, 0.5, 0.6, 0.7], [0.66, 0.78, 0.82, 0.88, 0.96, 0.96, 0.99], [0.66, 0.69, 0.81, 0.82, 0.93, 0.96, 0.96])]\n"
     ]
    }
   ],
   "execution_count": 3
  },
  {
   "metadata": {
    "ExecuteTime": {
     "end_time": "2025-06-03T07:09:28.660080Z",
     "start_time": "2025-06-03T07:09:28.457040Z"
    }
   },
   "cell_type": "code",
   "source": "plot_learning_curves(results_dict=results_per_signal, std_dict=stds_per_signal)",
   "id": "4af78d398c435a92",
   "outputs": [
    {
     "data": {
      "text/plain": [
       "<Figure size 640x480 with 1 Axes>"
      ],
      "image/png": "[encoded data removed]"
     },
     "metadata": {},
     "output_type": "display_data"
    }
   ],
   "execution_count": 4
  },
  {
   "metadata": {
    "ExecuteTime": {
     "end_time": "2025-06-03T12:48:59.668825Z",
     "start_time": "2025-06-03T07:09:28.666576Z"
    }
   },
   "cell_type": "code",
   "source": [
    "results_per_signal, stds_per_signal = run_experiment_with_seeds(experiment_func=get_learning_curve_data,\n",
    "                                                                signal_configs=signal_configs,\n",
    "                                                                varying_param_name='train_splits',\n",
    "                                                                varying_param_value=train_splits,\n",
    "                                                                n_seeds=num_seeds,\n",
    "                                                                accuracy_type=accuracy_type,\n",
    "                                                                seconds_per_sample=3)"
   ],
   "id": "a4cee4f930b24664",
   "outputs": [
    {
     "name": "stdout",
     "output_type": "stream",
     "text": [
      "Running experiment for 5ghz_10hz...\n",
      "\n",
      "--- Running seed 42 ---\n",
      "\n",
      "--- Training split 0.10 ---\n",
      "\n",
      "(Device: cuda) Started training model: TemporalConvNet\n"
     ]
    },
    {
     "name": "stderr",
     "output_type": "stream",
     "text": [
      "C:\\Users\\centu\\PycharmProjects\\MasterThesis_mmWavePI\\.venv\\Lib\\site-packages\\torch\\nn\\utils\\weight_norm.py:143: FutureWarning: `torch.nn.utils.weight_norm` is deprecated in favor of `torch.nn.utils.parametrizations.weight_norm`.\n",
      "  WeightNorm.apply(module, name, dim)\n"
     ]
    },
    {
     "name": "stdout",
     "output_type": "stream",
     "text": [
      "Early stopping at epoch 87 (no improvement in 50 epochs)\n",
      "Training time:  0:00:59.633162\n",
      "\n",
      "--- Training split 0.20 ---\n",
      "\n",
      "(Device: cuda) Started training model: TemporalConvNet\n"
     ]
    },
    {
     "name": "stderr",
     "output_type": "stream",
     "text": [
      "C:\\Users\\centu\\PycharmProjects\\MasterThesis_mmWavePI\\.venv\\Lib\\site-packages\\torch\\nn\\utils\\weight_norm.py:143: FutureWarning: `torch.nn.utils.weight_norm` is deprecated in favor of `torch.nn.utils.parametrizations.weight_norm`.\n",
      "  WeightNorm.apply(module, name, dim)\n"
     ]
    },
    {
     "name": "stdout",
     "output_type": "stream",
     "text": [
      "Early stopping at epoch 94 (no improvement in 50 epochs)\n",
      "Training time:  0:01:35.006811\n",
      "\n",
      "--- Training split 0.30 ---\n",
      "\n",
      "(Device: cuda) Started training model: TemporalConvNet\n"
     ]
    },
    {
     "name": "stderr",
     "output_type": "stream",
     "text": [
      "C:\\Users\\centu\\PycharmProjects\\MasterThesis_mmWavePI\\.venv\\Lib\\site-packages\\torch\\nn\\utils\\weight_norm.py:143: FutureWarning: `torch.nn.utils.weight_norm` is deprecated in favor of `torch.nn.utils.parametrizations.weight_norm`.\n",
      "  WeightNorm.apply(module, name, dim)\n"
     ]
    },
    {
     "name": "stdout",
     "output_type": "stream",
     "text": [
      "Early stopping at epoch 131 (no improvement in 50 epochs)\n",
      "Training time:  0:02:51.269406\n",
      "\n",
      "--- Training split 0.40 ---\n",
      "\n",
      "(Device: cuda) Started training model: TemporalConvNet\n"
     ]
    },
    {
     "name": "stderr",
     "output_type": "stream",
     "text": [
      "C:\\Users\\centu\\PycharmProjects\\MasterThesis_mmWavePI\\.venv\\Lib\\site-packages\\torch\\nn\\utils\\weight_norm.py:143: FutureWarning: `torch.nn.utils.weight_norm` is deprecated in favor of `torch.nn.utils.parametrizations.weight_norm`.\n",
      "  WeightNorm.apply(module, name, dim)\n"
     ]
    },
    {
     "name": "stdout",
     "output_type": "stream",
     "text": [
      "Early stopping at epoch 245 (no improvement in 50 epochs)\n",
      "Training time:  0:06:39.154223\n",
      "\n",
      "--- Training split 0.50 ---\n",
      "\n",
      "(Device: cuda) Started training model: TemporalConvNet\n"
     ]
    },
    {
     "name": "stderr",
     "output_type": "stream",
     "text": [
      "C:\\Users\\centu\\PycharmProjects\\MasterThesis_mmWavePI\\.venv\\Lib\\site-packages\\torch\\nn\\utils\\weight_norm.py:143: FutureWarning: `torch.nn.utils.weight_norm` is deprecated in favor of `torch.nn.utils.parametrizations.weight_norm`.\n",
      "  WeightNorm.apply(module, name, dim)\n"
     ]
    },
    {
     "name": "stdout",
     "output_type": "stream",
     "text": [
      "Early stopping at epoch 196 (no improvement in 50 epochs)\n",
      "Training time:  0:06:23.942710\n",
      "\n",
      "--- Training split 0.60 ---\n",
      "\n",
      "(Device: cuda) Started training model: TemporalConvNet\n"
     ]
    },
    {
     "name": "stderr",
     "output_type": "stream",
     "text": [
      "C:\\Users\\centu\\PycharmProjects\\MasterThesis_mmWavePI\\.venv\\Lib\\site-packages\\torch\\nn\\utils\\weight_norm.py:143: FutureWarning: `torch.nn.utils.weight_norm` is deprecated in favor of `torch.nn.utils.parametrizations.weight_norm`.\n",
      "  WeightNorm.apply(module, name, dim)\n"
     ]
    },
    {
     "name": "stdout",
     "output_type": "stream",
     "text": [
      "Early stopping at epoch 187 (no improvement in 50 epochs)\n",
      "Training time:  0:07:03.087403\n",
      "\n",
      "--- Training split 0.70 ---\n",
      "\n",
      "(Device: cuda) Started training model: TemporalConvNet\n"
     ]
    },
    {
     "name": "stderr",
     "output_type": "stream",
     "text": [
      "C:\\Users\\centu\\PycharmProjects\\MasterThesis_mmWavePI\\.venv\\Lib\\site-packages\\torch\\nn\\utils\\weight_norm.py:143: FutureWarning: `torch.nn.utils.weight_norm` is deprecated in favor of `torch.nn.utils.parametrizations.weight_norm`.\n",
      "  WeightNorm.apply(module, name, dim)\n"
     ]
    },
    {
     "name": "stdout",
     "output_type": "stream",
     "text": [
      "Early stopping at epoch 280 (no improvement in 50 epochs)\n",
      "Training time:  0:11:57.434874\n",
      "\n",
      "--- Running seed 420 ---\n",
      "\n",
      "--- Training split 0.10 ---\n",
      "\n",
      "(Device: cuda) Started training model: TemporalConvNet\n"
     ]
    },
    {
     "name": "stderr",
     "output_type": "stream",
     "text": [
      "C:\\Users\\centu\\PycharmProjects\\MasterThesis_mmWavePI\\.venv\\Lib\\site-packages\\torch\\nn\\utils\\weight_norm.py:143: FutureWarning: `torch.nn.utils.weight_norm` is deprecated in favor of `torch.nn.utils.parametrizations.weight_norm`.\n",
      "  WeightNorm.apply(module, name, dim)\n"
     ]
    },
    {
     "name": "stdout",
     "output_type": "stream",
     "text": [
      "Early stopping at epoch 83 (no improvement in 50 epochs)\n",
      "Training time:  0:00:57.576893\n",
      "\n",
      "--- Training split 0.20 ---\n",
      "\n",
      "(Device: cuda) Started training model: TemporalConvNet\n"
     ]
    },
    {
     "name": "stderr",
     "output_type": "stream",
     "text": [
      "C:\\Users\\centu\\PycharmProjects\\MasterThesis_mmWavePI\\.venv\\Lib\\site-packages\\torch\\nn\\utils\\weight_norm.py:143: FutureWarning: `torch.nn.utils.weight_norm` is deprecated in favor of `torch.nn.utils.parametrizations.weight_norm`.\n",
      "  WeightNorm.apply(module, name, dim)\n"
     ]
    },
    {
     "name": "stdout",
     "output_type": "stream",
     "text": [
      "Early stopping at epoch 99 (no improvement in 50 epochs)\n",
      "Training time:  0:01:39.628402\n",
      "\n",
      "--- Training split 0.30 ---\n",
      "\n",
      "(Device: cuda) Started training model: TemporalConvNet\n"
     ]
    },
    {
     "name": "stderr",
     "output_type": "stream",
     "text": [
      "C:\\Users\\centu\\PycharmProjects\\MasterThesis_mmWavePI\\.venv\\Lib\\site-packages\\torch\\nn\\utils\\weight_norm.py:143: FutureWarning: `torch.nn.utils.weight_norm` is deprecated in favor of `torch.nn.utils.parametrizations.weight_norm`.\n",
      "  WeightNorm.apply(module, name, dim)\n"
     ]
    },
    {
     "name": "stdout",
     "output_type": "stream",
     "text": [
      "Early stopping at epoch 194 (no improvement in 50 epochs)\n",
      "Training time:  0:04:14.051337\n",
      "\n",
      "--- Training split 0.40 ---\n",
      "\n",
      "(Device: cuda) Started training model: TemporalConvNet\n"
     ]
    },
    {
     "name": "stderr",
     "output_type": "stream",
     "text": [
      "C:\\Users\\centu\\PycharmProjects\\MasterThesis_mmWavePI\\.venv\\Lib\\site-packages\\torch\\nn\\utils\\weight_norm.py:143: FutureWarning: `torch.nn.utils.weight_norm` is deprecated in favor of `torch.nn.utils.parametrizations.weight_norm`.\n",
      "  WeightNorm.apply(module, name, dim)\n"
     ]
    },
    {
     "name": "stdout",
     "output_type": "stream",
     "text": [
      "Early stopping at epoch 219 (no improvement in 50 epochs)\n",
      "Training time:  0:05:58.385835\n",
      "\n",
      "--- Training split 0.50 ---\n",
      "\n",
      "(Device: cuda) Started training model: TemporalConvNet\n"
     ]
    },
    {
     "name": "stderr",
     "output_type": "stream",
     "text": [
      "C:\\Users\\centu\\PycharmProjects\\MasterThesis_mmWavePI\\.venv\\Lib\\site-packages\\torch\\nn\\utils\\weight_norm.py:143: FutureWarning: `torch.nn.utils.weight_norm` is deprecated in favor of `torch.nn.utils.parametrizations.weight_norm`.\n",
      "  WeightNorm.apply(module, name, dim)\n"
     ]
    },
    {
     "name": "stdout",
     "output_type": "stream",
     "text": [
      "Early stopping at epoch 210 (no improvement in 50 epochs)\n",
      "Training time:  0:06:50.830392\n",
      "\n",
      "--- Training split 0.60 ---\n",
      "\n",
      "(Device: cuda) Started training model: TemporalConvNet\n"
     ]
    },
    {
     "name": "stderr",
     "output_type": "stream",
     "text": [
      "C:\\Users\\centu\\PycharmProjects\\MasterThesis_mmWavePI\\.venv\\Lib\\site-packages\\torch\\nn\\utils\\weight_norm.py:143: FutureWarning: `torch.nn.utils.weight_norm` is deprecated in favor of `torch.nn.utils.parametrizations.weight_norm`.\n",
      "  WeightNorm.apply(module, name, dim)\n"
     ]
    },
    {
     "name": "stdout",
     "output_type": "stream",
     "text": [
      "Early stopping at epoch 195 (no improvement in 50 epochs)\n",
      "Training time:  0:07:20.007816\n",
      "\n",
      "--- Training split 0.70 ---\n",
      "\n",
      "(Device: cuda) Started training model: TemporalConvNet\n"
     ]
    },
    {
     "name": "stderr",
     "output_type": "stream",
     "text": [
      "C:\\Users\\centu\\PycharmProjects\\MasterThesis_mmWavePI\\.venv\\Lib\\site-packages\\torch\\nn\\utils\\weight_norm.py:143: FutureWarning: `torch.nn.utils.weight_norm` is deprecated in favor of `torch.nn.utils.parametrizations.weight_norm`.\n",
      "  WeightNorm.apply(module, name, dim)\n"
     ]
    },
    {
     "name": "stdout",
     "output_type": "stream",
     "text": [
      "Early stopping at epoch 247 (no improvement in 50 epochs)\n",
      "Training time:  0:10:33.152009\n",
      "\n",
      "--- Running seed 101010 ---\n",
      "\n",
      "--- Training split 0.10 ---\n",
      "\n",
      "(Device: cuda) Started training model: TemporalConvNet\n"
     ]
    },
    {
     "name": "stderr",
     "output_type": "stream",
     "text": [
      "C:\\Users\\centu\\PycharmProjects\\MasterThesis_mmWavePI\\.venv\\Lib\\site-packages\\torch\\nn\\utils\\weight_norm.py:143: FutureWarning: `torch.nn.utils.weight_norm` is deprecated in favor of `torch.nn.utils.parametrizations.weight_norm`.\n",
      "  WeightNorm.apply(module, name, dim)\n"
     ]
    },
    {
     "name": "stdout",
     "output_type": "stream",
     "text": [
      "Early stopping at epoch 86 (no improvement in 50 epochs)\n",
      "Training time:  0:00:58.604228\n",
      "\n",
      "--- Training split 0.20 ---\n",
      "\n",
      "(Device: cuda) Started training model: TemporalConvNet\n"
     ]
    },
    {
     "name": "stderr",
     "output_type": "stream",
     "text": [
      "C:\\Users\\centu\\PycharmProjects\\MasterThesis_mmWavePI\\.venv\\Lib\\site-packages\\torch\\nn\\utils\\weight_norm.py:143: FutureWarning: `torch.nn.utils.weight_norm` is deprecated in favor of `torch.nn.utils.parametrizations.weight_norm`.\n",
      "  WeightNorm.apply(module, name, dim)\n"
     ]
    },
    {
     "name": "stdout",
     "output_type": "stream",
     "text": [
      "Early stopping at epoch 88 (no improvement in 50 epochs)\n",
      "Training time:  0:01:30.959575\n",
      "\n",
      "--- Training split 0.30 ---\n",
      "\n",
      "(Device: cuda) Started training model: TemporalConvNet\n"
     ]
    },
    {
     "name": "stderr",
     "output_type": "stream",
     "text": [
      "C:\\Users\\centu\\PycharmProjects\\MasterThesis_mmWavePI\\.venv\\Lib\\site-packages\\torch\\nn\\utils\\weight_norm.py:143: FutureWarning: `torch.nn.utils.weight_norm` is deprecated in favor of `torch.nn.utils.parametrizations.weight_norm`.\n",
      "  WeightNorm.apply(module, name, dim)\n"
     ]
    },
    {
     "name": "stdout",
     "output_type": "stream",
     "text": [
      "Early stopping at epoch 134 (no improvement in 50 epochs)\n",
      "Training time:  0:02:55.877645\n",
      "\n",
      "--- Training split 0.40 ---\n",
      "\n",
      "(Device: cuda) Started training model: TemporalConvNet\n"
     ]
    },
    {
     "name": "stderr",
     "output_type": "stream",
     "text": [
      "C:\\Users\\centu\\PycharmProjects\\MasterThesis_mmWavePI\\.venv\\Lib\\site-packages\\torch\\nn\\utils\\weight_norm.py:143: FutureWarning: `torch.nn.utils.weight_norm` is deprecated in favor of `torch.nn.utils.parametrizations.weight_norm`.\n",
      "  WeightNorm.apply(module, name, dim)\n"
     ]
    },
    {
     "name": "stdout",
     "output_type": "stream",
     "text": [
      "Early stopping at epoch 267 (no improvement in 50 epochs)\n",
      "Training time:  0:07:16.120306\n",
      "\n",
      "--- Training split 0.50 ---\n",
      "\n",
      "(Device: cuda) Started training model: TemporalConvNet\n"
     ]
    },
    {
     "name": "stderr",
     "output_type": "stream",
     "text": [
      "C:\\Users\\centu\\PycharmProjects\\MasterThesis_mmWavePI\\.venv\\Lib\\site-packages\\torch\\nn\\utils\\weight_norm.py:143: FutureWarning: `torch.nn.utils.weight_norm` is deprecated in favor of `torch.nn.utils.parametrizations.weight_norm`.\n",
      "  WeightNorm.apply(module, name, dim)\n"
     ]
    },
    {
     "name": "stdout",
     "output_type": "stream",
     "text": [
      "Early stopping at epoch 268 (no improvement in 50 epochs)\n",
      "Training time:  0:08:45.508224\n",
      "\n",
      "--- Training split 0.60 ---\n",
      "\n",
      "(Device: cuda) Started training model: TemporalConvNet\n"
     ]
    },
    {
     "name": "stderr",
     "output_type": "stream",
     "text": [
      "C:\\Users\\centu\\PycharmProjects\\MasterThesis_mmWavePI\\.venv\\Lib\\site-packages\\torch\\nn\\utils\\weight_norm.py:143: FutureWarning: `torch.nn.utils.weight_norm` is deprecated in favor of `torch.nn.utils.parametrizations.weight_norm`.\n",
      "  WeightNorm.apply(module, name, dim)\n"
     ]
    },
    {
     "name": "stdout",
     "output_type": "stream",
     "text": [
      "Early stopping at epoch 268 (no improvement in 50 epochs)\n",
      "Training time:  0:10:08.123937\n",
      "\n",
      "--- Training split 0.70 ---\n",
      "\n",
      "(Device: cuda) Started training model: TemporalConvNet\n"
     ]
    },
    {
     "name": "stderr",
     "output_type": "stream",
     "text": [
      "C:\\Users\\centu\\PycharmProjects\\MasterThesis_mmWavePI\\.venv\\Lib\\site-packages\\torch\\nn\\utils\\weight_norm.py:143: FutureWarning: `torch.nn.utils.weight_norm` is deprecated in favor of `torch.nn.utils.parametrizations.weight_norm`.\n",
      "  WeightNorm.apply(module, name, dim)\n"
     ]
    },
    {
     "name": "stdout",
     "output_type": "stream",
     "text": [
      "Early stopping at epoch 210 (no improvement in 50 epochs)\n",
      "Training time:  0:09:01.535148\n",
      "seed outputs:  [([0.1, 0.2, 0.3, 0.4, 0.5, 0.6, 0.7], [0.51, 0.6, 0.68, 0.83, 0.85, 0.88, 0.94], [0.53, 0.63, 0.64, 0.69, 0.74, 0.81, 0.87]), ([0.1, 0.2, 0.3, 0.4, 0.5, 0.6, 0.7], [0.45, 0.64, 0.74, 0.83, 0.87, 0.88, 0.9], [0.54, 0.66, 0.67, 0.74, 0.74, 0.8, 0.88]), ([0.1, 0.2, 0.3, 0.4, 0.5, 0.6, 0.7], [0.53, 0.61, 0.69, 0.83, 0.88, 0.88, 0.95], [0.54, 0.6, 0.67, 0.72, 0.74, 0.82, 0.85])]\n",
      "Running experiment for 5ghz_200hz...\n",
      "\n",
      "--- Running seed 42 ---\n",
      "\n",
      "--- Training split 0.10 ---\n"
     ]
    },
    {
     "name": "stderr",
     "output_type": "stream",
     "text": [
      "C:\\Users\\centu\\PycharmProjects\\MasterThesis_mmWavePI\\.venv\\Lib\\site-packages\\torch\\nn\\utils\\weight_norm.py:143: FutureWarning: `torch.nn.utils.weight_norm` is deprecated in favor of `torch.nn.utils.parametrizations.weight_norm`.\n",
      "  WeightNorm.apply(module, name, dim)\n"
     ]
    },
    {
     "name": "stdout",
     "output_type": "stream",
     "text": [
      "\n",
      "(Device: cuda) Started training model: TemporalConvNet\n",
      "Early stopping at epoch 149 (no improvement in 50 epochs)\n",
      "Training time:  0:01:33.638842\n",
      "\n",
      "--- Training split 0.20 ---\n",
      "\n",
      "(Device: cuda) Started training model: TemporalConvNet\n"
     ]
    },
    {
     "name": "stderr",
     "output_type": "stream",
     "text": [
      "C:\\Users\\centu\\PycharmProjects\\MasterThesis_mmWavePI\\.venv\\Lib\\site-packages\\torch\\nn\\utils\\weight_norm.py:143: FutureWarning: `torch.nn.utils.weight_norm` is deprecated in favor of `torch.nn.utils.parametrizations.weight_norm`.\n",
      "  WeightNorm.apply(module, name, dim)\n"
     ]
    },
    {
     "name": "stdout",
     "output_type": "stream",
     "text": [
      "Early stopping at epoch 78 (no improvement in 50 epochs)\n",
      "Training time:  0:01:11.621873\n",
      "\n",
      "--- Training split 0.30 ---\n",
      "\n",
      "(Device: cuda) Started training model: TemporalConvNet\n"
     ]
    },
    {
     "name": "stderr",
     "output_type": "stream",
     "text": [
      "C:\\Users\\centu\\PycharmProjects\\MasterThesis_mmWavePI\\.venv\\Lib\\site-packages\\torch\\nn\\utils\\weight_norm.py:143: FutureWarning: `torch.nn.utils.weight_norm` is deprecated in favor of `torch.nn.utils.parametrizations.weight_norm`.\n",
      "  WeightNorm.apply(module, name, dim)\n"
     ]
    },
    {
     "name": "stdout",
     "output_type": "stream",
     "text": [
      "Early stopping at epoch 233 (no improvement in 50 epochs)\n",
      "Training time:  0:04:46.589832\n",
      "\n",
      "--- Training split 0.40 ---\n",
      "\n",
      "(Device: cuda) Started training model: TemporalConvNet\n"
     ]
    },
    {
     "name": "stderr",
     "output_type": "stream",
     "text": [
      "C:\\Users\\centu\\PycharmProjects\\MasterThesis_mmWavePI\\.venv\\Lib\\site-packages\\torch\\nn\\utils\\weight_norm.py:143: FutureWarning: `torch.nn.utils.weight_norm` is deprecated in favor of `torch.nn.utils.parametrizations.weight_norm`.\n",
      "  WeightNorm.apply(module, name, dim)\n"
     ]
    },
    {
     "name": "stdout",
     "output_type": "stream",
     "text": [
      "Early stopping at epoch 247 (no improvement in 50 epochs)\n",
      "Training time:  0:06:07.547164\n",
      "\n",
      "--- Training split 0.50 ---\n",
      "\n",
      "(Device: cuda) Started training model: TemporalConvNet\n"
     ]
    },
    {
     "name": "stderr",
     "output_type": "stream",
     "text": [
      "C:\\Users\\centu\\PycharmProjects\\MasterThesis_mmWavePI\\.venv\\Lib\\site-packages\\torch\\nn\\utils\\weight_norm.py:143: FutureWarning: `torch.nn.utils.weight_norm` is deprecated in favor of `torch.nn.utils.parametrizations.weight_norm`.\n",
      "  WeightNorm.apply(module, name, dim)\n"
     ]
    },
    {
     "name": "stdout",
     "output_type": "stream",
     "text": [
      "Early stopping at epoch 224 (no improvement in 50 epochs)\n",
      "Training time:  0:06:41.210291\n",
      "\n",
      "--- Training split 0.60 ---\n",
      "\n",
      "(Device: cuda) Started training model: TemporalConvNet\n"
     ]
    },
    {
     "name": "stderr",
     "output_type": "stream",
     "text": [
      "C:\\Users\\centu\\PycharmProjects\\MasterThesis_mmWavePI\\.venv\\Lib\\site-packages\\torch\\nn\\utils\\weight_norm.py:143: FutureWarning: `torch.nn.utils.weight_norm` is deprecated in favor of `torch.nn.utils.parametrizations.weight_norm`.\n",
      "  WeightNorm.apply(module, name, dim)\n"
     ]
    },
    {
     "name": "stdout",
     "output_type": "stream",
     "text": [
      "Early stopping at epoch 170 (no improvement in 50 epochs)\n",
      "Training time:  0:05:50.410181\n",
      "\n",
      "--- Training split 0.70 ---\n",
      "\n",
      "(Device: cuda) Started training model: TemporalConvNet\n"
     ]
    },
    {
     "name": "stderr",
     "output_type": "stream",
     "text": [
      "C:\\Users\\centu\\PycharmProjects\\MasterThesis_mmWavePI\\.venv\\Lib\\site-packages\\torch\\nn\\utils\\weight_norm.py:143: FutureWarning: `torch.nn.utils.weight_norm` is deprecated in favor of `torch.nn.utils.parametrizations.weight_norm`.\n",
      "  WeightNorm.apply(module, name, dim)\n"
     ]
    },
    {
     "name": "stdout",
     "output_type": "stream",
     "text": [
      "Early stopping at epoch 235 (no improvement in 50 epochs)\n",
      "Training time:  0:09:08.220714\n",
      "\n",
      "--- Running seed 420 ---\n",
      "\n",
      "--- Training split 0.10 ---\n",
      "\n",
      "(Device: cuda) Started training model: TemporalConvNet\n"
     ]
    },
    {
     "name": "stderr",
     "output_type": "stream",
     "text": [
      "C:\\Users\\centu\\PycharmProjects\\MasterThesis_mmWavePI\\.venv\\Lib\\site-packages\\torch\\nn\\utils\\weight_norm.py:143: FutureWarning: `torch.nn.utils.weight_norm` is deprecated in favor of `torch.nn.utils.parametrizations.weight_norm`.\n",
      "  WeightNorm.apply(module, name, dim)\n"
     ]
    },
    {
     "name": "stdout",
     "output_type": "stream",
     "text": [
      "Early stopping at epoch 118 (no improvement in 50 epochs)\n",
      "Training time:  0:01:14.312449\n",
      "\n",
      "--- Training split 0.20 ---\n",
      "\n",
      "(Device: cuda) Started training model: TemporalConvNet\n"
     ]
    },
    {
     "name": "stderr",
     "output_type": "stream",
     "text": [
      "C:\\Users\\centu\\PycharmProjects\\MasterThesis_mmWavePI\\.venv\\Lib\\site-packages\\torch\\nn\\utils\\weight_norm.py:143: FutureWarning: `torch.nn.utils.weight_norm` is deprecated in favor of `torch.nn.utils.parametrizations.weight_norm`.\n",
      "  WeightNorm.apply(module, name, dim)\n"
     ]
    },
    {
     "name": "stdout",
     "output_type": "stream",
     "text": [
      "Early stopping at epoch 85 (no improvement in 50 epochs)\n",
      "Training time:  0:01:18.221238\n",
      "\n",
      "--- Training split 0.30 ---\n",
      "\n",
      "(Device: cuda) Started training model: TemporalConvNet\n"
     ]
    },
    {
     "name": "stderr",
     "output_type": "stream",
     "text": [
      "C:\\Users\\centu\\PycharmProjects\\MasterThesis_mmWavePI\\.venv\\Lib\\site-packages\\torch\\nn\\utils\\weight_norm.py:143: FutureWarning: `torch.nn.utils.weight_norm` is deprecated in favor of `torch.nn.utils.parametrizations.weight_norm`.\n",
      "  WeightNorm.apply(module, name, dim)\n"
     ]
    },
    {
     "name": "stdout",
     "output_type": "stream",
     "text": [
      "Early stopping at epoch 210 (no improvement in 50 epochs)\n",
      "Training time:  0:04:12.062251\n",
      "\n",
      "--- Training split 0.40 ---\n",
      "\n",
      "(Device: cuda) Started training model: TemporalConvNet\n"
     ]
    },
    {
     "name": "stderr",
     "output_type": "stream",
     "text": [
      "C:\\Users\\centu\\PycharmProjects\\MasterThesis_mmWavePI\\.venv\\Lib\\site-packages\\torch\\nn\\utils\\weight_norm.py:143: FutureWarning: `torch.nn.utils.weight_norm` is deprecated in favor of `torch.nn.utils.parametrizations.weight_norm`.\n",
      "  WeightNorm.apply(module, name, dim)\n"
     ]
    },
    {
     "name": "stdout",
     "output_type": "stream",
     "text": [
      "Early stopping at epoch 290 (no improvement in 50 epochs)\n",
      "Training time:  0:07:13.230187\n",
      "\n",
      "--- Training split 0.50 ---\n",
      "\n",
      "(Device: cuda) Started training model: TemporalConvNet\n"
     ]
    },
    {
     "name": "stderr",
     "output_type": "stream",
     "text": [
      "C:\\Users\\centu\\PycharmProjects\\MasterThesis_mmWavePI\\.venv\\Lib\\site-packages\\torch\\nn\\utils\\weight_norm.py:143: FutureWarning: `torch.nn.utils.weight_norm` is deprecated in favor of `torch.nn.utils.parametrizations.weight_norm`.\n",
      "  WeightNorm.apply(module, name, dim)\n"
     ]
    },
    {
     "name": "stdout",
     "output_type": "stream",
     "text": [
      "Early stopping at epoch 160 (no improvement in 50 epochs)\n",
      "Training time:  0:04:50.446731\n",
      "\n",
      "--- Training split 0.60 ---\n",
      "\n",
      "(Device: cuda) Started training model: TemporalConvNet\n"
     ]
    },
    {
     "name": "stderr",
     "output_type": "stream",
     "text": [
      "C:\\Users\\centu\\PycharmProjects\\MasterThesis_mmWavePI\\.venv\\Lib\\site-packages\\torch\\nn\\utils\\weight_norm.py:143: FutureWarning: `torch.nn.utils.weight_norm` is deprecated in favor of `torch.nn.utils.parametrizations.weight_norm`.\n",
      "  WeightNorm.apply(module, name, dim)\n"
     ]
    },
    {
     "name": "stdout",
     "output_type": "stream",
     "text": [
      "Early stopping at epoch 242 (no improvement in 50 epochs)\n",
      "Training time:  0:08:20.855585\n",
      "\n",
      "--- Training split 0.70 ---\n",
      "\n",
      "(Device: cuda) Started training model: TemporalConvNet\n"
     ]
    },
    {
     "name": "stderr",
     "output_type": "stream",
     "text": [
      "C:\\Users\\centu\\PycharmProjects\\MasterThesis_mmWavePI\\.venv\\Lib\\site-packages\\torch\\nn\\utils\\weight_norm.py:143: FutureWarning: `torch.nn.utils.weight_norm` is deprecated in favor of `torch.nn.utils.parametrizations.weight_norm`.\n",
      "  WeightNorm.apply(module, name, dim)\n"
     ]
    },
    {
     "name": "stdout",
     "output_type": "stream",
     "text": [
      "Early stopping at epoch 210 (no improvement in 50 epochs)\n",
      "Training time:  0:08:12.045404\n",
      "\n",
      "--- Running seed 101010 ---\n",
      "\n",
      "--- Training split 0.10 ---\n",
      "\n",
      "(Device: cuda) Started training model: TemporalConvNet\n"
     ]
    },
    {
     "name": "stderr",
     "output_type": "stream",
     "text": [
      "C:\\Users\\centu\\PycharmProjects\\MasterThesis_mmWavePI\\.venv\\Lib\\site-packages\\torch\\nn\\utils\\weight_norm.py:143: FutureWarning: `torch.nn.utils.weight_norm` is deprecated in favor of `torch.nn.utils.parametrizations.weight_norm`.\n",
      "  WeightNorm.apply(module, name, dim)\n"
     ]
    },
    {
     "name": "stdout",
     "output_type": "stream",
     "text": [
      "Early stopping at epoch 112 (no improvement in 50 epochs)\n",
      "Training time:  0:01:10.357826\n",
      "\n",
      "--- Training split 0.20 ---\n",
      "\n",
      "(Device: cuda) Started training model: TemporalConvNet\n"
     ]
    },
    {
     "name": "stderr",
     "output_type": "stream",
     "text": [
      "C:\\Users\\centu\\PycharmProjects\\MasterThesis_mmWavePI\\.venv\\Lib\\site-packages\\torch\\nn\\utils\\weight_norm.py:143: FutureWarning: `torch.nn.utils.weight_norm` is deprecated in favor of `torch.nn.utils.parametrizations.weight_norm`.\n",
      "  WeightNorm.apply(module, name, dim)\n"
     ]
    },
    {
     "name": "stdout",
     "output_type": "stream",
     "text": [
      "Early stopping at epoch 96 (no improvement in 50 epochs)\n",
      "Training time:  0:01:28.210731\n",
      "\n",
      "--- Training split 0.30 ---\n",
      "\n",
      "(Device: cuda) Started training model: TemporalConvNet\n"
     ]
    },
    {
     "name": "stderr",
     "output_type": "stream",
     "text": [
      "C:\\Users\\centu\\PycharmProjects\\MasterThesis_mmWavePI\\.venv\\Lib\\site-packages\\torch\\nn\\utils\\weight_norm.py:143: FutureWarning: `torch.nn.utils.weight_norm` is deprecated in favor of `torch.nn.utils.parametrizations.weight_norm`.\n",
      "  WeightNorm.apply(module, name, dim)\n"
     ]
    },
    {
     "name": "stdout",
     "output_type": "stream",
     "text": [
      "Early stopping at epoch 323 (no improvement in 50 epochs)\n",
      "Training time:  0:06:31.673129\n",
      "\n",
      "--- Training split 0.40 ---\n",
      "\n",
      "(Device: cuda) Started training model: TemporalConvNet\n"
     ]
    },
    {
     "name": "stderr",
     "output_type": "stream",
     "text": [
      "C:\\Users\\centu\\PycharmProjects\\MasterThesis_mmWavePI\\.venv\\Lib\\site-packages\\torch\\nn\\utils\\weight_norm.py:143: FutureWarning: `torch.nn.utils.weight_norm` is deprecated in favor of `torch.nn.utils.parametrizations.weight_norm`.\n",
      "  WeightNorm.apply(module, name, dim)\n"
     ]
    },
    {
     "name": "stdout",
     "output_type": "stream",
     "text": [
      "Early stopping at epoch 259 (no improvement in 50 epochs)\n",
      "Training time:  0:06:27.919950\n",
      "\n",
      "--- Training split 0.50 ---\n",
      "\n",
      "(Device: cuda) Started training model: TemporalConvNet\n"
     ]
    },
    {
     "name": "stderr",
     "output_type": "stream",
     "text": [
      "C:\\Users\\centu\\PycharmProjects\\MasterThesis_mmWavePI\\.venv\\Lib\\site-packages\\torch\\nn\\utils\\weight_norm.py:143: FutureWarning: `torch.nn.utils.weight_norm` is deprecated in favor of `torch.nn.utils.parametrizations.weight_norm`.\n",
      "  WeightNorm.apply(module, name, dim)\n"
     ]
    },
    {
     "name": "stdout",
     "output_type": "stream",
     "text": [
      "Early stopping at epoch 191 (no improvement in 50 epochs)\n",
      "Training time:  0:05:41.399492\n",
      "\n",
      "--- Training split 0.60 ---\n",
      "\n",
      "(Device: cuda) Started training model: TemporalConvNet\n"
     ]
    },
    {
     "name": "stderr",
     "output_type": "stream",
     "text": [
      "C:\\Users\\centu\\PycharmProjects\\MasterThesis_mmWavePI\\.venv\\Lib\\site-packages\\torch\\nn\\utils\\weight_norm.py:143: FutureWarning: `torch.nn.utils.weight_norm` is deprecated in favor of `torch.nn.utils.parametrizations.weight_norm`.\n",
      "  WeightNorm.apply(module, name, dim)\n"
     ]
    },
    {
     "name": "stdout",
     "output_type": "stream",
     "text": [
      "Early stopping at epoch 164 (no improvement in 50 epochs)\n",
      "Training time:  0:05:37.854776\n",
      "\n",
      "--- Training split 0.70 ---\n",
      "\n",
      "(Device: cuda) Started training model: TemporalConvNet\n"
     ]
    },
    {
     "name": "stderr",
     "output_type": "stream",
     "text": [
      "C:\\Users\\centu\\PycharmProjects\\MasterThesis_mmWavePI\\.venv\\Lib\\site-packages\\torch\\nn\\utils\\weight_norm.py:143: FutureWarning: `torch.nn.utils.weight_norm` is deprecated in favor of `torch.nn.utils.parametrizations.weight_norm`.\n",
      "  WeightNorm.apply(module, name, dim)\n"
     ]
    },
    {
     "name": "stdout",
     "output_type": "stream",
     "text": [
      "Early stopping at epoch 233 (no improvement in 50 epochs)\n",
      "Training time:  0:09:06.522358\n",
      "seed outputs:  [([0.1, 0.2, 0.3, 0.4, 0.5, 0.6, 0.7], [0.49, 0.61, 0.78, 0.91, 0.91, 0.94, 0.96], [0.42, 0.57, 0.69, 0.76, 0.83, 0.84, 0.91]), ([0.1, 0.2, 0.3, 0.4, 0.5, 0.6, 0.7], [0.46, 0.57, 0.76, 0.89, 0.9, 0.95, 0.97], [0.44, 0.6, 0.68, 0.79, 0.79, 0.87, 0.93]), ([0.1, 0.2, 0.3, 0.4, 0.5, 0.6, 0.7], [0.47, 0.59, 0.81, 0.9, 0.92, 0.94, 0.95], [0.53, 0.62, 0.67, 0.74, 0.81, 0.81, 0.92])]\n",
      "Running experiment for 60ghz_collected...\n",
      "\n",
      "--- Running seed 42 ---\n",
      "\n",
      "--- Training split 0.10 ---\n",
      "\n",
      "(Device: cuda) Started training model: TemporalConvNet\n"
     ]
    },
    {
     "name": "stderr",
     "output_type": "stream",
     "text": [
      "C:\\Users\\centu\\PycharmProjects\\MasterThesis_mmWavePI\\.venv\\Lib\\site-packages\\torch\\nn\\utils\\weight_norm.py:143: FutureWarning: `torch.nn.utils.weight_norm` is deprecated in favor of `torch.nn.utils.parametrizations.weight_norm`.\n",
      "  WeightNorm.apply(module, name, dim)\n"
     ]
    },
    {
     "name": "stdout",
     "output_type": "stream",
     "text": [
      "Early stopping at epoch 196 (no improvement in 50 epochs)\n",
      "Training time:  0:02:13.464429\n",
      "\n",
      "--- Training split 0.20 ---\n",
      "\n",
      "(Device: cuda) Started training model: TemporalConvNet\n"
     ]
    },
    {
     "name": "stderr",
     "output_type": "stream",
     "text": [
      "C:\\Users\\centu\\PycharmProjects\\MasterThesis_mmWavePI\\.venv\\Lib\\site-packages\\torch\\nn\\utils\\weight_norm.py:143: FutureWarning: `torch.nn.utils.weight_norm` is deprecated in favor of `torch.nn.utils.parametrizations.weight_norm`.\n",
      "  WeightNorm.apply(module, name, dim)\n"
     ]
    },
    {
     "name": "stdout",
     "output_type": "stream",
     "text": [
      "Early stopping at epoch 210 (no improvement in 50 epochs)\n",
      "Training time:  0:03:28.759336\n",
      "\n",
      "--- Training split 0.30 ---\n",
      "\n",
      "(Device: cuda) Started training model: TemporalConvNet\n"
     ]
    },
    {
     "name": "stderr",
     "output_type": "stream",
     "text": [
      "C:\\Users\\centu\\PycharmProjects\\MasterThesis_mmWavePI\\.venv\\Lib\\site-packages\\torch\\nn\\utils\\weight_norm.py:143: FutureWarning: `torch.nn.utils.weight_norm` is deprecated in favor of `torch.nn.utils.parametrizations.weight_norm`.\n",
      "  WeightNorm.apply(module, name, dim)\n"
     ]
    },
    {
     "name": "stdout",
     "output_type": "stream",
     "text": [
      "Early stopping at epoch 143 (no improvement in 50 epochs)\n",
      "Training time:  0:03:09.687391\n",
      "\n",
      "--- Training split 0.40 ---\n",
      "\n",
      "(Device: cuda) Started training model: TemporalConvNet\n"
     ]
    },
    {
     "name": "stderr",
     "output_type": "stream",
     "text": [
      "C:\\Users\\centu\\PycharmProjects\\MasterThesis_mmWavePI\\.venv\\Lib\\site-packages\\torch\\nn\\utils\\weight_norm.py:143: FutureWarning: `torch.nn.utils.weight_norm` is deprecated in favor of `torch.nn.utils.parametrizations.weight_norm`.\n",
      "  WeightNorm.apply(module, name, dim)\n"
     ]
    },
    {
     "name": "stdout",
     "output_type": "stream",
     "text": [
      "Early stopping at epoch 253 (no improvement in 50 epochs)\n",
      "Training time:  0:06:49.819053\n",
      "\n",
      "--- Training split 0.50 ---\n",
      "\n",
      "(Device: cuda) Started training model: TemporalConvNet\n"
     ]
    },
    {
     "name": "stderr",
     "output_type": "stream",
     "text": [
      "C:\\Users\\centu\\PycharmProjects\\MasterThesis_mmWavePI\\.venv\\Lib\\site-packages\\torch\\nn\\utils\\weight_norm.py:143: FutureWarning: `torch.nn.utils.weight_norm` is deprecated in favor of `torch.nn.utils.parametrizations.weight_norm`.\n",
      "  WeightNorm.apply(module, name, dim)\n"
     ]
    },
    {
     "name": "stdout",
     "output_type": "stream",
     "text": [
      "Early stopping at epoch 234 (no improvement in 50 epochs)\n",
      "Training time:  0:07:34.806132\n",
      "\n",
      "--- Training split 0.60 ---\n",
      "\n",
      "(Device: cuda) Started training model: TemporalConvNet\n"
     ]
    },
    {
     "name": "stderr",
     "output_type": "stream",
     "text": [
      "C:\\Users\\centu\\PycharmProjects\\MasterThesis_mmWavePI\\.venv\\Lib\\site-packages\\torch\\nn\\utils\\weight_norm.py:143: FutureWarning: `torch.nn.utils.weight_norm` is deprecated in favor of `torch.nn.utils.parametrizations.weight_norm`.\n",
      "  WeightNorm.apply(module, name, dim)\n"
     ]
    },
    {
     "name": "stdout",
     "output_type": "stream",
     "text": [
      "Early stopping at epoch 293 (no improvement in 50 epochs)\n",
      "Training time:  0:10:55.921007\n",
      "\n",
      "--- Training split 0.70 ---\n",
      "\n",
      "(Device: cuda) Started training model: TemporalConvNet\n"
     ]
    },
    {
     "name": "stderr",
     "output_type": "stream",
     "text": [
      "C:\\Users\\centu\\PycharmProjects\\MasterThesis_mmWavePI\\.venv\\Lib\\site-packages\\torch\\nn\\utils\\weight_norm.py:143: FutureWarning: `torch.nn.utils.weight_norm` is deprecated in favor of `torch.nn.utils.parametrizations.weight_norm`.\n",
      "  WeightNorm.apply(module, name, dim)\n"
     ]
    },
    {
     "name": "stdout",
     "output_type": "stream",
     "text": [
      "Early stopping at epoch 162 (no improvement in 50 epochs)\n",
      "Training time:  0:06:51.182863\n",
      "\n",
      "--- Running seed 420 ---\n",
      "\n",
      "--- Training split 0.10 ---\n",
      "\n",
      "(Device: cuda) Started training model: TemporalConvNet\n"
     ]
    },
    {
     "name": "stderr",
     "output_type": "stream",
     "text": [
      "C:\\Users\\centu\\PycharmProjects\\MasterThesis_mmWavePI\\.venv\\Lib\\site-packages\\torch\\nn\\utils\\weight_norm.py:143: FutureWarning: `torch.nn.utils.weight_norm` is deprecated in favor of `torch.nn.utils.parametrizations.weight_norm`.\n",
      "  WeightNorm.apply(module, name, dim)\n"
     ]
    },
    {
     "name": "stdout",
     "output_type": "stream",
     "text": [
      "Early stopping at epoch 229 (no improvement in 50 epochs)\n",
      "Training time:  0:02:37.150395\n",
      "\n",
      "--- Training split 0.20 ---\n",
      "\n",
      "(Device: cuda) Started training model: TemporalConvNet\n"
     ]
    },
    {
     "name": "stderr",
     "output_type": "stream",
     "text": [
      "C:\\Users\\centu\\PycharmProjects\\MasterThesis_mmWavePI\\.venv\\Lib\\site-packages\\torch\\nn\\utils\\weight_norm.py:143: FutureWarning: `torch.nn.utils.weight_norm` is deprecated in favor of `torch.nn.utils.parametrizations.weight_norm`.\n",
      "  WeightNorm.apply(module, name, dim)\n"
     ]
    },
    {
     "name": "stdout",
     "output_type": "stream",
     "text": [
      "Early stopping at epoch 241 (no improvement in 50 epochs)\n",
      "Training time:  0:03:59.598071\n",
      "\n",
      "--- Training split 0.30 ---\n",
      "\n",
      "(Device: cuda) Started training model: TemporalConvNet\n"
     ]
    },
    {
     "name": "stderr",
     "output_type": "stream",
     "text": [
      "C:\\Users\\centu\\PycharmProjects\\MasterThesis_mmWavePI\\.venv\\Lib\\site-packages\\torch\\nn\\utils\\weight_norm.py:143: FutureWarning: `torch.nn.utils.weight_norm` is deprecated in favor of `torch.nn.utils.parametrizations.weight_norm`.\n",
      "  WeightNorm.apply(module, name, dim)\n"
     ]
    },
    {
     "name": "stdout",
     "output_type": "stream",
     "text": [
      "Early stopping at epoch 225 (no improvement in 50 epochs)\n",
      "Training time:  0:04:53.547219\n",
      "\n",
      "--- Training split 0.40 ---\n",
      "\n",
      "(Device: cuda) Started training model: TemporalConvNet\n"
     ]
    },
    {
     "name": "stderr",
     "output_type": "stream",
     "text": [
      "C:\\Users\\centu\\PycharmProjects\\MasterThesis_mmWavePI\\.venv\\Lib\\site-packages\\torch\\nn\\utils\\weight_norm.py:143: FutureWarning: `torch.nn.utils.weight_norm` is deprecated in favor of `torch.nn.utils.parametrizations.weight_norm`.\n",
      "  WeightNorm.apply(module, name, dim)\n"
     ]
    },
    {
     "name": "stdout",
     "output_type": "stream",
     "text": [
      "Early stopping at epoch 112 (no improvement in 50 epochs)\n",
      "Training time:  0:03:01.427877\n",
      "\n",
      "--- Training split 0.50 ---\n",
      "\n",
      "(Device: cuda) Started training model: TemporalConvNet\n"
     ]
    },
    {
     "name": "stderr",
     "output_type": "stream",
     "text": [
      "C:\\Users\\centu\\PycharmProjects\\MasterThesis_mmWavePI\\.venv\\Lib\\site-packages\\torch\\nn\\utils\\weight_norm.py:143: FutureWarning: `torch.nn.utils.weight_norm` is deprecated in favor of `torch.nn.utils.parametrizations.weight_norm`.\n",
      "  WeightNorm.apply(module, name, dim)\n"
     ]
    },
    {
     "name": "stdout",
     "output_type": "stream",
     "text": [
      "Early stopping at epoch 232 (no improvement in 50 epochs)\n",
      "Training time:  0:07:30.886949\n",
      "\n",
      "--- Training split 0.60 ---\n",
      "\n",
      "(Device: cuda) Started training model: TemporalConvNet\n"
     ]
    },
    {
     "name": "stderr",
     "output_type": "stream",
     "text": [
      "C:\\Users\\centu\\PycharmProjects\\MasterThesis_mmWavePI\\.venv\\Lib\\site-packages\\torch\\nn\\utils\\weight_norm.py:143: FutureWarning: `torch.nn.utils.weight_norm` is deprecated in favor of `torch.nn.utils.parametrizations.weight_norm`.\n",
      "  WeightNorm.apply(module, name, dim)\n"
     ]
    },
    {
     "name": "stdout",
     "output_type": "stream",
     "text": [
      "Early stopping at epoch 230 (no improvement in 50 epochs)\n",
      "Training time:  0:08:36.712180\n",
      "\n",
      "--- Training split 0.70 ---\n",
      "\n",
      "(Device: cuda) Started training model: TemporalConvNet\n"
     ]
    },
    {
     "name": "stderr",
     "output_type": "stream",
     "text": [
      "C:\\Users\\centu\\PycharmProjects\\MasterThesis_mmWavePI\\.venv\\Lib\\site-packages\\torch\\nn\\utils\\weight_norm.py:143: FutureWarning: `torch.nn.utils.weight_norm` is deprecated in favor of `torch.nn.utils.parametrizations.weight_norm`.\n",
      "  WeightNorm.apply(module, name, dim)\n"
     ]
    },
    {
     "name": "stdout",
     "output_type": "stream",
     "text": [
      "Early stopping at epoch 202 (no improvement in 50 epochs)\n",
      "Training time:  0:08:36.536175\n",
      "\n",
      "--- Running seed 101010 ---\n",
      "\n",
      "--- Training split 0.10 ---\n",
      "\n",
      "(Device: cuda) Started training model: TemporalConvNet\n"
     ]
    },
    {
     "name": "stderr",
     "output_type": "stream",
     "text": [
      "C:\\Users\\centu\\PycharmProjects\\MasterThesis_mmWavePI\\.venv\\Lib\\site-packages\\torch\\nn\\utils\\weight_norm.py:143: FutureWarning: `torch.nn.utils.weight_norm` is deprecated in favor of `torch.nn.utils.parametrizations.weight_norm`.\n",
      "  WeightNorm.apply(module, name, dim)\n"
     ]
    },
    {
     "name": "stdout",
     "output_type": "stream",
     "text": [
      "Early stopping at epoch 275 (no improvement in 50 epochs)\n",
      "Training time:  0:03:07.713621\n",
      "\n",
      "--- Training split 0.20 ---\n",
      "\n",
      "(Device: cuda) Started training model: TemporalConvNet\n"
     ]
    },
    {
     "name": "stderr",
     "output_type": "stream",
     "text": [
      "C:\\Users\\centu\\PycharmProjects\\MasterThesis_mmWavePI\\.venv\\Lib\\site-packages\\torch\\nn\\utils\\weight_norm.py:143: FutureWarning: `torch.nn.utils.weight_norm` is deprecated in favor of `torch.nn.utils.parametrizations.weight_norm`.\n",
      "  WeightNorm.apply(module, name, dim)\n"
     ]
    },
    {
     "name": "stdout",
     "output_type": "stream",
     "text": [
      "Early stopping at epoch 179 (no improvement in 50 epochs)\n",
      "Training time:  0:02:59.659384\n",
      "\n",
      "--- Training split 0.30 ---\n",
      "\n",
      "(Device: cuda) Started training model: TemporalConvNet\n"
     ]
    },
    {
     "name": "stderr",
     "output_type": "stream",
     "text": [
      "C:\\Users\\centu\\PycharmProjects\\MasterThesis_mmWavePI\\.venv\\Lib\\site-packages\\torch\\nn\\utils\\weight_norm.py:143: FutureWarning: `torch.nn.utils.weight_norm` is deprecated in favor of `torch.nn.utils.parametrizations.weight_norm`.\n",
      "  WeightNorm.apply(module, name, dim)\n"
     ]
    },
    {
     "name": "stdout",
     "output_type": "stream",
     "text": [
      "Early stopping at epoch 244 (no improvement in 50 epochs)\n",
      "Training time:  0:05:16.853374\n",
      "\n",
      "--- Training split 0.40 ---\n",
      "\n",
      "(Device: cuda) Started training model: TemporalConvNet\n"
     ]
    },
    {
     "name": "stderr",
     "output_type": "stream",
     "text": [
      "C:\\Users\\centu\\PycharmProjects\\MasterThesis_mmWavePI\\.venv\\Lib\\site-packages\\torch\\nn\\utils\\weight_norm.py:143: FutureWarning: `torch.nn.utils.weight_norm` is deprecated in favor of `torch.nn.utils.parametrizations.weight_norm`.\n",
      "  WeightNorm.apply(module, name, dim)\n"
     ]
    },
    {
     "name": "stdout",
     "output_type": "stream",
     "text": [
      "Early stopping at epoch 146 (no improvement in 50 epochs)\n",
      "Training time:  0:03:55.752749\n",
      "\n",
      "--- Training split 0.50 ---\n",
      "\n",
      "(Device: cuda) Started training model: TemporalConvNet\n"
     ]
    },
    {
     "name": "stderr",
     "output_type": "stream",
     "text": [
      "C:\\Users\\centu\\PycharmProjects\\MasterThesis_mmWavePI\\.venv\\Lib\\site-packages\\torch\\nn\\utils\\weight_norm.py:143: FutureWarning: `torch.nn.utils.weight_norm` is deprecated in favor of `torch.nn.utils.parametrizations.weight_norm`.\n",
      "  WeightNorm.apply(module, name, dim)\n"
     ]
    },
    {
     "name": "stdout",
     "output_type": "stream",
     "text": [
      "Early stopping at epoch 182 (no improvement in 50 epochs)\n",
      "Training time:  0:05:51.987411\n",
      "\n",
      "--- Training split 0.60 ---\n",
      "\n",
      "(Device: cuda) Started training model: TemporalConvNet\n"
     ]
    },
    {
     "name": "stderr",
     "output_type": "stream",
     "text": [
      "C:\\Users\\centu\\PycharmProjects\\MasterThesis_mmWavePI\\.venv\\Lib\\site-packages\\torch\\nn\\utils\\weight_norm.py:143: FutureWarning: `torch.nn.utils.weight_norm` is deprecated in favor of `torch.nn.utils.parametrizations.weight_norm`.\n",
      "  WeightNorm.apply(module, name, dim)\n"
     ]
    },
    {
     "name": "stdout",
     "output_type": "stream",
     "text": [
      "Early stopping at epoch 151 (no improvement in 50 epochs)\n",
      "Training time:  0:05:37.926549\n",
      "\n",
      "--- Training split 0.70 ---\n",
      "\n",
      "(Device: cuda) Started training model: TemporalConvNet\n"
     ]
    },
    {
     "name": "stderr",
     "output_type": "stream",
     "text": [
      "C:\\Users\\centu\\PycharmProjects\\MasterThesis_mmWavePI\\.venv\\Lib\\site-packages\\torch\\nn\\utils\\weight_norm.py:143: FutureWarning: `torch.nn.utils.weight_norm` is deprecated in favor of `torch.nn.utils.parametrizations.weight_norm`.\n",
      "  WeightNorm.apply(module, name, dim)\n"
     ]
    },
    {
     "name": "stdout",
     "output_type": "stream",
     "text": [
      "Early stopping at epoch 224 (no improvement in 50 epochs)\n",
      "Training time:  0:09:28.365159\n",
      "seed outputs:  [([0.1, 0.2, 0.3, 0.4, 0.5, 0.6, 0.7], [0.73, 0.84, 0.81, 0.89, 0.92, 0.97, 0.97], [0.72, 0.77, 0.77, 0.81, 0.93, 0.9, 0.92]), ([0.1, 0.2, 0.3, 0.4, 0.5, 0.6, 0.7], [0.69, 0.85, 0.88, 0.88, 0.93, 0.97, 0.97], [0.72, 0.77, 0.82, 0.82, 0.89, 0.92, 0.91]), ([0.1, 0.2, 0.3, 0.4, 0.5, 0.6, 0.7], [0.78, 0.8, 0.86, 0.87, 0.93, 0.97, 0.97], [0.72, 0.72, 0.78, 0.81, 0.91, 0.91, 0.93])]\n"
     ]
    }
   ],
   "execution_count": 5
  },
  {
   "metadata": {
    "ExecuteTime": {
     "end_time": "2025-06-03T12:48:59.745651Z",
     "start_time": "2025-06-03T12:48:59.676403Z"
    }
   },
   "cell_type": "code",
   "source": "plot_learning_curves(results_dict=results_per_signal, std_dict=stds_per_signal)",
   "id": "b07b96b8bb0cba66",
   "outputs": [
    {
     "data": {
      "text/plain": [
       "<Figure size 640x480 with 1 Axes>"
      ],
      "image/png": "[encoded data removed]"
     },
     "metadata": {},
     "output_type": "display_data"
    }
   ],
   "execution_count": 6
  },
  {
   "metadata": {
    "ExecuteTime": {
     "end_time": "2025-06-03T20:53:55.427188Z",
     "start_time": "2025-06-03T12:48:59.751018Z"
    }
   },
   "cell_type": "code",
   "source": [
    "results_per_signal, stds_per_signal = run_experiment_with_seeds(experiment_func=get_learning_curve_data,\n",
    "                                                                signal_configs=signal_configs,\n",
    "                                                                varying_param_name='train_splits',\n",
    "                                                                varying_param_value=train_splits,\n",
    "                                                                n_seeds=num_seeds,\n",
    "                                                                accuracy_type=accuracy_type,\n",
    "                                                                seconds_per_sample=2)"
   ],
   "id": "2048976bc05d3f4b",
   "outputs": [
    {
     "name": "stdout",
     "output_type": "stream",
     "text": [
      "Running experiment for 5ghz_10hz...\n",
      "\n",
      "--- Running seed 42 ---\n",
      "\n",
      "--- Training split 0.10 ---\n",
      "\n",
      "(Device: cuda) Started training model: TemporalConvNet\n"
     ]
    },
    {
     "name": "stderr",
     "output_type": "stream",
     "text": [
      "C:\\Users\\centu\\PycharmProjects\\MasterThesis_mmWavePI\\.venv\\Lib\\site-packages\\torch\\nn\\utils\\weight_norm.py:143: FutureWarning: `torch.nn.utils.weight_norm` is deprecated in favor of `torch.nn.utils.parametrizations.weight_norm`.\n",
      "  WeightNorm.apply(module, name, dim)\n"
     ]
    },
    {
     "name": "stdout",
     "output_type": "stream",
     "text": [
      "Early stopping at epoch 74 (no improvement in 50 epochs)\n",
      "Training time:  0:01:19.054027\n",
      "\n",
      "--- Training split 0.20 ---\n",
      "\n",
      "(Device: cuda) Started training model: TemporalConvNet\n"
     ]
    },
    {
     "name": "stderr",
     "output_type": "stream",
     "text": [
      "C:\\Users\\centu\\PycharmProjects\\MasterThesis_mmWavePI\\.venv\\Lib\\site-packages\\torch\\nn\\utils\\weight_norm.py:143: FutureWarning: `torch.nn.utils.weight_norm` is deprecated in favor of `torch.nn.utils.parametrizations.weight_norm`.\n",
      "  WeightNorm.apply(module, name, dim)\n"
     ]
    },
    {
     "name": "stdout",
     "output_type": "stream",
     "text": [
      "Early stopping at epoch 109 (no improvement in 50 epochs)\n",
      "Training time:  0:02:49.542543\n",
      "\n",
      "--- Training split 0.30 ---\n",
      "\n",
      "(Device: cuda) Started training model: TemporalConvNet\n"
     ]
    },
    {
     "name": "stderr",
     "output_type": "stream",
     "text": [
      "C:\\Users\\centu\\PycharmProjects\\MasterThesis_mmWavePI\\.venv\\Lib\\site-packages\\torch\\nn\\utils\\weight_norm.py:143: FutureWarning: `torch.nn.utils.weight_norm` is deprecated in favor of `torch.nn.utils.parametrizations.weight_norm`.\n",
      "  WeightNorm.apply(module, name, dim)\n"
     ]
    },
    {
     "name": "stdout",
     "output_type": "stream",
     "text": [
      "Early stopping at epoch 220 (no improvement in 50 epochs)\n",
      "Training time:  0:07:23.655637\n",
      "\n",
      "--- Training split 0.40 ---\n",
      "\n",
      "(Device: cuda) Started training model: TemporalConvNet\n"
     ]
    },
    {
     "name": "stderr",
     "output_type": "stream",
     "text": [
      "C:\\Users\\centu\\PycharmProjects\\MasterThesis_mmWavePI\\.venv\\Lib\\site-packages\\torch\\nn\\utils\\weight_norm.py:143: FutureWarning: `torch.nn.utils.weight_norm` is deprecated in favor of `torch.nn.utils.parametrizations.weight_norm`.\n",
      "  WeightNorm.apply(module, name, dim)\n"
     ]
    },
    {
     "name": "stdout",
     "output_type": "stream",
     "text": [
      "Early stopping at epoch 206 (no improvement in 50 epochs)\n",
      "Training time:  0:08:32.942791\n",
      "\n",
      "--- Training split 0.50 ---\n",
      "\n",
      "(Device: cuda) Started training model: TemporalConvNet\n"
     ]
    },
    {
     "name": "stderr",
     "output_type": "stream",
     "text": [
      "C:\\Users\\centu\\PycharmProjects\\MasterThesis_mmWavePI\\.venv\\Lib\\site-packages\\torch\\nn\\utils\\weight_norm.py:143: FutureWarning: `torch.nn.utils.weight_norm` is deprecated in favor of `torch.nn.utils.parametrizations.weight_norm`.\n",
      "  WeightNorm.apply(module, name, dim)\n"
     ]
    },
    {
     "name": "stdout",
     "output_type": "stream",
     "text": [
      "Early stopping at epoch 160 (no improvement in 50 epochs)\n",
      "Training time:  0:07:56.170611\n",
      "\n",
      "--- Training split 0.60 ---\n",
      "\n",
      "(Device: cuda) Started training model: TemporalConvNet\n"
     ]
    },
    {
     "name": "stderr",
     "output_type": "stream",
     "text": [
      "C:\\Users\\centu\\PycharmProjects\\MasterThesis_mmWavePI\\.venv\\Lib\\site-packages\\torch\\nn\\utils\\weight_norm.py:143: FutureWarning: `torch.nn.utils.weight_norm` is deprecated in favor of `torch.nn.utils.parametrizations.weight_norm`.\n",
      "  WeightNorm.apply(module, name, dim)\n"
     ]
    },
    {
     "name": "stdout",
     "output_type": "stream",
     "text": [
      "Early stopping at epoch 207 (no improvement in 50 epochs)\n",
      "Training time:  0:11:46.929046\n",
      "\n",
      "--- Training split 0.70 ---\n",
      "\n",
      "(Device: cuda) Started training model: TemporalConvNet\n"
     ]
    },
    {
     "name": "stderr",
     "output_type": "stream",
     "text": [
      "C:\\Users\\centu\\PycharmProjects\\MasterThesis_mmWavePI\\.venv\\Lib\\site-packages\\torch\\nn\\utils\\weight_norm.py:143: FutureWarning: `torch.nn.utils.weight_norm` is deprecated in favor of `torch.nn.utils.parametrizations.weight_norm`.\n",
      "  WeightNorm.apply(module, name, dim)\n"
     ]
    },
    {
     "name": "stdout",
     "output_type": "stream",
     "text": [
      "Early stopping at epoch 238 (no improvement in 50 epochs)\n",
      "Training time:  0:15:29.175918\n",
      "\n",
      "--- Running seed 420 ---\n",
      "\n",
      "--- Training split 0.10 ---\n",
      "\n",
      "(Device: cuda) Started training model: TemporalConvNet\n"
     ]
    },
    {
     "name": "stderr",
     "output_type": "stream",
     "text": [
      "C:\\Users\\centu\\PycharmProjects\\MasterThesis_mmWavePI\\.venv\\Lib\\site-packages\\torch\\nn\\utils\\weight_norm.py:143: FutureWarning: `torch.nn.utils.weight_norm` is deprecated in favor of `torch.nn.utils.parametrizations.weight_norm`.\n",
      "  WeightNorm.apply(module, name, dim)\n"
     ]
    },
    {
     "name": "stdout",
     "output_type": "stream",
     "text": [
      "Early stopping at epoch 77 (no improvement in 50 epochs)\n",
      "Training time:  0:01:21.885609\n",
      "\n",
      "--- Training split 0.20 ---\n",
      "\n",
      "(Device: cuda) Started training model: TemporalConvNet\n"
     ]
    },
    {
     "name": "stderr",
     "output_type": "stream",
     "text": [
      "C:\\Users\\centu\\PycharmProjects\\MasterThesis_mmWavePI\\.venv\\Lib\\site-packages\\torch\\nn\\utils\\weight_norm.py:143: FutureWarning: `torch.nn.utils.weight_norm` is deprecated in favor of `torch.nn.utils.parametrizations.weight_norm`.\n",
      "  WeightNorm.apply(module, name, dim)\n"
     ]
    },
    {
     "name": "stdout",
     "output_type": "stream",
     "text": [
      "Early stopping at epoch 156 (no improvement in 50 epochs)\n",
      "Training time:  0:04:01.846398\n",
      "\n",
      "--- Training split 0.30 ---\n",
      "\n",
      "(Device: cuda) Started training model: TemporalConvNet\n"
     ]
    },
    {
     "name": "stderr",
     "output_type": "stream",
     "text": [
      "C:\\Users\\centu\\PycharmProjects\\MasterThesis_mmWavePI\\.venv\\Lib\\site-packages\\torch\\nn\\utils\\weight_norm.py:143: FutureWarning: `torch.nn.utils.weight_norm` is deprecated in favor of `torch.nn.utils.parametrizations.weight_norm`.\n",
      "  WeightNorm.apply(module, name, dim)\n"
     ]
    },
    {
     "name": "stdout",
     "output_type": "stream",
     "text": [
      "Early stopping at epoch 187 (no improvement in 50 epochs)\n",
      "Training time:  0:06:17.414328\n",
      "\n",
      "--- Training split 0.40 ---\n",
      "\n",
      "(Device: cuda) Started training model: TemporalConvNet\n"
     ]
    },
    {
     "name": "stderr",
     "output_type": "stream",
     "text": [
      "C:\\Users\\centu\\PycharmProjects\\MasterThesis_mmWavePI\\.venv\\Lib\\site-packages\\torch\\nn\\utils\\weight_norm.py:143: FutureWarning: `torch.nn.utils.weight_norm` is deprecated in favor of `torch.nn.utils.parametrizations.weight_norm`.\n",
      "  WeightNorm.apply(module, name, dim)\n"
     ]
    },
    {
     "name": "stdout",
     "output_type": "stream",
     "text": [
      "Early stopping at epoch 281 (no improvement in 50 epochs)\n",
      "Training time:  0:11:42.394226\n",
      "\n",
      "--- Training split 0.50 ---\n",
      "\n",
      "(Device: cuda) Started training model: TemporalConvNet\n"
     ]
    },
    {
     "name": "stderr",
     "output_type": "stream",
     "text": [
      "C:\\Users\\centu\\PycharmProjects\\MasterThesis_mmWavePI\\.venv\\Lib\\site-packages\\torch\\nn\\utils\\weight_norm.py:143: FutureWarning: `torch.nn.utils.weight_norm` is deprecated in favor of `torch.nn.utils.parametrizations.weight_norm`.\n",
      "  WeightNorm.apply(module, name, dim)\n"
     ]
    },
    {
     "name": "stdout",
     "output_type": "stream",
     "text": [
      "Early stopping at epoch 195 (no improvement in 50 epochs)\n",
      "Training time:  0:09:42.002263\n",
      "\n",
      "--- Training split 0.60 ---\n",
      "\n",
      "(Device: cuda) Started training model: TemporalConvNet\n"
     ]
    },
    {
     "name": "stderr",
     "output_type": "stream",
     "text": [
      "C:\\Users\\centu\\PycharmProjects\\MasterThesis_mmWavePI\\.venv\\Lib\\site-packages\\torch\\nn\\utils\\weight_norm.py:143: FutureWarning: `torch.nn.utils.weight_norm` is deprecated in favor of `torch.nn.utils.parametrizations.weight_norm`.\n",
      "  WeightNorm.apply(module, name, dim)\n"
     ]
    },
    {
     "name": "stdout",
     "output_type": "stream",
     "text": [
      "Early stopping at epoch 218 (no improvement in 50 epochs)\n",
      "Training time:  0:12:27.083949\n",
      "\n",
      "--- Training split 0.70 ---\n",
      "\n",
      "(Device: cuda) Started training model: TemporalConvNet\n"
     ]
    },
    {
     "name": "stderr",
     "output_type": "stream",
     "text": [
      "C:\\Users\\centu\\PycharmProjects\\MasterThesis_mmWavePI\\.venv\\Lib\\site-packages\\torch\\nn\\utils\\weight_norm.py:143: FutureWarning: `torch.nn.utils.weight_norm` is deprecated in favor of `torch.nn.utils.parametrizations.weight_norm`.\n",
      "  WeightNorm.apply(module, name, dim)\n"
     ]
    },
    {
     "name": "stdout",
     "output_type": "stream",
     "text": [
      "Early stopping at epoch 196 (no improvement in 50 epochs)\n",
      "Training time:  0:12:46.484977\n",
      "\n",
      "--- Running seed 101010 ---\n",
      "\n",
      "--- Training split 0.10 ---\n",
      "\n",
      "(Device: cuda) Started training model: TemporalConvNet\n"
     ]
    },
    {
     "name": "stderr",
     "output_type": "stream",
     "text": [
      "C:\\Users\\centu\\PycharmProjects\\MasterThesis_mmWavePI\\.venv\\Lib\\site-packages\\torch\\nn\\utils\\weight_norm.py:143: FutureWarning: `torch.nn.utils.weight_norm` is deprecated in favor of `torch.nn.utils.parametrizations.weight_norm`.\n",
      "  WeightNorm.apply(module, name, dim)\n"
     ]
    },
    {
     "name": "stdout",
     "output_type": "stream",
     "text": [
      "Early stopping at epoch 83 (no improvement in 50 epochs)\n",
      "Training time:  0:01:29.183519\n",
      "\n",
      "--- Training split 0.20 ---\n",
      "\n",
      "(Device: cuda) Started training model: TemporalConvNet\n"
     ]
    },
    {
     "name": "stderr",
     "output_type": "stream",
     "text": [
      "C:\\Users\\centu\\PycharmProjects\\MasterThesis_mmWavePI\\.venv\\Lib\\site-packages\\torch\\nn\\utils\\weight_norm.py:143: FutureWarning: `torch.nn.utils.weight_norm` is deprecated in favor of `torch.nn.utils.parametrizations.weight_norm`.\n",
      "  WeightNorm.apply(module, name, dim)\n"
     ]
    },
    {
     "name": "stdout",
     "output_type": "stream",
     "text": [
      "Early stopping at epoch 99 (no improvement in 50 epochs)\n",
      "Training time:  0:02:33.230406\n",
      "\n",
      "--- Training split 0.30 ---\n",
      "\n",
      "(Device: cuda) Started training model: TemporalConvNet\n"
     ]
    },
    {
     "name": "stderr",
     "output_type": "stream",
     "text": [
      "C:\\Users\\centu\\PycharmProjects\\MasterThesis_mmWavePI\\.venv\\Lib\\site-packages\\torch\\nn\\utils\\weight_norm.py:143: FutureWarning: `torch.nn.utils.weight_norm` is deprecated in favor of `torch.nn.utils.parametrizations.weight_norm`.\n",
      "  WeightNorm.apply(module, name, dim)\n"
     ]
    },
    {
     "name": "stdout",
     "output_type": "stream",
     "text": [
      "Early stopping at epoch 161 (no improvement in 50 epochs)\n",
      "Training time:  0:05:30.606342\n",
      "\n",
      "--- Training split 0.40 ---\n",
      "\n",
      "(Device: cuda) Started training model: TemporalConvNet\n"
     ]
    },
    {
     "name": "stderr",
     "output_type": "stream",
     "text": [
      "C:\\Users\\centu\\PycharmProjects\\MasterThesis_mmWavePI\\.venv\\Lib\\site-packages\\torch\\nn\\utils\\weight_norm.py:143: FutureWarning: `torch.nn.utils.weight_norm` is deprecated in favor of `torch.nn.utils.parametrizations.weight_norm`.\n",
      "  WeightNorm.apply(module, name, dim)\n"
     ]
    },
    {
     "name": "stdout",
     "output_type": "stream",
     "text": [
      "Early stopping at epoch 266 (no improvement in 50 epochs)\n",
      "Training time:  0:11:04.575740\n",
      "\n",
      "--- Training split 0.50 ---\n",
      "\n",
      "(Device: cuda) Started training model: TemporalConvNet\n"
     ]
    },
    {
     "name": "stderr",
     "output_type": "stream",
     "text": [
      "C:\\Users\\centu\\PycharmProjects\\MasterThesis_mmWavePI\\.venv\\Lib\\site-packages\\torch\\nn\\utils\\weight_norm.py:143: FutureWarning: `torch.nn.utils.weight_norm` is deprecated in favor of `torch.nn.utils.parametrizations.weight_norm`.\n",
      "  WeightNorm.apply(module, name, dim)\n"
     ]
    },
    {
     "name": "stdout",
     "output_type": "stream",
     "text": [
      "Early stopping at epoch 224 (no improvement in 50 epochs)\n",
      "Training time:  0:11:05.276822\n",
      "\n",
      "--- Training split 0.60 ---\n",
      "\n",
      "(Device: cuda) Started training model: TemporalConvNet\n"
     ]
    },
    {
     "name": "stderr",
     "output_type": "stream",
     "text": [
      "C:\\Users\\centu\\PycharmProjects\\MasterThesis_mmWavePI\\.venv\\Lib\\site-packages\\torch\\nn\\utils\\weight_norm.py:143: FutureWarning: `torch.nn.utils.weight_norm` is deprecated in favor of `torch.nn.utils.parametrizations.weight_norm`.\n",
      "  WeightNorm.apply(module, name, dim)\n"
     ]
    },
    {
     "name": "stdout",
     "output_type": "stream",
     "text": [
      "Early stopping at epoch 159 (no improvement in 50 epochs)\n",
      "Training time:  0:09:03.864158\n",
      "\n",
      "--- Training split 0.70 ---\n",
      "\n",
      "(Device: cuda) Started training model: TemporalConvNet\n"
     ]
    },
    {
     "name": "stderr",
     "output_type": "stream",
     "text": [
      "C:\\Users\\centu\\PycharmProjects\\MasterThesis_mmWavePI\\.venv\\Lib\\site-packages\\torch\\nn\\utils\\weight_norm.py:143: FutureWarning: `torch.nn.utils.weight_norm` is deprecated in favor of `torch.nn.utils.parametrizations.weight_norm`.\n",
      "  WeightNorm.apply(module, name, dim)\n"
     ]
    },
    {
     "name": "stdout",
     "output_type": "stream",
     "text": [
      "Early stopping at epoch 203 (no improvement in 50 epochs)\n",
      "Training time:  0:13:11.005936\n",
      "seed outputs:  [([0.1, 0.2, 0.3, 0.4, 0.5, 0.6, 0.7], [0.4, 0.65, 0.73, 0.81, 0.86, 0.88, 0.92], [0.5, 0.55, 0.62, 0.71, 0.75, 0.82, 0.86]), ([0.1, 0.2, 0.3, 0.4, 0.5, 0.6, 0.7], [0.4, 0.63, 0.74, 0.82, 0.86, 0.87, 0.89], [0.5, 0.59, 0.63, 0.7, 0.74, 0.76, 0.8]), ([0.1, 0.2, 0.3, 0.4, 0.5, 0.6, 0.7], [0.47, 0.65, 0.69, 0.83, 0.85, 0.87, 0.93], [0.5, 0.62, 0.62, 0.77, 0.75, 0.76, 0.83])]\n",
      "Running experiment for 5ghz_200hz...\n",
      "\n",
      "--- Running seed 42 ---\n",
      "\n",
      "--- Training split 0.10 ---\n",
      "\n",
      "(Device: cuda) Started training model: TemporalConvNet\n"
     ]
    },
    {
     "name": "stderr",
     "output_type": "stream",
     "text": [
      "C:\\Users\\centu\\PycharmProjects\\MasterThesis_mmWavePI\\.venv\\Lib\\site-packages\\torch\\nn\\utils\\weight_norm.py:143: FutureWarning: `torch.nn.utils.weight_norm` is deprecated in favor of `torch.nn.utils.parametrizations.weight_norm`.\n",
      "  WeightNorm.apply(module, name, dim)\n"
     ]
    },
    {
     "name": "stdout",
     "output_type": "stream",
     "text": [
      "Early stopping at epoch 100 (no improvement in 50 epochs)\n",
      "Training time:  0:01:35.748413\n",
      "\n",
      "--- Training split 0.20 ---\n",
      "\n",
      "(Device: cuda) Started training model: TemporalConvNet\n"
     ]
    },
    {
     "name": "stderr",
     "output_type": "stream",
     "text": [
      "C:\\Users\\centu\\PycharmProjects\\MasterThesis_mmWavePI\\.venv\\Lib\\site-packages\\torch\\nn\\utils\\weight_norm.py:143: FutureWarning: `torch.nn.utils.weight_norm` is deprecated in favor of `torch.nn.utils.parametrizations.weight_norm`.\n",
      "  WeightNorm.apply(module, name, dim)\n"
     ]
    },
    {
     "name": "stdout",
     "output_type": "stream",
     "text": [
      "Early stopping at epoch 106 (no improvement in 50 epochs)\n",
      "Training time:  0:02:29.940187\n",
      "\n",
      "--- Training split 0.30 ---\n",
      "\n",
      "(Device: cuda) Started training model: TemporalConvNet\n"
     ]
    },
    {
     "name": "stderr",
     "output_type": "stream",
     "text": [
      "C:\\Users\\centu\\PycharmProjects\\MasterThesis_mmWavePI\\.venv\\Lib\\site-packages\\torch\\nn\\utils\\weight_norm.py:143: FutureWarning: `torch.nn.utils.weight_norm` is deprecated in favor of `torch.nn.utils.parametrizations.weight_norm`.\n",
      "  WeightNorm.apply(module, name, dim)\n"
     ]
    },
    {
     "name": "stdout",
     "output_type": "stream",
     "text": [
      "Early stopping at epoch 184 (no improvement in 50 epochs)\n",
      "Training time:  0:05:34.714435\n",
      "\n",
      "--- Training split 0.40 ---\n",
      "\n",
      "(Device: cuda) Started training model: TemporalConvNet\n"
     ]
    },
    {
     "name": "stderr",
     "output_type": "stream",
     "text": [
      "C:\\Users\\centu\\PycharmProjects\\MasterThesis_mmWavePI\\.venv\\Lib\\site-packages\\torch\\nn\\utils\\weight_norm.py:143: FutureWarning: `torch.nn.utils.weight_norm` is deprecated in favor of `torch.nn.utils.parametrizations.weight_norm`.\n",
      "  WeightNorm.apply(module, name, dim)\n"
     ]
    },
    {
     "name": "stdout",
     "output_type": "stream",
     "text": [
      "Early stopping at epoch 155 (no improvement in 50 epochs)\n",
      "Training time:  0:05:51.781759\n",
      "\n",
      "--- Training split 0.50 ---\n",
      "\n",
      "(Device: cuda) Started training model: TemporalConvNet\n"
     ]
    },
    {
     "name": "stderr",
     "output_type": "stream",
     "text": [
      "C:\\Users\\centu\\PycharmProjects\\MasterThesis_mmWavePI\\.venv\\Lib\\site-packages\\torch\\nn\\utils\\weight_norm.py:143: FutureWarning: `torch.nn.utils.weight_norm` is deprecated in favor of `torch.nn.utils.parametrizations.weight_norm`.\n",
      "  WeightNorm.apply(module, name, dim)\n"
     ]
    },
    {
     "name": "stdout",
     "output_type": "stream",
     "text": [
      "Early stopping at epoch 177 (no improvement in 50 epochs)\n",
      "Training time:  0:08:00.782461\n",
      "\n",
      "--- Training split 0.60 ---\n",
      "\n",
      "(Device: cuda) Started training model: TemporalConvNet\n"
     ]
    },
    {
     "name": "stderr",
     "output_type": "stream",
     "text": [
      "C:\\Users\\centu\\PycharmProjects\\MasterThesis_mmWavePI\\.venv\\Lib\\site-packages\\torch\\nn\\utils\\weight_norm.py:143: FutureWarning: `torch.nn.utils.weight_norm` is deprecated in favor of `torch.nn.utils.parametrizations.weight_norm`.\n",
      "  WeightNorm.apply(module, name, dim)\n"
     ]
    },
    {
     "name": "stdout",
     "output_type": "stream",
     "text": [
      "Early stopping at epoch 168 (no improvement in 50 epochs)\n",
      "Training time:  0:08:41.786495\n",
      "\n",
      "--- Training split 0.70 ---\n",
      "\n",
      "(Device: cuda) Started training model: TemporalConvNet\n"
     ]
    },
    {
     "name": "stderr",
     "output_type": "stream",
     "text": [
      "C:\\Users\\centu\\PycharmProjects\\MasterThesis_mmWavePI\\.venv\\Lib\\site-packages\\torch\\nn\\utils\\weight_norm.py:143: FutureWarning: `torch.nn.utils.weight_norm` is deprecated in favor of `torch.nn.utils.parametrizations.weight_norm`.\n",
      "  WeightNorm.apply(module, name, dim)\n"
     ]
    },
    {
     "name": "stdout",
     "output_type": "stream",
     "text": [
      "Early stopping at epoch 185 (no improvement in 50 epochs)\n",
      "Training time:  0:10:56.033885\n",
      "\n",
      "--- Running seed 420 ---\n",
      "\n",
      "--- Training split 0.10 ---\n",
      "\n",
      "(Device: cuda) Started training model: TemporalConvNet\n"
     ]
    },
    {
     "name": "stderr",
     "output_type": "stream",
     "text": [
      "C:\\Users\\centu\\PycharmProjects\\MasterThesis_mmWavePI\\.venv\\Lib\\site-packages\\torch\\nn\\utils\\weight_norm.py:143: FutureWarning: `torch.nn.utils.weight_norm` is deprecated in favor of `torch.nn.utils.parametrizations.weight_norm`.\n",
      "  WeightNorm.apply(module, name, dim)\n"
     ]
    },
    {
     "name": "stdout",
     "output_type": "stream",
     "text": [
      "Early stopping at epoch 78 (no improvement in 50 epochs)\n",
      "Training time:  0:01:13.996407\n",
      "\n",
      "--- Training split 0.20 ---\n",
      "\n",
      "(Device: cuda) Started training model: TemporalConvNet\n"
     ]
    },
    {
     "name": "stderr",
     "output_type": "stream",
     "text": [
      "C:\\Users\\centu\\PycharmProjects\\MasterThesis_mmWavePI\\.venv\\Lib\\site-packages\\torch\\nn\\utils\\weight_norm.py:143: FutureWarning: `torch.nn.utils.weight_norm` is deprecated in favor of `torch.nn.utils.parametrizations.weight_norm`.\n",
      "  WeightNorm.apply(module, name, dim)\n"
     ]
    },
    {
     "name": "stdout",
     "output_type": "stream",
     "text": [
      "Early stopping at epoch 84 (no improvement in 50 epochs)\n",
      "Training time:  0:01:57.815378\n",
      "\n",
      "--- Training split 0.30 ---\n",
      "\n",
      "(Device: cuda) Started training model: TemporalConvNet\n"
     ]
    },
    {
     "name": "stderr",
     "output_type": "stream",
     "text": [
      "C:\\Users\\centu\\PycharmProjects\\MasterThesis_mmWavePI\\.venv\\Lib\\site-packages\\torch\\nn\\utils\\weight_norm.py:143: FutureWarning: `torch.nn.utils.weight_norm` is deprecated in favor of `torch.nn.utils.parametrizations.weight_norm`.\n",
      "  WeightNorm.apply(module, name, dim)\n"
     ]
    },
    {
     "name": "stdout",
     "output_type": "stream",
     "text": [
      "Early stopping at epoch 176 (no improvement in 50 epochs)\n",
      "Training time:  0:05:25.533035\n",
      "\n",
      "--- Training split 0.40 ---\n",
      "\n",
      "(Device: cuda) Started training model: TemporalConvNet\n"
     ]
    },
    {
     "name": "stderr",
     "output_type": "stream",
     "text": [
      "C:\\Users\\centu\\PycharmProjects\\MasterThesis_mmWavePI\\.venv\\Lib\\site-packages\\torch\\nn\\utils\\weight_norm.py:143: FutureWarning: `torch.nn.utils.weight_norm` is deprecated in favor of `torch.nn.utils.parametrizations.weight_norm`.\n",
      "  WeightNorm.apply(module, name, dim)\n"
     ]
    },
    {
     "name": "stdout",
     "output_type": "stream",
     "text": [
      "Early stopping at epoch 135 (no improvement in 50 epochs)\n",
      "Training time:  0:05:04.096223\n",
      "\n",
      "--- Training split 0.50 ---\n",
      "\n",
      "(Device: cuda) Started training model: TemporalConvNet\n"
     ]
    },
    {
     "name": "stderr",
     "output_type": "stream",
     "text": [
      "C:\\Users\\centu\\PycharmProjects\\MasterThesis_mmWavePI\\.venv\\Lib\\site-packages\\torch\\nn\\utils\\weight_norm.py:143: FutureWarning: `torch.nn.utils.weight_norm` is deprecated in favor of `torch.nn.utils.parametrizations.weight_norm`.\n",
      "  WeightNorm.apply(module, name, dim)\n"
     ]
    },
    {
     "name": "stdout",
     "output_type": "stream",
     "text": [
      "Early stopping at epoch 203 (no improvement in 50 epochs)\n",
      "Training time:  0:08:55.927128\n",
      "\n",
      "--- Training split 0.60 ---\n",
      "\n",
      "(Device: cuda) Started training model: TemporalConvNet\n"
     ]
    },
    {
     "name": "stderr",
     "output_type": "stream",
     "text": [
      "C:\\Users\\centu\\PycharmProjects\\MasterThesis_mmWavePI\\.venv\\Lib\\site-packages\\torch\\nn\\utils\\weight_norm.py:143: FutureWarning: `torch.nn.utils.weight_norm` is deprecated in favor of `torch.nn.utils.parametrizations.weight_norm`.\n",
      "  WeightNorm.apply(module, name, dim)\n"
     ]
    },
    {
     "name": "stdout",
     "output_type": "stream",
     "text": [
      "Early stopping at epoch 133 (no improvement in 50 epochs)\n",
      "Training time:  0:06:56.113685\n",
      "\n",
      "--- Training split 0.70 ---\n",
      "\n",
      "(Device: cuda) Started training model: TemporalConvNet\n"
     ]
    },
    {
     "name": "stderr",
     "output_type": "stream",
     "text": [
      "C:\\Users\\centu\\PycharmProjects\\MasterThesis_mmWavePI\\.venv\\Lib\\site-packages\\torch\\nn\\utils\\weight_norm.py:143: FutureWarning: `torch.nn.utils.weight_norm` is deprecated in favor of `torch.nn.utils.parametrizations.weight_norm`.\n",
      "  WeightNorm.apply(module, name, dim)\n"
     ]
    },
    {
     "name": "stdout",
     "output_type": "stream",
     "text": [
      "Early stopping at epoch 170 (no improvement in 50 epochs)\n",
      "Training time:  0:10:03.450051\n",
      "\n",
      "--- Running seed 101010 ---\n",
      "\n",
      "--- Training split 0.10 ---\n",
      "\n",
      "(Device: cuda) Started training model: TemporalConvNet\n"
     ]
    },
    {
     "name": "stderr",
     "output_type": "stream",
     "text": [
      "C:\\Users\\centu\\PycharmProjects\\MasterThesis_mmWavePI\\.venv\\Lib\\site-packages\\torch\\nn\\utils\\weight_norm.py:143: FutureWarning: `torch.nn.utils.weight_norm` is deprecated in favor of `torch.nn.utils.parametrizations.weight_norm`.\n",
      "  WeightNorm.apply(module, name, dim)\n"
     ]
    },
    {
     "name": "stdout",
     "output_type": "stream",
     "text": [
      "Early stopping at epoch 86 (no improvement in 50 epochs)\n",
      "Training time:  0:01:24.792397\n",
      "\n",
      "--- Training split 0.20 ---\n",
      "\n",
      "(Device: cuda) Started training model: TemporalConvNet\n"
     ]
    },
    {
     "name": "stderr",
     "output_type": "stream",
     "text": [
      "C:\\Users\\centu\\PycharmProjects\\MasterThesis_mmWavePI\\.venv\\Lib\\site-packages\\torch\\nn\\utils\\weight_norm.py:143: FutureWarning: `torch.nn.utils.weight_norm` is deprecated in favor of `torch.nn.utils.parametrizations.weight_norm`.\n",
      "  WeightNorm.apply(module, name, dim)\n"
     ]
    },
    {
     "name": "stdout",
     "output_type": "stream",
     "text": [
      "Early stopping at epoch 227 (no improvement in 50 epochs)\n",
      "Training time:  0:05:20.406520\n",
      "\n",
      "--- Training split 0.30 ---\n",
      "\n",
      "(Device: cuda) Started training model: TemporalConvNet\n"
     ]
    },
    {
     "name": "stderr",
     "output_type": "stream",
     "text": [
      "C:\\Users\\centu\\PycharmProjects\\MasterThesis_mmWavePI\\.venv\\Lib\\site-packages\\torch\\nn\\utils\\weight_norm.py:143: FutureWarning: `torch.nn.utils.weight_norm` is deprecated in favor of `torch.nn.utils.parametrizations.weight_norm`.\n",
      "  WeightNorm.apply(module, name, dim)\n"
     ]
    },
    {
     "name": "stdout",
     "output_type": "stream",
     "text": [
      "Early stopping at epoch 291 (no improvement in 50 epochs)\n",
      "Training time:  0:08:51.815462\n",
      "\n",
      "--- Training split 0.40 ---\n",
      "\n",
      "(Device: cuda) Started training model: TemporalConvNet\n"
     ]
    },
    {
     "name": "stderr",
     "output_type": "stream",
     "text": [
      "C:\\Users\\centu\\PycharmProjects\\MasterThesis_mmWavePI\\.venv\\Lib\\site-packages\\torch\\nn\\utils\\weight_norm.py:143: FutureWarning: `torch.nn.utils.weight_norm` is deprecated in favor of `torch.nn.utils.parametrizations.weight_norm`.\n",
      "  WeightNorm.apply(module, name, dim)\n"
     ]
    },
    {
     "name": "stdout",
     "output_type": "stream",
     "text": [
      "Early stopping at epoch 236 (no improvement in 50 epochs)\n",
      "Training time:  0:08:52.074121\n",
      "\n",
      "--- Training split 0.50 ---\n"
     ]
    },
    {
     "name": "stderr",
     "output_type": "stream",
     "text": [
      "C:\\Users\\centu\\PycharmProjects\\MasterThesis_mmWavePI\\.venv\\Lib\\site-packages\\torch\\nn\\utils\\weight_norm.py:143: FutureWarning: `torch.nn.utils.weight_norm` is deprecated in favor of `torch.nn.utils.parametrizations.weight_norm`.\n",
      "  WeightNorm.apply(module, name, dim)\n"
     ]
    },
    {
     "name": "stdout",
     "output_type": "stream",
     "text": [
      "\n",
      "(Device: cuda) Started training model: TemporalConvNet\n",
      "Early stopping at epoch 161 (no improvement in 50 epochs)\n",
      "Training time:  0:07:11.762171\n",
      "\n",
      "--- Training split 0.60 ---\n",
      "\n",
      "(Device: cuda) Started training model: TemporalConvNet\n"
     ]
    },
    {
     "name": "stderr",
     "output_type": "stream",
     "text": [
      "C:\\Users\\centu\\PycharmProjects\\MasterThesis_mmWavePI\\.venv\\Lib\\site-packages\\torch\\nn\\utils\\weight_norm.py:143: FutureWarning: `torch.nn.utils.weight_norm` is deprecated in favor of `torch.nn.utils.parametrizations.weight_norm`.\n",
      "  WeightNorm.apply(module, name, dim)\n"
     ]
    },
    {
     "name": "stdout",
     "output_type": "stream",
     "text": [
      "Early stopping at epoch 241 (no improvement in 50 epochs)\n",
      "Training time:  0:12:24.552311\n",
      "\n",
      "--- Training split 0.70 ---\n",
      "\n",
      "(Device: cuda) Started training model: TemporalConvNet\n"
     ]
    },
    {
     "name": "stderr",
     "output_type": "stream",
     "text": [
      "C:\\Users\\centu\\PycharmProjects\\MasterThesis_mmWavePI\\.venv\\Lib\\site-packages\\torch\\nn\\utils\\weight_norm.py:143: FutureWarning: `torch.nn.utils.weight_norm` is deprecated in favor of `torch.nn.utils.parametrizations.weight_norm`.\n",
      "  WeightNorm.apply(module, name, dim)\n"
     ]
    },
    {
     "name": "stdout",
     "output_type": "stream",
     "text": [
      "Early stopping at epoch 143 (no improvement in 50 epochs)\n",
      "Training time:  0:08:24.073728\n",
      "seed outputs:  [([0.1, 0.2, 0.3, 0.4, 0.5, 0.6, 0.7], [0.5, 0.59, 0.79, 0.86, 0.89, 0.92, 0.96], [0.47, 0.59, 0.63, 0.78, 0.8, 0.82, 0.89]), ([0.1, 0.2, 0.3, 0.4, 0.5, 0.6, 0.7], [0.47, 0.59, 0.79, 0.8, 0.89, 0.92, 0.94], [0.47, 0.57, 0.66, 0.72, 0.83, 0.83, 0.86]), ([0.1, 0.2, 0.3, 0.4, 0.5, 0.6, 0.7], [0.41, 0.66, 0.79, 0.86, 0.9, 0.93, 0.93], [0.44, 0.58, 0.67, 0.83, 0.84, 0.87, 0.89])]\n",
      "Running experiment for 60ghz_collected...\n",
      "\n",
      "--- Running seed 42 ---\n",
      "\n",
      "--- Training split 0.10 ---\n",
      "\n",
      "(Device: cuda) Started training model: TemporalConvNet\n"
     ]
    },
    {
     "name": "stderr",
     "output_type": "stream",
     "text": [
      "C:\\Users\\centu\\PycharmProjects\\MasterThesis_mmWavePI\\.venv\\Lib\\site-packages\\torch\\nn\\utils\\weight_norm.py:143: FutureWarning: `torch.nn.utils.weight_norm` is deprecated in favor of `torch.nn.utils.parametrizations.weight_norm`.\n",
      "  WeightNorm.apply(module, name, dim)\n"
     ]
    },
    {
     "name": "stdout",
     "output_type": "stream",
     "text": [
      "Early stopping at epoch 159 (no improvement in 50 epochs)\n",
      "Training time:  0:02:44.954067\n",
      "\n",
      "--- Training split 0.20 ---\n",
      "\n",
      "(Device: cuda) Started training model: TemporalConvNet\n"
     ]
    },
    {
     "name": "stderr",
     "output_type": "stream",
     "text": [
      "C:\\Users\\centu\\PycharmProjects\\MasterThesis_mmWavePI\\.venv\\Lib\\site-packages\\torch\\nn\\utils\\weight_norm.py:143: FutureWarning: `torch.nn.utils.weight_norm` is deprecated in favor of `torch.nn.utils.parametrizations.weight_norm`.\n",
      "  WeightNorm.apply(module, name, dim)\n"
     ]
    },
    {
     "name": "stdout",
     "output_type": "stream",
     "text": [
      "Early stopping at epoch 224 (no improvement in 50 epochs)\n",
      "Training time:  0:05:35.399379\n",
      "\n",
      "--- Training split 0.30 ---\n",
      "\n",
      "(Device: cuda) Started training model: TemporalConvNet\n"
     ]
    },
    {
     "name": "stderr",
     "output_type": "stream",
     "text": [
      "C:\\Users\\centu\\PycharmProjects\\MasterThesis_mmWavePI\\.venv\\Lib\\site-packages\\torch\\nn\\utils\\weight_norm.py:143: FutureWarning: `torch.nn.utils.weight_norm` is deprecated in favor of `torch.nn.utils.parametrizations.weight_norm`.\n",
      "  WeightNorm.apply(module, name, dim)\n"
     ]
    },
    {
     "name": "stdout",
     "output_type": "stream",
     "text": [
      "Early stopping at epoch 274 (no improvement in 50 epochs)\n",
      "Training time:  0:09:05.782288\n",
      "\n",
      "--- Training split 0.40 ---\n",
      "\n",
      "(Device: cuda) Started training model: TemporalConvNet\n"
     ]
    },
    {
     "name": "stderr",
     "output_type": "stream",
     "text": [
      "C:\\Users\\centu\\PycharmProjects\\MasterThesis_mmWavePI\\.venv\\Lib\\site-packages\\torch\\nn\\utils\\weight_norm.py:143: FutureWarning: `torch.nn.utils.weight_norm` is deprecated in favor of `torch.nn.utils.parametrizations.weight_norm`.\n",
      "  WeightNorm.apply(module, name, dim)\n"
     ]
    },
    {
     "name": "stdout",
     "output_type": "stream",
     "text": [
      "Early stopping at epoch 166 (no improvement in 50 epochs)\n",
      "Training time:  0:07:00.895624\n",
      "\n",
      "--- Training split 0.50 ---\n",
      "\n",
      "(Device: cuda) Started training model: TemporalConvNet\n"
     ]
    },
    {
     "name": "stderr",
     "output_type": "stream",
     "text": [
      "C:\\Users\\centu\\PycharmProjects\\MasterThesis_mmWavePI\\.venv\\Lib\\site-packages\\torch\\nn\\utils\\weight_norm.py:143: FutureWarning: `torch.nn.utils.weight_norm` is deprecated in favor of `torch.nn.utils.parametrizations.weight_norm`.\n",
      "  WeightNorm.apply(module, name, dim)\n"
     ]
    },
    {
     "name": "stdout",
     "output_type": "stream",
     "text": [
      "Early stopping at epoch 227 (no improvement in 50 epochs)\n",
      "Training time:  0:11:23.710120\n",
      "\n",
      "--- Training split 0.60 ---\n",
      "\n",
      "(Device: cuda) Started training model: TemporalConvNet\n"
     ]
    },
    {
     "name": "stderr",
     "output_type": "stream",
     "text": [
      "C:\\Users\\centu\\PycharmProjects\\MasterThesis_mmWavePI\\.venv\\Lib\\site-packages\\torch\\nn\\utils\\weight_norm.py:143: FutureWarning: `torch.nn.utils.weight_norm` is deprecated in favor of `torch.nn.utils.parametrizations.weight_norm`.\n",
      "  WeightNorm.apply(module, name, dim)\n"
     ]
    },
    {
     "name": "stdout",
     "output_type": "stream",
     "text": [
      "Early stopping at epoch 193 (no improvement in 50 epochs)\n",
      "Training time:  0:11:11.604226\n",
      "\n",
      "--- Training split 0.70 ---\n",
      "\n",
      "(Device: cuda) Started training model: TemporalConvNet\n"
     ]
    },
    {
     "name": "stderr",
     "output_type": "stream",
     "text": [
      "C:\\Users\\centu\\PycharmProjects\\MasterThesis_mmWavePI\\.venv\\Lib\\site-packages\\torch\\nn\\utils\\weight_norm.py:143: FutureWarning: `torch.nn.utils.weight_norm` is deprecated in favor of `torch.nn.utils.parametrizations.weight_norm`.\n",
      "  WeightNorm.apply(module, name, dim)\n"
     ]
    },
    {
     "name": "stdout",
     "output_type": "stream",
     "text": [
      "Early stopping at epoch 150 (no improvement in 50 epochs)\n",
      "Training time:  0:09:51.245955\n",
      "\n",
      "--- Running seed 420 ---\n",
      "\n",
      "--- Training split 0.10 ---\n",
      "\n",
      "(Device: cuda) Started training model: TemporalConvNet\n"
     ]
    },
    {
     "name": "stderr",
     "output_type": "stream",
     "text": [
      "C:\\Users\\centu\\PycharmProjects\\MasterThesis_mmWavePI\\.venv\\Lib\\site-packages\\torch\\nn\\utils\\weight_norm.py:143: FutureWarning: `torch.nn.utils.weight_norm` is deprecated in favor of `torch.nn.utils.parametrizations.weight_norm`.\n",
      "  WeightNorm.apply(module, name, dim)\n"
     ]
    },
    {
     "name": "stdout",
     "output_type": "stream",
     "text": [
      "Early stopping at epoch 151 (no improvement in 50 epochs)\n",
      "Training time:  0:02:42.128396\n",
      "\n",
      "--- Training split 0.20 ---\n",
      "\n",
      "(Device: cuda) Started training model: TemporalConvNet\n"
     ]
    },
    {
     "name": "stderr",
     "output_type": "stream",
     "text": [
      "C:\\Users\\centu\\PycharmProjects\\MasterThesis_mmWavePI\\.venv\\Lib\\site-packages\\torch\\nn\\utils\\weight_norm.py:143: FutureWarning: `torch.nn.utils.weight_norm` is deprecated in favor of `torch.nn.utils.parametrizations.weight_norm`.\n",
      "  WeightNorm.apply(module, name, dim)\n"
     ]
    },
    {
     "name": "stdout",
     "output_type": "stream",
     "text": [
      "Early stopping at epoch 208 (no improvement in 50 epochs)\n",
      "Training time:  0:05:23.397638\n",
      "\n",
      "--- Training split 0.30 ---\n",
      "\n",
      "(Device: cuda) Started training model: TemporalConvNet\n"
     ]
    },
    {
     "name": "stderr",
     "output_type": "stream",
     "text": [
      "C:\\Users\\centu\\PycharmProjects\\MasterThesis_mmWavePI\\.venv\\Lib\\site-packages\\torch\\nn\\utils\\weight_norm.py:143: FutureWarning: `torch.nn.utils.weight_norm` is deprecated in favor of `torch.nn.utils.parametrizations.weight_norm`.\n",
      "  WeightNorm.apply(module, name, dim)\n"
     ]
    },
    {
     "name": "stdout",
     "output_type": "stream",
     "text": [
      "Early stopping at epoch 336 (no improvement in 50 epochs)\n",
      "Training time:  0:11:22.633546\n",
      "\n",
      "--- Training split 0.40 ---\n",
      "\n",
      "(Device: cuda) Started training model: TemporalConvNet\n"
     ]
    },
    {
     "name": "stderr",
     "output_type": "stream",
     "text": [
      "C:\\Users\\centu\\PycharmProjects\\MasterThesis_mmWavePI\\.venv\\Lib\\site-packages\\torch\\nn\\utils\\weight_norm.py:143: FutureWarning: `torch.nn.utils.weight_norm` is deprecated in favor of `torch.nn.utils.parametrizations.weight_norm`.\n",
      "  WeightNorm.apply(module, name, dim)\n"
     ]
    },
    {
     "name": "stdout",
     "output_type": "stream",
     "text": [
      "Early stopping at epoch 331 (no improvement in 50 epochs)\n",
      "Training time:  0:13:51.151425\n",
      "\n",
      "--- Training split 0.50 ---\n",
      "\n",
      "(Device: cuda) Started training model: TemporalConvNet\n"
     ]
    },
    {
     "name": "stderr",
     "output_type": "stream",
     "text": [
      "C:\\Users\\centu\\PycharmProjects\\MasterThesis_mmWavePI\\.venv\\Lib\\site-packages\\torch\\nn\\utils\\weight_norm.py:143: FutureWarning: `torch.nn.utils.weight_norm` is deprecated in favor of `torch.nn.utils.parametrizations.weight_norm`.\n",
      "  WeightNorm.apply(module, name, dim)\n"
     ]
    },
    {
     "name": "stdout",
     "output_type": "stream",
     "text": [
      "Early stopping at epoch 286 (no improvement in 50 epochs)\n",
      "Training time:  0:14:14.155480\n",
      "\n",
      "--- Training split 0.60 ---\n",
      "\n",
      "(Device: cuda) Started training model: TemporalConvNet\n"
     ]
    },
    {
     "name": "stderr",
     "output_type": "stream",
     "text": [
      "C:\\Users\\centu\\PycharmProjects\\MasterThesis_mmWavePI\\.venv\\Lib\\site-packages\\torch\\nn\\utils\\weight_norm.py:143: FutureWarning: `torch.nn.utils.weight_norm` is deprecated in favor of `torch.nn.utils.parametrizations.weight_norm`.\n",
      "  WeightNorm.apply(module, name, dim)\n"
     ]
    },
    {
     "name": "stdout",
     "output_type": "stream",
     "text": [
      "Early stopping at epoch 205 (no improvement in 50 epochs)\n",
      "Training time:  0:11:46.671741\n",
      "\n",
      "--- Training split 0.70 ---\n",
      "\n",
      "(Device: cuda) Started training model: TemporalConvNet\n"
     ]
    },
    {
     "name": "stderr",
     "output_type": "stream",
     "text": [
      "C:\\Users\\centu\\PycharmProjects\\MasterThesis_mmWavePI\\.venv\\Lib\\site-packages\\torch\\nn\\utils\\weight_norm.py:143: FutureWarning: `torch.nn.utils.weight_norm` is deprecated in favor of `torch.nn.utils.parametrizations.weight_norm`.\n",
      "  WeightNorm.apply(module, name, dim)\n"
     ]
    },
    {
     "name": "stdout",
     "output_type": "stream",
     "text": [
      "Early stopping at epoch 177 (no improvement in 50 epochs)\n",
      "Training time:  0:11:36.884418\n",
      "\n",
      "--- Running seed 101010 ---\n",
      "\n",
      "--- Training split 0.10 ---\n",
      "\n",
      "(Device: cuda) Started training model: TemporalConvNet\n"
     ]
    },
    {
     "name": "stderr",
     "output_type": "stream",
     "text": [
      "C:\\Users\\centu\\PycharmProjects\\MasterThesis_mmWavePI\\.venv\\Lib\\site-packages\\torch\\nn\\utils\\weight_norm.py:143: FutureWarning: `torch.nn.utils.weight_norm` is deprecated in favor of `torch.nn.utils.parametrizations.weight_norm`.\n",
      "  WeightNorm.apply(module, name, dim)\n"
     ]
    },
    {
     "name": "stdout",
     "output_type": "stream",
     "text": [
      "Early stopping at epoch 206 (no improvement in 50 epochs)\n",
      "Training time:  0:03:41.612594\n",
      "\n",
      "--- Training split 0.20 ---\n",
      "\n",
      "(Device: cuda) Started training model: TemporalConvNet\n"
     ]
    },
    {
     "name": "stderr",
     "output_type": "stream",
     "text": [
      "C:\\Users\\centu\\PycharmProjects\\MasterThesis_mmWavePI\\.venv\\Lib\\site-packages\\torch\\nn\\utils\\weight_norm.py:143: FutureWarning: `torch.nn.utils.weight_norm` is deprecated in favor of `torch.nn.utils.parametrizations.weight_norm`.\n",
      "  WeightNorm.apply(module, name, dim)\n"
     ]
    },
    {
     "name": "stdout",
     "output_type": "stream",
     "text": [
      "Early stopping at epoch 311 (no improvement in 50 epochs)\n",
      "Training time:  0:08:05.583813\n",
      "\n",
      "--- Training split 0.30 ---\n",
      "\n",
      "(Device: cuda) Started training model: TemporalConvNet\n"
     ]
    },
    {
     "name": "stderr",
     "output_type": "stream",
     "text": [
      "C:\\Users\\centu\\PycharmProjects\\MasterThesis_mmWavePI\\.venv\\Lib\\site-packages\\torch\\nn\\utils\\weight_norm.py:143: FutureWarning: `torch.nn.utils.weight_norm` is deprecated in favor of `torch.nn.utils.parametrizations.weight_norm`.\n",
      "  WeightNorm.apply(module, name, dim)\n"
     ]
    },
    {
     "name": "stdout",
     "output_type": "stream",
     "text": [
      "Early stopping at epoch 164 (no improvement in 50 epochs)\n",
      "Training time:  0:05:34.516678\n",
      "\n",
      "--- Training split 0.40 ---\n",
      "\n",
      "(Device: cuda) Started training model: TemporalConvNet\n"
     ]
    },
    {
     "name": "stderr",
     "output_type": "stream",
     "text": [
      "C:\\Users\\centu\\PycharmProjects\\MasterThesis_mmWavePI\\.venv\\Lib\\site-packages\\torch\\nn\\utils\\weight_norm.py:143: FutureWarning: `torch.nn.utils.weight_norm` is deprecated in favor of `torch.nn.utils.parametrizations.weight_norm`.\n",
      "  WeightNorm.apply(module, name, dim)\n"
     ]
    },
    {
     "name": "stdout",
     "output_type": "stream",
     "text": [
      "Early stopping at epoch 178 (no improvement in 50 epochs)\n",
      "Training time:  0:07:29.150895\n",
      "\n",
      "--- Training split 0.50 ---\n",
      "\n",
      "(Device: cuda) Started training model: TemporalConvNet\n"
     ]
    },
    {
     "name": "stderr",
     "output_type": "stream",
     "text": [
      "C:\\Users\\centu\\PycharmProjects\\MasterThesis_mmWavePI\\.venv\\Lib\\site-packages\\torch\\nn\\utils\\weight_norm.py:143: FutureWarning: `torch.nn.utils.weight_norm` is deprecated in favor of `torch.nn.utils.parametrizations.weight_norm`.\n",
      "  WeightNorm.apply(module, name, dim)\n"
     ]
    },
    {
     "name": "stdout",
     "output_type": "stream",
     "text": [
      "Early stopping at epoch 156 (no improvement in 50 epochs)\n",
      "Training time:  0:07:45.257049\n",
      "\n",
      "--- Training split 0.60 ---\n",
      "\n",
      "(Device: cuda) Started training model: TemporalConvNet\n"
     ]
    },
    {
     "name": "stderr",
     "output_type": "stream",
     "text": [
      "C:\\Users\\centu\\PycharmProjects\\MasterThesis_mmWavePI\\.venv\\Lib\\site-packages\\torch\\nn\\utils\\weight_norm.py:143: FutureWarning: `torch.nn.utils.weight_norm` is deprecated in favor of `torch.nn.utils.parametrizations.weight_norm`.\n",
      "  WeightNorm.apply(module, name, dim)\n"
     ]
    },
    {
     "name": "stdout",
     "output_type": "stream",
     "text": [
      "Early stopping at epoch 190 (no improvement in 50 epochs)\n",
      "Training time:  0:10:46.860141\n",
      "\n",
      "--- Training split 0.70 ---\n",
      "\n",
      "(Device: cuda) Started training model: TemporalConvNet\n"
     ]
    },
    {
     "name": "stderr",
     "output_type": "stream",
     "text": [
      "C:\\Users\\centu\\PycharmProjects\\MasterThesis_mmWavePI\\.venv\\Lib\\site-packages\\torch\\nn\\utils\\weight_norm.py:143: FutureWarning: `torch.nn.utils.weight_norm` is deprecated in favor of `torch.nn.utils.parametrizations.weight_norm`.\n",
      "  WeightNorm.apply(module, name, dim)\n"
     ]
    },
    {
     "name": "stdout",
     "output_type": "stream",
     "text": [
      "Early stopping at epoch 158 (no improvement in 50 epochs)\n",
      "Training time:  0:10:07.623306\n",
      "seed outputs:  [([0.1, 0.2, 0.3, 0.4, 0.5, 0.6, 0.7], [0.75, 0.79, 0.83, 0.91, 0.9, 0.95, 0.93], [0.72, 0.75, 0.73, 0.82, 0.86, 0.89, 0.9]), ([0.1, 0.2, 0.3, 0.4, 0.5, 0.6, 0.7], [0.69, 0.81, 0.83, 0.88, 0.9, 0.96, 0.96], [0.69, 0.72, 0.74, 0.81, 0.85, 0.86, 0.84]), ([0.1, 0.2, 0.3, 0.4, 0.5, 0.6, 0.7], [0.71, 0.82, 0.83, 0.86, 0.92, 0.94, 0.93], [0.69, 0.74, 0.77, 0.8, 0.8, 0.9, 0.88])]\n"
     ]
    }
   ],
   "execution_count": 7
  },
  {
   "metadata": {
    "ExecuteTime": {
     "end_time": "2025-06-03T20:53:55.526546Z",
     "start_time": "2025-06-03T20:53:55.460015Z"
    }
   },
   "cell_type": "code",
   "source": "plot_learning_curves(results_dict=results_per_signal, std_dict=stds_per_signal)",
   "id": "29f65439dac861ad",
   "outputs": [
    {
     "data": {
      "text/plain": [
       "<Figure size 640x480 with 1 Axes>"
      ],
      "image/png": "[encoded data removed]"
     },
     "metadata": {},
     "output_type": "display_data"
    }
   ],
   "execution_count": 8
  },
  {
   "metadata": {
    "ExecuteTime": {
     "end_time": "2025-06-03T22:13:40.126857Z",
     "start_time": "2025-06-03T20:53:55.532549Z"
    }
   },
   "cell_type": "code",
   "source": [
    "results_per_signal, stds_per_signal = run_experiment_with_seeds(experiment_func=get_learning_curve_data,\n",
    "                                                                signal_configs=signal_configs,\n",
    "                                                                varying_param_name='train_splits',\n",
    "                                                                varying_param_value=train_splits,\n",
    "                                                                n_seeds=num_seeds,\n",
    "                                                                accuracy_type=accuracy_type,\n",
    "                                                                seconds_per_sample=1)"
   ],
   "id": "efb90890aae77b04",
   "outputs": [
    {
     "name": "stdout",
     "output_type": "stream",
     "text": [
      "Running experiment for 5ghz_10hz...\n",
      "\n",
      "--- Running seed 42 ---\n",
      "\n",
      "--- Training split 0.10 ---\n",
      "\n",
      "(Device: cuda) Started training model: TemporalConvNet\n"
     ]
    },
    {
     "name": "stderr",
     "output_type": "stream",
     "text": [
      "C:\\Users\\centu\\PycharmProjects\\MasterThesis_mmWavePI\\.venv\\Lib\\site-packages\\torch\\nn\\utils\\weight_norm.py:143: FutureWarning: `torch.nn.utils.weight_norm` is deprecated in favor of `torch.nn.utils.parametrizations.weight_norm`.\n",
      "  WeightNorm.apply(module, name, dim)\n"
     ]
    },
    {
     "name": "stdout",
     "output_type": "stream",
     "text": [
      "Early stopping at epoch 87 (no improvement in 50 epochs)\n",
      "Training time:  0:03:12.397875\n",
      "\n",
      "--- Training split 0.20 ---\n",
      "\n",
      "(Device: cuda) Started training model: TemporalConvNet\n"
     ]
    },
    {
     "name": "stderr",
     "output_type": "stream",
     "text": [
      "C:\\Users\\centu\\PycharmProjects\\MasterThesis_mmWavePI\\.venv\\Lib\\site-packages\\torch\\nn\\utils\\weight_norm.py:143: FutureWarning: `torch.nn.utils.weight_norm` is deprecated in favor of `torch.nn.utils.parametrizations.weight_norm`.\n",
      "  WeightNorm.apply(module, name, dim)\n"
     ]
    },
    {
     "name": "stdout",
     "output_type": "stream",
     "text": [
      "Early stopping at epoch 112 (no improvement in 50 epochs)\n",
      "Training time:  0:06:01.203679\n",
      "\n",
      "--- Training split 0.30 ---\n",
      "\n",
      "(Device: cuda) Started training model: TemporalConvNet\n"
     ]
    },
    {
     "name": "stderr",
     "output_type": "stream",
     "text": [
      "C:\\Users\\centu\\PycharmProjects\\MasterThesis_mmWavePI\\.venv\\Lib\\site-packages\\torch\\nn\\utils\\weight_norm.py:143: FutureWarning: `torch.nn.utils.weight_norm` is deprecated in favor of `torch.nn.utils.parametrizations.weight_norm`.\n",
      "  WeightNorm.apply(module, name, dim)\n"
     ]
    },
    {
     "name": "stdout",
     "output_type": "stream",
     "text": [
      "Early stopping at epoch 154 (no improvement in 50 epochs)\n",
      "Training time:  0:10:57.157268\n",
      "\n",
      "--- Training split 0.40 ---\n",
      "\n",
      "(Device: cuda) Started training model: TemporalConvNet\n"
     ]
    },
    {
     "name": "stderr",
     "output_type": "stream",
     "text": [
      "C:\\Users\\centu\\PycharmProjects\\MasterThesis_mmWavePI\\.venv\\Lib\\site-packages\\torch\\nn\\utils\\weight_norm.py:143: FutureWarning: `torch.nn.utils.weight_norm` is deprecated in favor of `torch.nn.utils.parametrizations.weight_norm`.\n",
      "  WeightNorm.apply(module, name, dim)\n"
     ]
    },
    {
     "name": "stdout",
     "output_type": "stream",
     "text": [
      "Early stopping at epoch 338 (no improvement in 50 epochs)\n",
      "Training time:  0:37:28.118197\n",
      "\n",
      "--- Training split 0.50 ---\n",
      "\n",
      "(Device: cuda) Started training model: TemporalConvNet\n"
     ]
    },
    {
     "name": "stderr",
     "output_type": "stream",
     "text": [
      "C:\\Users\\centu\\PycharmProjects\\MasterThesis_mmWavePI\\.venv\\Lib\\site-packages\\torch\\nn\\utils\\weight_norm.py:143: FutureWarning: `torch.nn.utils.weight_norm` is deprecated in favor of `torch.nn.utils.parametrizations.weight_norm`.\n",
      "  WeightNorm.apply(module, name, dim)\n"
     ]
    },
    {
     "ename": "KeyboardInterrupt",
     "evalue": "",
     "output_type": "error",
     "traceback": [
      "\u001B[1;31m---------------------------------------------------------------------------\u001B[0m",
      "\u001B[1;31mKeyboardInterrupt\u001B[0m                         Traceback (most recent call last)",
      "Cell \u001B[1;32mIn[9], line 1\u001B[0m\n\u001B[1;32m----> 1\u001B[0m results_per_signal, stds_per_signal \u001B[38;5;241m=\u001B[39m \u001B[43mrun_experiment_with_seeds\u001B[49m\u001B[43m(\u001B[49m\u001B[43mexperiment_func\u001B[49m\u001B[38;5;241;43m=\u001B[39;49m\u001B[43mget_learning_curve_data\u001B[49m\u001B[43m,\u001B[49m\n\u001B[0;32m      2\u001B[0m \u001B[43m                                                                \u001B[49m\u001B[43msignal_configs\u001B[49m\u001B[38;5;241;43m=\u001B[39;49m\u001B[43msignal_configs\u001B[49m\u001B[43m,\u001B[49m\n\u001B[0;32m      3\u001B[0m \u001B[43m                                                                \u001B[49m\u001B[43mvarying_param_name\u001B[49m\u001B[38;5;241;43m=\u001B[39;49m\u001B[38;5;124;43m'\u001B[39;49m\u001B[38;5;124;43mtrain_splits\u001B[39;49m\u001B[38;5;124;43m'\u001B[39;49m\u001B[43m,\u001B[49m\n\u001B[0;32m      4\u001B[0m \u001B[43m                                                                \u001B[49m\u001B[43mvarying_param_value\u001B[49m\u001B[38;5;241;43m=\u001B[39;49m\u001B[43mtrain_splits\u001B[49m\u001B[43m,\u001B[49m\n\u001B[0;32m      5\u001B[0m \u001B[43m                                                                \u001B[49m\u001B[43mn_seeds\u001B[49m\u001B[38;5;241;43m=\u001B[39;49m\u001B[43mnum_seeds\u001B[49m\u001B[43m,\u001B[49m\n\u001B[0;32m      6\u001B[0m \u001B[43m                                                                \u001B[49m\u001B[43maccuracy_type\u001B[49m\u001B[38;5;241;43m=\u001B[39;49m\u001B[43maccuracy_type\u001B[49m\u001B[43m,\u001B[49m\n\u001B[0;32m      7\u001B[0m \u001B[43m                                                                \u001B[49m\u001B[43mseconds_per_sample\u001B[49m\u001B[38;5;241;43m=\u001B[39;49m\u001B[38;5;241;43m1\u001B[39;49m\u001B[43m)\u001B[49m\n",
      "File \u001B[1;32m~\\PycharmProjects\\MasterThesis_mmWavePI\\src\\helper_funtions.py:760\u001B[0m, in \u001B[0;36mrun_experiment_with_seeds\u001B[1;34m(experiment_func, signal_configs, varying_param_name, varying_param_value, n_seeds, accuracy_type, seconds_per_sample)\u001B[0m\n\u001B[0;32m    746\u001B[0m \u001B[38;5;28;01mfor\u001B[39;00m signal, config \u001B[38;5;129;01min\u001B[39;00m signal_configs\u001B[38;5;241m.\u001B[39mitems():\n\u001B[0;32m    747\u001B[0m     \u001B[38;5;28mprint\u001B[39m(\u001B[38;5;124mf\u001B[39m\u001B[38;5;124m\"\u001B[39m\u001B[38;5;124mRunning experiment for \u001B[39m\u001B[38;5;132;01m{\u001B[39;00msignal\u001B[38;5;132;01m}\u001B[39;00m\u001B[38;5;124m...\u001B[39m\u001B[38;5;124m\"\u001B[39m)\n\u001B[0;32m    749\u001B[0m     func_args \u001B[38;5;241m=\u001B[39m {\n\u001B[0;32m    750\u001B[0m         \u001B[38;5;124m'\u001B[39m\u001B[38;5;124mmodel_class\u001B[39m\u001B[38;5;124m'\u001B[39m: config[\u001B[38;5;124m'\u001B[39m\u001B[38;5;124mmodel_class\u001B[39m\u001B[38;5;124m'\u001B[39m],\n\u001B[0;32m    751\u001B[0m         \u001B[38;5;124m'\u001B[39m\u001B[38;5;124mmodel_args\u001B[39m\u001B[38;5;124m'\u001B[39m: config[\u001B[38;5;124m'\u001B[39m\u001B[38;5;124mmodel_args\u001B[39m\u001B[38;5;124m'\u001B[39m],\n\u001B[0;32m    752\u001B[0m         \u001B[38;5;124m'\u001B[39m\u001B[38;5;124mfolder_path\u001B[39m\u001B[38;5;124m'\u001B[39m: config[\u001B[38;5;124m'\u001B[39m\u001B[38;5;124mfolder_path\u001B[39m\u001B[38;5;124m'\u001B[39m],\n\u001B[0;32m    753\u001B[0m         \u001B[38;5;124m'\u001B[39m\u001B[38;5;124mdevice\u001B[39m\u001B[38;5;124m'\u001B[39m: DEVICE,\n\u001B[0;32m    754\u001B[0m         varying_param_name: varying_param_value,\n\u001B[0;32m    755\u001B[0m         \u001B[38;5;124m'\u001B[39m\u001B[38;5;124mnum_epochs\u001B[39m\u001B[38;5;124m'\u001B[39m: config[\u001B[38;5;124m'\u001B[39m\u001B[38;5;124mnum_epochs\u001B[39m\u001B[38;5;124m'\u001B[39m],\n\u001B[0;32m    756\u001B[0m         \u001B[38;5;124m'\u001B[39m\u001B[38;5;124mbackground_subtraction\u001B[39m\u001B[38;5;124m'\u001B[39m: config[\u001B[38;5;124m'\u001B[39m\u001B[38;5;124mbackground_subtraction\u001B[39m\u001B[38;5;124m'\u001B[39m],\n\u001B[0;32m    757\u001B[0m         \u001B[38;5;124m'\u001B[39m\u001B[38;5;124mrows_per_second\u001B[39m\u001B[38;5;124m'\u001B[39m: config[\u001B[38;5;124m'\u001B[39m\u001B[38;5;124mrows_per_second\u001B[39m\u001B[38;5;124m'\u001B[39m],\n\u001B[0;32m    758\u001B[0m         \u001B[38;5;124m'\u001B[39m\u001B[38;5;124mseconds_per_sample\u001B[39m\u001B[38;5;124m'\u001B[39m: seconds_per_sample,\n\u001B[0;32m    759\u001B[0m         \u001B[38;5;124m'\u001B[39m\u001B[38;5;124msignal_type\u001B[39m\u001B[38;5;124m'\u001B[39m: signal,\n\u001B[1;32m--> 760\u001B[0m     }\n\u001B[0;32m    762\u001B[0m     seed_outputs \u001B[38;5;241m=\u001B[39m run_with_seeds(\n\u001B[0;32m    763\u001B[0m         func\u001B[38;5;241m=\u001B[39mexperiment_func,\n\u001B[0;32m    764\u001B[0m         func_args\u001B[38;5;241m=\u001B[39mfunc_args,\n\u001B[0;32m    765\u001B[0m         n_seeds\u001B[38;5;241m=\u001B[39mn_seeds\n\u001B[0;32m    766\u001B[0m     )\n\u001B[0;32m    768\u001B[0m     \u001B[38;5;28mprint\u001B[39m(\u001B[38;5;124m\"\u001B[39m\u001B[38;5;124mseed outputs: \u001B[39m\u001B[38;5;124m\"\u001B[39m, seed_outputs)\n",
      "File \u001B[1;32m~\\PycharmProjects\\MasterThesis_mmWavePI\\src\\helper_funtions.py:719\u001B[0m, in \u001B[0;36mrun_with_seeds\u001B[1;34m(func, func_args, n_seeds)\u001B[0m\n\u001B[0;32m      0\u001B[0m <Error retrieving source code with stack_data see ipython/ipython#13598>\n",
      "File \u001B[1;32m~\\PycharmProjects\\MasterThesis_mmWavePI\\src\\helper_funtions.py:516\u001B[0m, in \u001B[0;36mget_learning_curve_data\u001B[1;34m(model_class, model_args, folder_path, device, train_splits, seconds_per_sample, rows_per_second, batch_size, num_epochs, optimizer_name, learning_rate, smoothing_prob, mixup, data_preprocessor, background_subtraction, val_split, test_split, signal_type, used_seed)\u001B[0m\n\u001B[0;32m    507\u001B[0m model \u001B[38;5;241m=\u001B[39m model_class(\u001B[38;5;241m*\u001B[39m\u001B[38;5;241m*\u001B[39mmodel_args, num_classes\u001B[38;5;241m=\u001B[39mNUM_CLASSES)\n\u001B[0;32m    508\u001B[0m param_dict \u001B[38;5;241m=\u001B[39m {\n\u001B[0;32m    509\u001B[0m     \u001B[38;5;124m'\u001B[39m\u001B[38;5;124moptimizer\u001B[39m\u001B[38;5;124m'\u001B[39m: optimizer_name,\n\u001B[0;32m    510\u001B[0m     \u001B[38;5;124m'\u001B[39m\u001B[38;5;124mlearning_rate\u001B[39m\u001B[38;5;124m'\u001B[39m: learning_rate,\n\u001B[1;32m   (...)\u001B[0m\n\u001B[0;32m    513\u001B[0m     \u001B[38;5;124m'\u001B[39m\u001B[38;5;124mmodel_args\u001B[39m\u001B[38;5;124m'\u001B[39m: model_args,\n\u001B[0;32m    514\u001B[0m }\n\u001B[1;32m--> 516\u001B[0m best_model, best_accuracy, final_val_acc \u001B[38;5;241m=\u001B[39m \u001B[43mtrain_model\u001B[49m\u001B[43m(\u001B[49m\n\u001B[0;32m    517\u001B[0m \u001B[43m    \u001B[49m\u001B[43mmodel\u001B[49m\u001B[38;5;241;43m=\u001B[39;49m\u001B[43mmodel\u001B[49m\u001B[43m,\u001B[49m\n\u001B[0;32m    518\u001B[0m \u001B[43m    \u001B[49m\u001B[43mparam_dict\u001B[49m\u001B[38;5;241;43m=\u001B[39;49m\u001B[43mparam_dict\u001B[49m\u001B[43m,\u001B[49m\n\u001B[0;32m    519\u001B[0m \u001B[43m    \u001B[49m\u001B[43mtrain_loader\u001B[49m\u001B[38;5;241;43m=\u001B[39;49m\u001B[43mtrain_loader\u001B[49m\u001B[43m,\u001B[49m\n\u001B[0;32m    520\u001B[0m \u001B[43m    \u001B[49m\u001B[43mval_loader\u001B[49m\u001B[38;5;241;43m=\u001B[39;49m\u001B[43mval_loader\u001B[49m\u001B[43m,\u001B[49m\n\u001B[0;32m    521\u001B[0m \u001B[43m    \u001B[49m\u001B[43mdevice\u001B[49m\u001B[38;5;241;43m=\u001B[39;49m\u001B[43mdevice\u001B[49m\u001B[43m,\u001B[49m\n\u001B[0;32m    522\u001B[0m \u001B[43m    \u001B[49m\u001B[43mverbose\u001B[49m\u001B[38;5;241;43m=\u001B[39;49m\u001B[38;5;241;43m0\u001B[39;49m\u001B[43m,\u001B[49m\n\u001B[0;32m    523\u001B[0m \u001B[43m    \u001B[49m\u001B[43mmixup\u001B[49m\u001B[38;5;241;43m=\u001B[39;49m\u001B[43mmixup\u001B[49m\u001B[43m,\u001B[49m\n\u001B[0;32m    524\u001B[0m \u001B[43m    \u001B[49m\u001B[43msmoothing_prob\u001B[49m\u001B[38;5;241;43m=\u001B[39;49m\u001B[43msmoothing_prob\u001B[49m\u001B[43m,\u001B[49m\n\u001B[0;32m    525\u001B[0m \u001B[43m    \u001B[49m\u001B[43msignal_type\u001B[49m\u001B[38;5;241;43m=\u001B[39;49m\u001B[43msignal_type\u001B[49m\u001B[43m,\u001B[49m\n\u001B[0;32m    526\u001B[0m \u001B[43m    \u001B[49m\u001B[43mbackground_subtraction\u001B[49m\u001B[38;5;241;43m=\u001B[39;49m\u001B[43mbackground_subtraction\u001B[49m\u001B[43m,\u001B[49m\n\u001B[0;32m    527\u001B[0m \u001B[43m    \u001B[49m\u001B[43mused_seed\u001B[49m\u001B[38;5;241;43m=\u001B[39;49m\u001B[43mused_seed\u001B[49m\u001B[43m,\u001B[49m\n\u001B[0;32m    528\u001B[0m \u001B[43m    \u001B[49m\u001B[43mseconds_per_sample\u001B[49m\u001B[38;5;241;43m=\u001B[39;49m\u001B[43mseconds_per_sample\u001B[49m\u001B[43m,\u001B[49m\n\u001B[0;32m    529\u001B[0m \u001B[43m    \u001B[49m\u001B[43msave_model\u001B[49m\u001B[38;5;241;43m=\u001B[39;49m\u001B[38;5;28;43;01mFalse\u001B[39;49;00m\n\u001B[0;32m    530\u001B[0m \u001B[43m\u001B[49m\u001B[43m)\u001B[49m\n\u001B[0;32m    532\u001B[0m test_accuracy \u001B[38;5;241m=\u001B[39m evaluate_model(best_model, test_loader, CRITERION, device)[\u001B[38;5;241m1\u001B[39m] \u001B[38;5;28;01mif\u001B[39;00m test_loader \u001B[38;5;129;01mis\u001B[39;00m \u001B[38;5;129;01mnot\u001B[39;00m \u001B[38;5;28;01mNone\u001B[39;00m \u001B[38;5;28;01melse\u001B[39;00m \u001B[38;5;28;01mNone\u001B[39;00m\n\u001B[0;32m    534\u001B[0m val_accuracies\u001B[38;5;241m.\u001B[39mappend(final_val_acc)\n",
      "File \u001B[1;32m~\\PycharmProjects\\MasterThesis_mmWavePI\\src\\helper_funtions.py:245\u001B[0m, in \u001B[0;36mtrain_model\u001B[1;34m(model, param_dict, train_loader, val_loader, device, output_dir, verbose, mixup, smoothing_prob, signal_type, early_stopping_patience, background_subtraction, used_seed, save_model, seconds_per_sample)\u001B[0m\n\u001B[0;32m    238\u001B[0m train_accuracy_per_epoch\u001B[38;5;241m.\u001B[39mappend(correct \u001B[38;5;241m/\u001B[39m total)\n\u001B[0;32m    240\u001B[0m \u001B[38;5;66;03m# train_preds = torch.cat(all_preds).cpu()\u001B[39;00m\n\u001B[0;32m    241\u001B[0m \u001B[38;5;66;03m# train_targets = torch.cat(all_labels).cpu()\u001B[39;00m\n\u001B[0;32m    242\u001B[0m \u001B[38;5;66;03m# train_acc = (train_preds == train_targets).float().mean().item()\u001B[39;00m\n\u001B[0;32m    243\u001B[0m \u001B[38;5;66;03m# train_accuracy_per_epoch.append(train_acc)\u001B[39;00m\n\u001B[1;32m--> 245\u001B[0m eval_loss, eval_acc \u001B[38;5;241m=\u001B[39m \u001B[43mevaluate_model\u001B[49m\u001B[43m(\u001B[49m\u001B[43mmodel\u001B[49m\u001B[43m,\u001B[49m\u001B[43m \u001B[49m\u001B[43mval_loader\u001B[49m\u001B[43m,\u001B[49m\u001B[43m \u001B[49m\u001B[43mcriterion\u001B[49m\u001B[43m,\u001B[49m\u001B[43m \u001B[49m\u001B[43mdevice\u001B[49m\u001B[43m)\u001B[49m\n\u001B[0;32m    246\u001B[0m val_loss_list_per_epoch\u001B[38;5;241m.\u001B[39mappend(eval_loss)\n\u001B[0;32m    247\u001B[0m val_accuracy_per_epoch\u001B[38;5;241m.\u001B[39mappend(eval_acc)\n",
      "File \u001B[1;32m~\\PycharmProjects\\MasterThesis_mmWavePI\\src\\helper_funtions.py:305\u001B[0m, in \u001B[0;36mevaluate_model\u001B[1;34m(model, validation_loader, criterion, device, plot_confusion_matrix)\u001B[0m\n\u001B[0;32m    303\u001B[0m \u001B[38;5;28;01mfor\u001B[39;00m inputs, labels \u001B[38;5;129;01min\u001B[39;00m validation_loader:\n\u001B[0;32m    304\u001B[0m     inputs, labels \u001B[38;5;241m=\u001B[39m inputs\u001B[38;5;241m.\u001B[39mto(device), labels\u001B[38;5;241m.\u001B[39mto(device)\n\u001B[1;32m--> 305\u001B[0m     outputs \u001B[38;5;241m=\u001B[39m \u001B[43mmodel\u001B[49m\u001B[43m(\u001B[49m\u001B[43minputs\u001B[49m\u001B[43m)\u001B[49m\n\u001B[0;32m    306\u001B[0m     loss \u001B[38;5;241m=\u001B[39m criterion(outputs, labels)\n\u001B[0;32m    307\u001B[0m     val_loss\u001B[38;5;241m.\u001B[39mappend(loss\u001B[38;5;241m.\u001B[39mitem())\n",
      "File \u001B[1;32m~\\PycharmProjects\\MasterThesis_mmWavePI\\.venv\\Lib\\site-packages\\torch\\nn\\modules\\module.py:1736\u001B[0m, in \u001B[0;36mModule._wrapped_call_impl\u001B[1;34m(self, *args, **kwargs)\u001B[0m\n\u001B[0;32m   1734\u001B[0m     \u001B[38;5;28;01mreturn\u001B[39;00m \u001B[38;5;28mself\u001B[39m\u001B[38;5;241m.\u001B[39m_compiled_call_impl(\u001B[38;5;241m*\u001B[39margs, \u001B[38;5;241m*\u001B[39m\u001B[38;5;241m*\u001B[39mkwargs)  \u001B[38;5;66;03m# type: ignore[misc]\u001B[39;00m\n\u001B[0;32m   1735\u001B[0m \u001B[38;5;28;01melse\u001B[39;00m:\n\u001B[1;32m-> 1736\u001B[0m     \u001B[38;5;28;01mreturn\u001B[39;00m \u001B[38;5;28;43mself\u001B[39;49m\u001B[38;5;241;43m.\u001B[39;49m\u001B[43m_call_impl\u001B[49m\u001B[43m(\u001B[49m\u001B[38;5;241;43m*\u001B[39;49m\u001B[43margs\u001B[49m\u001B[43m,\u001B[49m\u001B[43m \u001B[49m\u001B[38;5;241;43m*\u001B[39;49m\u001B[38;5;241;43m*\u001B[39;49m\u001B[43mkwargs\u001B[49m\u001B[43m)\u001B[49m\n",
      "File \u001B[1;32m~\\PycharmProjects\\MasterThesis_mmWavePI\\.venv\\Lib\\site-packages\\torch\\nn\\modules\\module.py:1747\u001B[0m, in \u001B[0;36mModule._call_impl\u001B[1;34m(self, *args, **kwargs)\u001B[0m\n\u001B[0;32m   1742\u001B[0m \u001B[38;5;66;03m# If we don't have any hooks, we want to skip the rest of the logic in\u001B[39;00m\n\u001B[0;32m   1743\u001B[0m \u001B[38;5;66;03m# this function, and just call forward.\u001B[39;00m\n\u001B[0;32m   1744\u001B[0m \u001B[38;5;28;01mif\u001B[39;00m \u001B[38;5;129;01mnot\u001B[39;00m (\u001B[38;5;28mself\u001B[39m\u001B[38;5;241m.\u001B[39m_backward_hooks \u001B[38;5;129;01mor\u001B[39;00m \u001B[38;5;28mself\u001B[39m\u001B[38;5;241m.\u001B[39m_backward_pre_hooks \u001B[38;5;129;01mor\u001B[39;00m \u001B[38;5;28mself\u001B[39m\u001B[38;5;241m.\u001B[39m_forward_hooks \u001B[38;5;129;01mor\u001B[39;00m \u001B[38;5;28mself\u001B[39m\u001B[38;5;241m.\u001B[39m_forward_pre_hooks\n\u001B[0;32m   1745\u001B[0m         \u001B[38;5;129;01mor\u001B[39;00m _global_backward_pre_hooks \u001B[38;5;129;01mor\u001B[39;00m _global_backward_hooks\n\u001B[0;32m   1746\u001B[0m         \u001B[38;5;129;01mor\u001B[39;00m _global_forward_hooks \u001B[38;5;129;01mor\u001B[39;00m _global_forward_pre_hooks):\n\u001B[1;32m-> 1747\u001B[0m     \u001B[38;5;28;01mreturn\u001B[39;00m \u001B[43mforward_call\u001B[49m\u001B[43m(\u001B[49m\u001B[38;5;241;43m*\u001B[39;49m\u001B[43margs\u001B[49m\u001B[43m,\u001B[49m\u001B[43m \u001B[49m\u001B[38;5;241;43m*\u001B[39;49m\u001B[38;5;241;43m*\u001B[39;49m\u001B[43mkwargs\u001B[49m\u001B[43m)\u001B[49m\n\u001B[0;32m   1749\u001B[0m result \u001B[38;5;241m=\u001B[39m \u001B[38;5;28;01mNone\u001B[39;00m\n\u001B[0;32m   1750\u001B[0m called_always_called_hooks \u001B[38;5;241m=\u001B[39m \u001B[38;5;28mset\u001B[39m()\n",
      "File \u001B[1;32m~\\PycharmProjects\\MasterThesis_mmWavePI\\src\\models\\TemporalConvNet.py:79\u001B[0m, in \u001B[0;36mTemporalConvNet.forward\u001B[1;34m(self, x)\u001B[0m\n\u001B[0;32m     77\u001B[0m \u001B[38;5;28;01mdef\u001B[39;00m \u001B[38;5;21mforward\u001B[39m(\u001B[38;5;28mself\u001B[39m, x):\n\u001B[0;32m     78\u001B[0m     x \u001B[38;5;241m=\u001B[39m x\u001B[38;5;241m.\u001B[39mtranspose(\u001B[38;5;241m1\u001B[39m, \u001B[38;5;241m2\u001B[39m)\n\u001B[1;32m---> 79\u001B[0m     x \u001B[38;5;241m=\u001B[39m \u001B[38;5;28;43mself\u001B[39;49m\u001B[38;5;241;43m.\u001B[39;49m\u001B[43mnetwork\u001B[49m\u001B[43m(\u001B[49m\u001B[43mx\u001B[49m\u001B[43m)\u001B[49m\n\u001B[0;32m     80\u001B[0m     x \u001B[38;5;241m=\u001B[39m \u001B[38;5;28mself\u001B[39m\u001B[38;5;241m.\u001B[39mclassifier(x)\n\u001B[0;32m     81\u001B[0m     \u001B[38;5;28;01mreturn\u001B[39;00m x\n",
      "File \u001B[1;32m~\\PycharmProjects\\MasterThesis_mmWavePI\\.venv\\Lib\\site-packages\\torch\\nn\\modules\\module.py:1736\u001B[0m, in \u001B[0;36mModule._wrapped_call_impl\u001B[1;34m(self, *args, **kwargs)\u001B[0m\n\u001B[0;32m   1734\u001B[0m     \u001B[38;5;28;01mreturn\u001B[39;00m \u001B[38;5;28mself\u001B[39m\u001B[38;5;241m.\u001B[39m_compiled_call_impl(\u001B[38;5;241m*\u001B[39margs, \u001B[38;5;241m*\u001B[39m\u001B[38;5;241m*\u001B[39mkwargs)  \u001B[38;5;66;03m# type: ignore[misc]\u001B[39;00m\n\u001B[0;32m   1735\u001B[0m \u001B[38;5;28;01melse\u001B[39;00m:\n\u001B[1;32m-> 1736\u001B[0m     \u001B[38;5;28;01mreturn\u001B[39;00m \u001B[38;5;28;43mself\u001B[39;49m\u001B[38;5;241;43m.\u001B[39;49m\u001B[43m_call_impl\u001B[49m\u001B[43m(\u001B[49m\u001B[38;5;241;43m*\u001B[39;49m\u001B[43margs\u001B[49m\u001B[43m,\u001B[49m\u001B[43m \u001B[49m\u001B[38;5;241;43m*\u001B[39;49m\u001B[38;5;241;43m*\u001B[39;49m\u001B[43mkwargs\u001B[49m\u001B[43m)\u001B[49m\n",
      "File \u001B[1;32m~\\PycharmProjects\\MasterThesis_mmWavePI\\.venv\\Lib\\site-packages\\torch\\nn\\modules\\module.py:1747\u001B[0m, in \u001B[0;36mModule._call_impl\u001B[1;34m(self, *args, **kwargs)\u001B[0m\n\u001B[0;32m   1742\u001B[0m \u001B[38;5;66;03m# If we don't have any hooks, we want to skip the rest of the logic in\u001B[39;00m\n\u001B[0;32m   1743\u001B[0m \u001B[38;5;66;03m# this function, and just call forward.\u001B[39;00m\n\u001B[0;32m   1744\u001B[0m \u001B[38;5;28;01mif\u001B[39;00m \u001B[38;5;129;01mnot\u001B[39;00m (\u001B[38;5;28mself\u001B[39m\u001B[38;5;241m.\u001B[39m_backward_hooks \u001B[38;5;129;01mor\u001B[39;00m \u001B[38;5;28mself\u001B[39m\u001B[38;5;241m.\u001B[39m_backward_pre_hooks \u001B[38;5;129;01mor\u001B[39;00m \u001B[38;5;28mself\u001B[39m\u001B[38;5;241m.\u001B[39m_forward_hooks \u001B[38;5;129;01mor\u001B[39;00m \u001B[38;5;28mself\u001B[39m\u001B[38;5;241m.\u001B[39m_forward_pre_hooks\n\u001B[0;32m   1745\u001B[0m         \u001B[38;5;129;01mor\u001B[39;00m _global_backward_pre_hooks \u001B[38;5;129;01mor\u001B[39;00m _global_backward_hooks\n\u001B[0;32m   1746\u001B[0m         \u001B[38;5;129;01mor\u001B[39;00m _global_forward_hooks \u001B[38;5;129;01mor\u001B[39;00m _global_forward_pre_hooks):\n\u001B[1;32m-> 1747\u001B[0m     \u001B[38;5;28;01mreturn\u001B[39;00m \u001B[43mforward_call\u001B[49m\u001B[43m(\u001B[49m\u001B[38;5;241;43m*\u001B[39;49m\u001B[43margs\u001B[49m\u001B[43m,\u001B[49m\u001B[43m \u001B[49m\u001B[38;5;241;43m*\u001B[39;49m\u001B[38;5;241;43m*\u001B[39;49m\u001B[43mkwargs\u001B[49m\u001B[43m)\u001B[49m\n\u001B[0;32m   1749\u001B[0m result \u001B[38;5;241m=\u001B[39m \u001B[38;5;28;01mNone\u001B[39;00m\n\u001B[0;32m   1750\u001B[0m called_always_called_hooks \u001B[38;5;241m=\u001B[39m \u001B[38;5;28mset\u001B[39m()\n",
      "File \u001B[1;32m~\\PycharmProjects\\MasterThesis_mmWavePI\\.venv\\Lib\\site-packages\\torch\\nn\\modules\\container.py:250\u001B[0m, in \u001B[0;36mSequential.forward\u001B[1;34m(self, input)\u001B[0m\n\u001B[0;32m    248\u001B[0m \u001B[38;5;28;01mdef\u001B[39;00m \u001B[38;5;21mforward\u001B[39m(\u001B[38;5;28mself\u001B[39m, \u001B[38;5;28minput\u001B[39m):\n\u001B[0;32m    249\u001B[0m     \u001B[38;5;28;01mfor\u001B[39;00m module \u001B[38;5;129;01min\u001B[39;00m \u001B[38;5;28mself\u001B[39m:\n\u001B[1;32m--> 250\u001B[0m         \u001B[38;5;28minput\u001B[39m \u001B[38;5;241m=\u001B[39m \u001B[43mmodule\u001B[49m\u001B[43m(\u001B[49m\u001B[38;5;28;43minput\u001B[39;49m\u001B[43m)\u001B[49m\n\u001B[0;32m    251\u001B[0m     \u001B[38;5;28;01mreturn\u001B[39;00m \u001B[38;5;28minput\u001B[39m\n",
      "File \u001B[1;32m~\\PycharmProjects\\MasterThesis_mmWavePI\\.venv\\Lib\\site-packages\\torch\\nn\\modules\\module.py:1736\u001B[0m, in \u001B[0;36mModule._wrapped_call_impl\u001B[1;34m(self, *args, **kwargs)\u001B[0m\n\u001B[0;32m   1734\u001B[0m     \u001B[38;5;28;01mreturn\u001B[39;00m \u001B[38;5;28mself\u001B[39m\u001B[38;5;241m.\u001B[39m_compiled_call_impl(\u001B[38;5;241m*\u001B[39margs, \u001B[38;5;241m*\u001B[39m\u001B[38;5;241m*\u001B[39mkwargs)  \u001B[38;5;66;03m# type: ignore[misc]\u001B[39;00m\n\u001B[0;32m   1735\u001B[0m \u001B[38;5;28;01melse\u001B[39;00m:\n\u001B[1;32m-> 1736\u001B[0m     \u001B[38;5;28;01mreturn\u001B[39;00m \u001B[38;5;28;43mself\u001B[39;49m\u001B[38;5;241;43m.\u001B[39;49m\u001B[43m_call_impl\u001B[49m\u001B[43m(\u001B[49m\u001B[38;5;241;43m*\u001B[39;49m\u001B[43margs\u001B[49m\u001B[43m,\u001B[49m\u001B[43m \u001B[49m\u001B[38;5;241;43m*\u001B[39;49m\u001B[38;5;241;43m*\u001B[39;49m\u001B[43mkwargs\u001B[49m\u001B[43m)\u001B[49m\n",
      "File \u001B[1;32m~\\PycharmProjects\\MasterThesis_mmWavePI\\.venv\\Lib\\site-packages\\torch\\nn\\modules\\module.py:1747\u001B[0m, in \u001B[0;36mModule._call_impl\u001B[1;34m(self, *args, **kwargs)\u001B[0m\n\u001B[0;32m   1742\u001B[0m \u001B[38;5;66;03m# If we don't have any hooks, we want to skip the rest of the logic in\u001B[39;00m\n\u001B[0;32m   1743\u001B[0m \u001B[38;5;66;03m# this function, and just call forward.\u001B[39;00m\n\u001B[0;32m   1744\u001B[0m \u001B[38;5;28;01mif\u001B[39;00m \u001B[38;5;129;01mnot\u001B[39;00m (\u001B[38;5;28mself\u001B[39m\u001B[38;5;241m.\u001B[39m_backward_hooks \u001B[38;5;129;01mor\u001B[39;00m \u001B[38;5;28mself\u001B[39m\u001B[38;5;241m.\u001B[39m_backward_pre_hooks \u001B[38;5;129;01mor\u001B[39;00m \u001B[38;5;28mself\u001B[39m\u001B[38;5;241m.\u001B[39m_forward_hooks \u001B[38;5;129;01mor\u001B[39;00m \u001B[38;5;28mself\u001B[39m\u001B[38;5;241m.\u001B[39m_forward_pre_hooks\n\u001B[0;32m   1745\u001B[0m         \u001B[38;5;129;01mor\u001B[39;00m _global_backward_pre_hooks \u001B[38;5;129;01mor\u001B[39;00m _global_backward_hooks\n\u001B[0;32m   1746\u001B[0m         \u001B[38;5;129;01mor\u001B[39;00m _global_forward_hooks \u001B[38;5;129;01mor\u001B[39;00m _global_forward_pre_hooks):\n\u001B[1;32m-> 1747\u001B[0m     \u001B[38;5;28;01mreturn\u001B[39;00m \u001B[43mforward_call\u001B[49m\u001B[43m(\u001B[49m\u001B[38;5;241;43m*\u001B[39;49m\u001B[43margs\u001B[49m\u001B[43m,\u001B[49m\u001B[43m \u001B[49m\u001B[38;5;241;43m*\u001B[39;49m\u001B[38;5;241;43m*\u001B[39;49m\u001B[43mkwargs\u001B[49m\u001B[43m)\u001B[49m\n\u001B[0;32m   1749\u001B[0m result \u001B[38;5;241m=\u001B[39m \u001B[38;5;28;01mNone\u001B[39;00m\n\u001B[0;32m   1750\u001B[0m called_always_called_hooks \u001B[38;5;241m=\u001B[39m \u001B[38;5;28mset\u001B[39m()\n",
      "File \u001B[1;32m~\\PycharmProjects\\MasterThesis_mmWavePI\\src\\models\\TemporalConvNet.py:49\u001B[0m, in \u001B[0;36mTemporalBlock.forward\u001B[1;34m(self, x)\u001B[0m\n\u001B[0;32m     48\u001B[0m \u001B[38;5;28;01mdef\u001B[39;00m \u001B[38;5;21mforward\u001B[39m(\u001B[38;5;28mself\u001B[39m, x):\n\u001B[1;32m---> 49\u001B[0m     out \u001B[38;5;241m=\u001B[39m \u001B[38;5;28;43mself\u001B[39;49m\u001B[38;5;241;43m.\u001B[39;49m\u001B[43mnet\u001B[49m\u001B[43m(\u001B[49m\u001B[43mx\u001B[49m\u001B[43m)\u001B[49m\n\u001B[0;32m     50\u001B[0m     res \u001B[38;5;241m=\u001B[39m x \u001B[38;5;28;01mif\u001B[39;00m \u001B[38;5;28mself\u001B[39m\u001B[38;5;241m.\u001B[39mdownsample \u001B[38;5;129;01mis\u001B[39;00m \u001B[38;5;28;01mNone\u001B[39;00m \u001B[38;5;28;01melse\u001B[39;00m \u001B[38;5;28mself\u001B[39m\u001B[38;5;241m.\u001B[39mdownsample(x)\n\u001B[0;32m     51\u001B[0m     \u001B[38;5;28;01mreturn\u001B[39;00m \u001B[38;5;28mself\u001B[39m\u001B[38;5;241m.\u001B[39mrelu(out \u001B[38;5;241m+\u001B[39m res)\n",
      "File \u001B[1;32m~\\PycharmProjects\\MasterThesis_mmWavePI\\.venv\\Lib\\site-packages\\torch\\nn\\modules\\module.py:1736\u001B[0m, in \u001B[0;36mModule._wrapped_call_impl\u001B[1;34m(self, *args, **kwargs)\u001B[0m\n\u001B[0;32m   1734\u001B[0m     \u001B[38;5;28;01mreturn\u001B[39;00m \u001B[38;5;28mself\u001B[39m\u001B[38;5;241m.\u001B[39m_compiled_call_impl(\u001B[38;5;241m*\u001B[39margs, \u001B[38;5;241m*\u001B[39m\u001B[38;5;241m*\u001B[39mkwargs)  \u001B[38;5;66;03m# type: ignore[misc]\u001B[39;00m\n\u001B[0;32m   1735\u001B[0m \u001B[38;5;28;01melse\u001B[39;00m:\n\u001B[1;32m-> 1736\u001B[0m     \u001B[38;5;28;01mreturn\u001B[39;00m \u001B[38;5;28;43mself\u001B[39;49m\u001B[38;5;241;43m.\u001B[39;49m\u001B[43m_call_impl\u001B[49m\u001B[43m(\u001B[49m\u001B[38;5;241;43m*\u001B[39;49m\u001B[43margs\u001B[49m\u001B[43m,\u001B[49m\u001B[43m \u001B[49m\u001B[38;5;241;43m*\u001B[39;49m\u001B[38;5;241;43m*\u001B[39;49m\u001B[43mkwargs\u001B[49m\u001B[43m)\u001B[49m\n",
      "File \u001B[1;32m~\\PycharmProjects\\MasterThesis_mmWavePI\\.venv\\Lib\\site-packages\\torch\\nn\\modules\\module.py:1747\u001B[0m, in \u001B[0;36mModule._call_impl\u001B[1;34m(self, *args, **kwargs)\u001B[0m\n\u001B[0;32m   1742\u001B[0m \u001B[38;5;66;03m# If we don't have any hooks, we want to skip the rest of the logic in\u001B[39;00m\n\u001B[0;32m   1743\u001B[0m \u001B[38;5;66;03m# this function, and just call forward.\u001B[39;00m\n\u001B[0;32m   1744\u001B[0m \u001B[38;5;28;01mif\u001B[39;00m \u001B[38;5;129;01mnot\u001B[39;00m (\u001B[38;5;28mself\u001B[39m\u001B[38;5;241m.\u001B[39m_backward_hooks \u001B[38;5;129;01mor\u001B[39;00m \u001B[38;5;28mself\u001B[39m\u001B[38;5;241m.\u001B[39m_backward_pre_hooks \u001B[38;5;129;01mor\u001B[39;00m \u001B[38;5;28mself\u001B[39m\u001B[38;5;241m.\u001B[39m_forward_hooks \u001B[38;5;129;01mor\u001B[39;00m \u001B[38;5;28mself\u001B[39m\u001B[38;5;241m.\u001B[39m_forward_pre_hooks\n\u001B[0;32m   1745\u001B[0m         \u001B[38;5;129;01mor\u001B[39;00m _global_backward_pre_hooks \u001B[38;5;129;01mor\u001B[39;00m _global_backward_hooks\n\u001B[0;32m   1746\u001B[0m         \u001B[38;5;129;01mor\u001B[39;00m _global_forward_hooks \u001B[38;5;129;01mor\u001B[39;00m _global_forward_pre_hooks):\n\u001B[1;32m-> 1747\u001B[0m     \u001B[38;5;28;01mreturn\u001B[39;00m \u001B[43mforward_call\u001B[49m\u001B[43m(\u001B[49m\u001B[38;5;241;43m*\u001B[39;49m\u001B[43margs\u001B[49m\u001B[43m,\u001B[49m\u001B[43m \u001B[49m\u001B[38;5;241;43m*\u001B[39;49m\u001B[38;5;241;43m*\u001B[39;49m\u001B[43mkwargs\u001B[49m\u001B[43m)\u001B[49m\n\u001B[0;32m   1749\u001B[0m result \u001B[38;5;241m=\u001B[39m \u001B[38;5;28;01mNone\u001B[39;00m\n\u001B[0;32m   1750\u001B[0m called_always_called_hooks \u001B[38;5;241m=\u001B[39m \u001B[38;5;28mset\u001B[39m()\n",
      "File \u001B[1;32m~\\PycharmProjects\\MasterThesis_mmWavePI\\.venv\\Lib\\site-packages\\torch\\nn\\modules\\container.py:250\u001B[0m, in \u001B[0;36mSequential.forward\u001B[1;34m(self, input)\u001B[0m\n\u001B[0;32m    248\u001B[0m \u001B[38;5;28;01mdef\u001B[39;00m \u001B[38;5;21mforward\u001B[39m(\u001B[38;5;28mself\u001B[39m, \u001B[38;5;28minput\u001B[39m):\n\u001B[0;32m    249\u001B[0m     \u001B[38;5;28;01mfor\u001B[39;00m module \u001B[38;5;129;01min\u001B[39;00m \u001B[38;5;28mself\u001B[39m:\n\u001B[1;32m--> 250\u001B[0m         \u001B[38;5;28minput\u001B[39m \u001B[38;5;241m=\u001B[39m \u001B[43mmodule\u001B[49m\u001B[43m(\u001B[49m\u001B[38;5;28;43minput\u001B[39;49m\u001B[43m)\u001B[49m\n\u001B[0;32m    251\u001B[0m     \u001B[38;5;28;01mreturn\u001B[39;00m \u001B[38;5;28minput\u001B[39m\n",
      "File \u001B[1;32m~\\PycharmProjects\\MasterThesis_mmWavePI\\.venv\\Lib\\site-packages\\torch\\nn\\modules\\module.py:1736\u001B[0m, in \u001B[0;36mModule._wrapped_call_impl\u001B[1;34m(self, *args, **kwargs)\u001B[0m\n\u001B[0;32m   1734\u001B[0m     \u001B[38;5;28;01mreturn\u001B[39;00m \u001B[38;5;28mself\u001B[39m\u001B[38;5;241m.\u001B[39m_compiled_call_impl(\u001B[38;5;241m*\u001B[39margs, \u001B[38;5;241m*\u001B[39m\u001B[38;5;241m*\u001B[39mkwargs)  \u001B[38;5;66;03m# type: ignore[misc]\u001B[39;00m\n\u001B[0;32m   1735\u001B[0m \u001B[38;5;28;01melse\u001B[39;00m:\n\u001B[1;32m-> 1736\u001B[0m     \u001B[38;5;28;01mreturn\u001B[39;00m \u001B[38;5;28;43mself\u001B[39;49m\u001B[38;5;241;43m.\u001B[39;49m\u001B[43m_call_impl\u001B[49m\u001B[43m(\u001B[49m\u001B[38;5;241;43m*\u001B[39;49m\u001B[43margs\u001B[49m\u001B[43m,\u001B[49m\u001B[43m \u001B[49m\u001B[38;5;241;43m*\u001B[39;49m\u001B[38;5;241;43m*\u001B[39;49m\u001B[43mkwargs\u001B[49m\u001B[43m)\u001B[49m\n",
      "File \u001B[1;32m~\\PycharmProjects\\MasterThesis_mmWavePI\\.venv\\Lib\\site-packages\\torch\\nn\\modules\\module.py:1844\u001B[0m, in \u001B[0;36mModule._call_impl\u001B[1;34m(self, *args, **kwargs)\u001B[0m\n\u001B[0;32m   1841\u001B[0m     \u001B[38;5;28;01mreturn\u001B[39;00m inner()\n\u001B[0;32m   1843\u001B[0m \u001B[38;5;28;01mtry\u001B[39;00m:\n\u001B[1;32m-> 1844\u001B[0m     \u001B[38;5;28;01mreturn\u001B[39;00m \u001B[43minner\u001B[49m\u001B[43m(\u001B[49m\u001B[43m)\u001B[49m\n\u001B[0;32m   1845\u001B[0m \u001B[38;5;28;01mexcept\u001B[39;00m \u001B[38;5;167;01mException\u001B[39;00m:\n\u001B[0;32m   1846\u001B[0m     \u001B[38;5;66;03m# run always called hooks if they have not already been run\u001B[39;00m\n\u001B[0;32m   1847\u001B[0m     \u001B[38;5;66;03m# For now only forward hooks have the always_call option but perhaps\u001B[39;00m\n\u001B[0;32m   1848\u001B[0m     \u001B[38;5;66;03m# this functionality should be added to full backward hooks as well.\u001B[39;00m\n\u001B[0;32m   1849\u001B[0m     \u001B[38;5;28;01mfor\u001B[39;00m hook_id, hook \u001B[38;5;129;01min\u001B[39;00m _global_forward_hooks\u001B[38;5;241m.\u001B[39mitems():\n",
      "File \u001B[1;32m~\\PycharmProjects\\MasterThesis_mmWavePI\\.venv\\Lib\\site-packages\\torch\\nn\\modules\\module.py:1790\u001B[0m, in \u001B[0;36mModule._call_impl.<locals>.inner\u001B[1;34m()\u001B[0m\n\u001B[0;32m   1787\u001B[0m     bw_hook \u001B[38;5;241m=\u001B[39m BackwardHook(\u001B[38;5;28mself\u001B[39m, full_backward_hooks, backward_pre_hooks)\n\u001B[0;32m   1788\u001B[0m     args \u001B[38;5;241m=\u001B[39m bw_hook\u001B[38;5;241m.\u001B[39msetup_input_hook(args)\n\u001B[1;32m-> 1790\u001B[0m result \u001B[38;5;241m=\u001B[39m \u001B[43mforward_call\u001B[49m\u001B[43m(\u001B[49m\u001B[38;5;241;43m*\u001B[39;49m\u001B[43margs\u001B[49m\u001B[43m,\u001B[49m\u001B[43m \u001B[49m\u001B[38;5;241;43m*\u001B[39;49m\u001B[38;5;241;43m*\u001B[39;49m\u001B[43mkwargs\u001B[49m\u001B[43m)\u001B[49m\n\u001B[0;32m   1791\u001B[0m \u001B[38;5;28;01mif\u001B[39;00m _global_forward_hooks \u001B[38;5;129;01mor\u001B[39;00m \u001B[38;5;28mself\u001B[39m\u001B[38;5;241m.\u001B[39m_forward_hooks:\n\u001B[0;32m   1792\u001B[0m     \u001B[38;5;28;01mfor\u001B[39;00m hook_id, hook \u001B[38;5;129;01min\u001B[39;00m (\n\u001B[0;32m   1793\u001B[0m         \u001B[38;5;241m*\u001B[39m_global_forward_hooks\u001B[38;5;241m.\u001B[39mitems(),\n\u001B[0;32m   1794\u001B[0m         \u001B[38;5;241m*\u001B[39m\u001B[38;5;28mself\u001B[39m\u001B[38;5;241m.\u001B[39m_forward_hooks\u001B[38;5;241m.\u001B[39mitems(),\n\u001B[0;32m   1795\u001B[0m     ):\n\u001B[0;32m   1796\u001B[0m         \u001B[38;5;66;03m# mark that always called hook is run\u001B[39;00m\n",
      "File \u001B[1;32m~\\PycharmProjects\\MasterThesis_mmWavePI\\.venv\\Lib\\site-packages\\torch\\nn\\modules\\conv.py:375\u001B[0m, in \u001B[0;36mConv1d.forward\u001B[1;34m(self, input)\u001B[0m\n\u001B[0;32m    374\u001B[0m \u001B[38;5;28;01mdef\u001B[39;00m \u001B[38;5;21mforward\u001B[39m(\u001B[38;5;28mself\u001B[39m, \u001B[38;5;28minput\u001B[39m: Tensor) \u001B[38;5;241m-\u001B[39m\u001B[38;5;241m>\u001B[39m Tensor:\n\u001B[1;32m--> 375\u001B[0m     \u001B[38;5;28;01mreturn\u001B[39;00m \u001B[38;5;28;43mself\u001B[39;49m\u001B[38;5;241;43m.\u001B[39;49m\u001B[43m_conv_forward\u001B[49m\u001B[43m(\u001B[49m\u001B[38;5;28;43minput\u001B[39;49m\u001B[43m,\u001B[49m\u001B[43m \u001B[49m\u001B[38;5;28;43mself\u001B[39;49m\u001B[38;5;241;43m.\u001B[39;49m\u001B[43mweight\u001B[49m\u001B[43m,\u001B[49m\u001B[43m \u001B[49m\u001B[38;5;28;43mself\u001B[39;49m\u001B[38;5;241;43m.\u001B[39;49m\u001B[43mbias\u001B[49m\u001B[43m)\u001B[49m\n",
      "File \u001B[1;32m~\\PycharmProjects\\MasterThesis_mmWavePI\\.venv\\Lib\\site-packages\\torch\\nn\\modules\\conv.py:370\u001B[0m, in \u001B[0;36mConv1d._conv_forward\u001B[1;34m(self, input, weight, bias)\u001B[0m\n\u001B[0;32m    358\u001B[0m \u001B[38;5;28;01mif\u001B[39;00m \u001B[38;5;28mself\u001B[39m\u001B[38;5;241m.\u001B[39mpadding_mode \u001B[38;5;241m!=\u001B[39m \u001B[38;5;124m\"\u001B[39m\u001B[38;5;124mzeros\u001B[39m\u001B[38;5;124m\"\u001B[39m:\n\u001B[0;32m    359\u001B[0m     \u001B[38;5;28;01mreturn\u001B[39;00m F\u001B[38;5;241m.\u001B[39mconv1d(\n\u001B[0;32m    360\u001B[0m         F\u001B[38;5;241m.\u001B[39mpad(\n\u001B[0;32m    361\u001B[0m             \u001B[38;5;28minput\u001B[39m, \u001B[38;5;28mself\u001B[39m\u001B[38;5;241m.\u001B[39m_reversed_padding_repeated_twice, mode\u001B[38;5;241m=\u001B[39m\u001B[38;5;28mself\u001B[39m\u001B[38;5;241m.\u001B[39mpadding_mode\n\u001B[1;32m   (...)\u001B[0m\n\u001B[0;32m    368\u001B[0m         \u001B[38;5;28mself\u001B[39m\u001B[38;5;241m.\u001B[39mgroups,\n\u001B[0;32m    369\u001B[0m     )\n\u001B[1;32m--> 370\u001B[0m \u001B[38;5;28;01mreturn\u001B[39;00m \u001B[43mF\u001B[49m\u001B[38;5;241;43m.\u001B[39;49m\u001B[43mconv1d\u001B[49m\u001B[43m(\u001B[49m\n\u001B[0;32m    371\u001B[0m \u001B[43m    \u001B[49m\u001B[38;5;28;43minput\u001B[39;49m\u001B[43m,\u001B[49m\u001B[43m \u001B[49m\u001B[43mweight\u001B[49m\u001B[43m,\u001B[49m\u001B[43m \u001B[49m\u001B[43mbias\u001B[49m\u001B[43m,\u001B[49m\u001B[43m \u001B[49m\u001B[38;5;28;43mself\u001B[39;49m\u001B[38;5;241;43m.\u001B[39;49m\u001B[43mstride\u001B[49m\u001B[43m,\u001B[49m\u001B[43m \u001B[49m\u001B[38;5;28;43mself\u001B[39;49m\u001B[38;5;241;43m.\u001B[39;49m\u001B[43mpadding\u001B[49m\u001B[43m,\u001B[49m\u001B[43m \u001B[49m\u001B[38;5;28;43mself\u001B[39;49m\u001B[38;5;241;43m.\u001B[39;49m\u001B[43mdilation\u001B[49m\u001B[43m,\u001B[49m\u001B[43m \u001B[49m\u001B[38;5;28;43mself\u001B[39;49m\u001B[38;5;241;43m.\u001B[39;49m\u001B[43mgroups\u001B[49m\n\u001B[0;32m    372\u001B[0m \u001B[43m\u001B[49m\u001B[43m)\u001B[49m\n",
      "\u001B[1;31mKeyboardInterrupt\u001B[0m: "
     ]
    }
   ],
   "execution_count": 9
  },
  {
   "metadata": {},
   "cell_type": "code",
   "source": "plot_learning_curves(results_dict=results_per_signal, std_dict=stds_per_signal)",
   "id": "bba0b98b1902cc0a",
   "outputs": [],
   "execution_count": null
  }
 ],
 "metadata": {
  "kernelspec": {
   "display_name": "Python 3",
   "language": "python",
   "name": "python3"
  },
  "language_info": {
   "codemirror_mode": {
    "name": "ipython",
    "version": 2
   },
   "file_extension": ".py",
   "mimetype": "text/x-python",
   "name": "python",
   "nbconvert_exporter": "python",
   "pygments_lexer": "ipython2",
   "version": "2.7.6"
  }
 },
 "nbformat": 4,
 "nbformat_minor": 5
}
