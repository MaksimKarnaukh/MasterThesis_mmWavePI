{
 "cells": [
  {
   "cell_type": "code",
   "id": "eaf05c930fb61034",
   "metadata": {
    "ExecuteTime": {
     "end_time": "2025-06-03T22:26:54.324746Z",
     "start_time": "2025-06-03T22:26:46.778422Z"
    }
   },
   "source": [
    "import importlib\n",
    "import models\n",
    "import helper_funtions\n",
    "import preprocess\n",
    "import settings\n",
    "\n",
    "importlib.reload(settings)\n",
    "importlib.reload(models)\n",
    "importlib.reload(helper_funtions)\n",
    "importlib.reload(preprocess)\n",
    "\n",
    "import torch\n",
    "import numpy as np\n",
    "from models.LSTM import LSTM_HumanFi, CNN_LSTM, CNN_BiLSTM_TemporalAttention, CNN_BiLSTM_ChannelAttention, CNN_BiLSTM_DualAttention, CNN_BiLSTM_Attention\n",
    "from models.RadioNet import RadioNet_NeuralWave\n",
    "from models.ResNet import ECAResNet1D, ECABasicBlock1D, ResNet1D_JARILWWF, OptResNet1D_JARILWWF, OptECAResNet1D_JARILWWF, CustomResNet1D, CustomECAResNet1D\n",
    "from models.TemporalConvNet import TemporalConvNet\n",
    "from helper_funtions import grid_search, get_varying_people_data, plot_people_vs_accuracy, run_experiment_with_seeds\n",
    "from preprocess import DataPreprocessor\n",
    "from settings import DEVICE, CRITERION, folder_path_5ghz_10hz_collected, folder_path_5ghz_200hz_collected, folder_path_60ghz_collected, output_path, NUM_EPOCHS, ROWS_PER_SECOND, INPUT_DIM"
   ],
   "outputs": [],
   "execution_count": 1
  },
  {
   "cell_type": "code",
   "id": "bc5443e1002b9ddd",
   "metadata": {
    "ExecuteTime": {
     "end_time": "2025-06-03T22:26:54.334479Z",
     "start_time": "2025-06-03T22:26:54.331752Z"
    }
   },
   "source": [
    "# temporalconvnet\n",
    "# {'num_inputs': x, 'num_channels': [64, 128, 128], 'kernel_size': 2, 'dropout': 0.5}\n",
    "# mixup\n",
    "\n",
    "signal_configs = {\n",
    "    '5ghz_10hz': {\n",
    "        'model_class': TemporalConvNet,\n",
    "        'model_args': {\n",
    "            'num_inputs': INPUT_DIM['5ghz_10hz'],\n",
    "            'num_channels': [64, 128, 128],\n",
    "            'kernel_size': 2,\n",
    "            'dropout': 0.5\n",
    "        },\n",
    "        'folder_path': folder_path_5ghz_10hz_collected,\n",
    "        'background_subtraction': True,\n",
    "        'num_epochs': NUM_EPOCHS,\n",
    "        'rows_per_second': ROWS_PER_SECOND['5ghz_10hz']\n",
    "    },\n",
    "    '5ghz_200hz': {\n",
    "        'model_class': TemporalConvNet,\n",
    "        'model_args': {\n",
    "            'num_inputs': INPUT_DIM['5ghz_200hz'],\n",
    "            'num_channels': [64, 128, 128],\n",
    "            'kernel_size': 2,\n",
    "            'dropout': 0.5\n",
    "        },\n",
    "        'folder_path': folder_path_5ghz_200hz_collected,\n",
    "        'background_subtraction': True,\n",
    "        'num_epochs': NUM_EPOCHS,\n",
    "        'rows_per_second': ROWS_PER_SECOND['5ghz_200hz']\n",
    "    },\n",
    "    '60ghz_collected': {\n",
    "        'model_class': TemporalConvNet,\n",
    "        'model_args': {\n",
    "            'num_inputs': INPUT_DIM['60ghz_collected'],\n",
    "            'num_channels': [64, 128, 128],\n",
    "            'kernel_size': 2,\n",
    "            'dropout': 0.5\n",
    "        },\n",
    "        'folder_path': folder_path_60ghz_collected,\n",
    "        'background_subtraction': True,\n",
    "        'num_epochs': NUM_EPOCHS,\n",
    "        'rows_per_second': ROWS_PER_SECOND['60ghz_collected']\n",
    "    }\n",
    "}\n",
    "\n",
    "people_counts = [5, 10, 15, 20]\n",
    "accuracy_type = 2 # 1 for validation accuracy, 2 for test accuracy\n",
    "num_seeds = 3"
   ],
   "outputs": [],
   "execution_count": 2
  },
  {
   "metadata": {
    "ExecuteTime": {
     "end_time": "2025-06-04T00:46:59.421474Z",
     "start_time": "2025-06-03T22:26:54.336487Z"
    }
   },
   "cell_type": "code",
   "source": [
    "results_per_signal, stds_per_signal = run_experiment_with_seeds(experiment_func=get_varying_people_data,\n",
    "                                                                signal_configs=signal_configs,\n",
    "                                                                varying_param_name='people_counts',\n",
    "                                                                varying_param_value=people_counts,\n",
    "                                                                n_seeds=num_seeds,\n",
    "                                                                accuracy_type=accuracy_type,\n",
    "                                                                seconds_per_sample=5)"
   ],
   "id": "3c9417738e1c892",
   "outputs": [
    {
     "name": "stdout",
     "output_type": "stream",
     "text": [
      "Running experiment for 5ghz_10hz...\n",
      "\n",
      "--- Running seed 42 ---\n",
      "\n",
      "==== Running for 5 people ====\n",
      "\n",
      "(Device: cuda) Started training model: TemporalConvNet\n"
     ]
    },
    {
     "name": "stderr",
     "output_type": "stream",
     "text": [
      "C:\\Users\\centu\\PycharmProjects\\MasterThesis_mmWavePI\\.venv\\Lib\\site-packages\\torch\\nn\\utils\\weight_norm.py:143: FutureWarning: `torch.nn.utils.weight_norm` is deprecated in favor of `torch.nn.utils.parametrizations.weight_norm`.\n",
      "  WeightNorm.apply(module, name, dim)\n"
     ]
    },
    {
     "name": "stdout",
     "output_type": "stream",
     "text": [
      "Early stopping at epoch 97 (no improvement in 50 epochs)\n",
      "Training time:  0:00:42.848311\n",
      "\n",
      "==== Running for 10 people ====\n",
      "\n",
      "(Device: cuda) Started training model: TemporalConvNet\n"
     ]
    },
    {
     "name": "stderr",
     "output_type": "stream",
     "text": [
      "C:\\Users\\centu\\PycharmProjects\\MasterThesis_mmWavePI\\.venv\\Lib\\site-packages\\torch\\nn\\utils\\weight_norm.py:143: FutureWarning: `torch.nn.utils.weight_norm` is deprecated in favor of `torch.nn.utils.parametrizations.weight_norm`.\n",
      "  WeightNorm.apply(module, name, dim)\n"
     ]
    },
    {
     "name": "stdout",
     "output_type": "stream",
     "text": [
      "Early stopping at epoch 183 (no improvement in 50 epochs)\n",
      "Training time:  0:02:36.113344\n",
      "\n",
      "==== Running for 15 people ====\n",
      "\n",
      "(Device: cuda) Started training model: TemporalConvNet\n"
     ]
    },
    {
     "name": "stderr",
     "output_type": "stream",
     "text": [
      "C:\\Users\\centu\\PycharmProjects\\MasterThesis_mmWavePI\\.venv\\Lib\\site-packages\\torch\\nn\\utils\\weight_norm.py:143: FutureWarning: `torch.nn.utils.weight_norm` is deprecated in favor of `torch.nn.utils.parametrizations.weight_norm`.\n",
      "  WeightNorm.apply(module, name, dim)\n"
     ]
    },
    {
     "name": "stdout",
     "output_type": "stream",
     "text": [
      "Early stopping at epoch 301 (no improvement in 50 epochs)\n",
      "Training time:  0:06:08.350083\n",
      "\n",
      "==== Running for 20 people ====\n"
     ]
    },
    {
     "name": "stderr",
     "output_type": "stream",
     "text": [
      "C:\\Users\\centu\\PycharmProjects\\MasterThesis_mmWavePI\\.venv\\Lib\\site-packages\\torch\\nn\\utils\\weight_norm.py:143: FutureWarning: `torch.nn.utils.weight_norm` is deprecated in favor of `torch.nn.utils.parametrizations.weight_norm`.\n",
      "  WeightNorm.apply(module, name, dim)\n"
     ]
    },
    {
     "name": "stdout",
     "output_type": "stream",
     "text": [
      "\n",
      "(Device: cuda) Started training model: TemporalConvNet\n",
      "Early stopping at epoch 215 (no improvement in 50 epochs)\n",
      "Training time:  0:06:00.042370\n",
      "\n",
      "--- Running seed 420 ---\n",
      "\n",
      "==== Running for 5 people ====\n",
      "\n",
      "(Device: cuda) Started training model: TemporalConvNet\n"
     ]
    },
    {
     "name": "stderr",
     "output_type": "stream",
     "text": [
      "C:\\Users\\centu\\PycharmProjects\\MasterThesis_mmWavePI\\.venv\\Lib\\site-packages\\torch\\nn\\utils\\weight_norm.py:143: FutureWarning: `torch.nn.utils.weight_norm` is deprecated in favor of `torch.nn.utils.parametrizations.weight_norm`.\n",
      "  WeightNorm.apply(module, name, dim)\n"
     ]
    },
    {
     "name": "stdout",
     "output_type": "stream",
     "text": [
      "Early stopping at epoch 74 (no improvement in 50 epochs)\n",
      "Training time:  0:00:32.927019\n",
      "\n",
      "==== Running for 10 people ====\n",
      "\n",
      "(Device: cuda) Started training model: TemporalConvNet\n"
     ]
    },
    {
     "name": "stderr",
     "output_type": "stream",
     "text": [
      "C:\\Users\\centu\\PycharmProjects\\MasterThesis_mmWavePI\\.venv\\Lib\\site-packages\\torch\\nn\\utils\\weight_norm.py:143: FutureWarning: `torch.nn.utils.weight_norm` is deprecated in favor of `torch.nn.utils.parametrizations.weight_norm`.\n",
      "  WeightNorm.apply(module, name, dim)\n"
     ]
    },
    {
     "name": "stdout",
     "output_type": "stream",
     "text": [
      "Early stopping at epoch 106 (no improvement in 50 epochs)\n",
      "Training time:  0:01:33.766608\n",
      "\n",
      "==== Running for 15 people ====\n",
      "\n",
      "(Device: cuda) Started training model: TemporalConvNet\n"
     ]
    },
    {
     "name": "stderr",
     "output_type": "stream",
     "text": [
      "C:\\Users\\centu\\PycharmProjects\\MasterThesis_mmWavePI\\.venv\\Lib\\site-packages\\torch\\nn\\utils\\weight_norm.py:143: FutureWarning: `torch.nn.utils.weight_norm` is deprecated in favor of `torch.nn.utils.parametrizations.weight_norm`.\n",
      "  WeightNorm.apply(module, name, dim)\n"
     ]
    },
    {
     "name": "stdout",
     "output_type": "stream",
     "text": [
      "Early stopping at epoch 288 (no improvement in 50 epochs)\n",
      "Training time:  0:06:16.396173\n",
      "\n",
      "==== Running for 20 people ====\n"
     ]
    },
    {
     "name": "stderr",
     "output_type": "stream",
     "text": [
      "C:\\Users\\centu\\PycharmProjects\\MasterThesis_mmWavePI\\.venv\\Lib\\site-packages\\torch\\nn\\utils\\weight_norm.py:143: FutureWarning: `torch.nn.utils.weight_norm` is deprecated in favor of `torch.nn.utils.parametrizations.weight_norm`.\n",
      "  WeightNorm.apply(module, name, dim)\n"
     ]
    },
    {
     "name": "stdout",
     "output_type": "stream",
     "text": [
      "\n",
      "(Device: cuda) Started training model: TemporalConvNet\n",
      "Early stopping at epoch 262 (no improvement in 50 epochs)\n",
      "Training time:  0:07:28.661053\n",
      "\n",
      "--- Running seed 101010 ---\n",
      "\n",
      "==== Running for 5 people ====\n",
      "\n",
      "(Device: cuda) Started training model: TemporalConvNet\n"
     ]
    },
    {
     "name": "stderr",
     "output_type": "stream",
     "text": [
      "C:\\Users\\centu\\PycharmProjects\\MasterThesis_mmWavePI\\.venv\\Lib\\site-packages\\torch\\nn\\utils\\weight_norm.py:143: FutureWarning: `torch.nn.utils.weight_norm` is deprecated in favor of `torch.nn.utils.parametrizations.weight_norm`.\n",
      "  WeightNorm.apply(module, name, dim)\n"
     ]
    },
    {
     "name": "stdout",
     "output_type": "stream",
     "text": [
      "Early stopping at epoch 78 (no improvement in 50 epochs)\n",
      "Training time:  0:00:34.787055\n",
      "\n",
      "==== Running for 10 people ====\n",
      "\n",
      "(Device: cuda) Started training model: TemporalConvNet\n"
     ]
    },
    {
     "name": "stderr",
     "output_type": "stream",
     "text": [
      "C:\\Users\\centu\\PycharmProjects\\MasterThesis_mmWavePI\\.venv\\Lib\\site-packages\\torch\\nn\\utils\\weight_norm.py:143: FutureWarning: `torch.nn.utils.weight_norm` is deprecated in favor of `torch.nn.utils.parametrizations.weight_norm`.\n",
      "  WeightNorm.apply(module, name, dim)\n"
     ]
    },
    {
     "name": "stdout",
     "output_type": "stream",
     "text": [
      "Early stopping at epoch 206 (no improvement in 50 epochs)\n",
      "Training time:  0:03:00.240747\n",
      "\n",
      "==== Running for 15 people ====\n",
      "\n",
      "(Device: cuda) Started training model: TemporalConvNet\n"
     ]
    },
    {
     "name": "stderr",
     "output_type": "stream",
     "text": [
      "C:\\Users\\centu\\PycharmProjects\\MasterThesis_mmWavePI\\.venv\\Lib\\site-packages\\torch\\nn\\utils\\weight_norm.py:143: FutureWarning: `torch.nn.utils.weight_norm` is deprecated in favor of `torch.nn.utils.parametrizations.weight_norm`.\n",
      "  WeightNorm.apply(module, name, dim)\n"
     ]
    },
    {
     "name": "stdout",
     "output_type": "stream",
     "text": [
      "Early stopping at epoch 165 (no improvement in 50 epochs)\n",
      "Training time:  0:03:29.826566\n",
      "\n",
      "==== Running for 20 people ====\n"
     ]
    },
    {
     "name": "stderr",
     "output_type": "stream",
     "text": [
      "C:\\Users\\centu\\PycharmProjects\\MasterThesis_mmWavePI\\.venv\\Lib\\site-packages\\torch\\nn\\utils\\weight_norm.py:143: FutureWarning: `torch.nn.utils.weight_norm` is deprecated in favor of `torch.nn.utils.parametrizations.weight_norm`.\n",
      "  WeightNorm.apply(module, name, dim)\n"
     ]
    },
    {
     "name": "stdout",
     "output_type": "stream",
     "text": [
      "\n",
      "(Device: cuda) Started training model: TemporalConvNet\n",
      "Early stopping at epoch 386 (no improvement in 50 epochs)\n",
      "Training time:  0:11:01.343014\n",
      "seed outputs:  [([5, 10, 15, 20], [1.0, 1.0, 0.98, 0.96], [1.0, 0.92, 0.96, 0.91]), ([5, 10, 15, 20], [1.0, 0.94, 1.0, 0.96], [1.0, 0.94, 0.98, 0.91]), ([5, 10, 15, 20], [1.0, 1.0, 1.0, 0.96], [1.0, 1.0, 0.92, 0.86])]\n",
      "Running experiment for 5ghz_200hz...\n",
      "\n",
      "--- Running seed 42 ---\n",
      "\n",
      "==== Running for 5 people ====\n",
      "\n",
      "(Device: cuda) Started training model: TemporalConvNet\n"
     ]
    },
    {
     "name": "stderr",
     "output_type": "stream",
     "text": [
      "C:\\Users\\centu\\PycharmProjects\\MasterThesis_mmWavePI\\.venv\\Lib\\site-packages\\torch\\nn\\utils\\weight_norm.py:143: FutureWarning: `torch.nn.utils.weight_norm` is deprecated in favor of `torch.nn.utils.parametrizations.weight_norm`.\n",
      "  WeightNorm.apply(module, name, dim)\n"
     ]
    },
    {
     "name": "stdout",
     "output_type": "stream",
     "text": [
      "Early stopping at epoch 318 (no improvement in 50 epochs)\n",
      "Training time:  0:02:26.170727\n",
      "\n",
      "==== Running for 10 people ====\n"
     ]
    },
    {
     "name": "stderr",
     "output_type": "stream",
     "text": [
      "C:\\Users\\centu\\PycharmProjects\\MasterThesis_mmWavePI\\.venv\\Lib\\site-packages\\torch\\nn\\utils\\weight_norm.py:143: FutureWarning: `torch.nn.utils.weight_norm` is deprecated in favor of `torch.nn.utils.parametrizations.weight_norm`.\n",
      "  WeightNorm.apply(module, name, dim)\n"
     ]
    },
    {
     "name": "stdout",
     "output_type": "stream",
     "text": [
      "\n",
      "(Device: cuda) Started training model: TemporalConvNet\n",
      "Early stopping at epoch 94 (no improvement in 50 epochs)\n",
      "Training time:  0:01:25.448852\n",
      "\n",
      "==== Running for 15 people ====\n"
     ]
    },
    {
     "name": "stderr",
     "output_type": "stream",
     "text": [
      "C:\\Users\\centu\\PycharmProjects\\MasterThesis_mmWavePI\\.venv\\Lib\\site-packages\\torch\\nn\\utils\\weight_norm.py:143: FutureWarning: `torch.nn.utils.weight_norm` is deprecated in favor of `torch.nn.utils.parametrizations.weight_norm`.\n",
      "  WeightNorm.apply(module, name, dim)\n"
     ]
    },
    {
     "name": "stdout",
     "output_type": "stream",
     "text": [
      "\n",
      "(Device: cuda) Started training model: TemporalConvNet\n",
      "Early stopping at epoch 256 (no improvement in 50 epochs)\n",
      "Training time:  0:05:46.708630\n",
      "\n",
      "==== Running for 20 people ====\n"
     ]
    },
    {
     "name": "stderr",
     "output_type": "stream",
     "text": [
      "C:\\Users\\centu\\PycharmProjects\\MasterThesis_mmWavePI\\.venv\\Lib\\site-packages\\torch\\nn\\utils\\weight_norm.py:143: FutureWarning: `torch.nn.utils.weight_norm` is deprecated in favor of `torch.nn.utils.parametrizations.weight_norm`.\n",
      "  WeightNorm.apply(module, name, dim)\n"
     ]
    },
    {
     "name": "stdout",
     "output_type": "stream",
     "text": [
      "\n",
      "(Device: cuda) Started training model: TemporalConvNet\n",
      "Early stopping at epoch 249 (no improvement in 50 epochs)\n",
      "Training time:  0:06:50.049822\n",
      "\n",
      "--- Running seed 420 ---\n",
      "\n",
      "==== Running for 5 people ====\n",
      "\n",
      "(Device: cuda) Started training model: TemporalConvNet\n"
     ]
    },
    {
     "name": "stderr",
     "output_type": "stream",
     "text": [
      "C:\\Users\\centu\\PycharmProjects\\MasterThesis_mmWavePI\\.venv\\Lib\\site-packages\\torch\\nn\\utils\\weight_norm.py:143: FutureWarning: `torch.nn.utils.weight_norm` is deprecated in favor of `torch.nn.utils.parametrizations.weight_norm`.\n",
      "  WeightNorm.apply(module, name, dim)\n"
     ]
    },
    {
     "name": "stdout",
     "output_type": "stream",
     "text": [
      "Early stopping at epoch 122 (no improvement in 50 epochs)\n",
      "Training time:  0:01:02.004347\n",
      "\n",
      "==== Running for 10 people ====\n",
      "\n",
      "(Device: cuda) Started training model: TemporalConvNet\n"
     ]
    },
    {
     "name": "stderr",
     "output_type": "stream",
     "text": [
      "C:\\Users\\centu\\PycharmProjects\\MasterThesis_mmWavePI\\.venv\\Lib\\site-packages\\torch\\nn\\utils\\weight_norm.py:143: FutureWarning: `torch.nn.utils.weight_norm` is deprecated in favor of `torch.nn.utils.parametrizations.weight_norm`.\n",
      "  WeightNorm.apply(module, name, dim)\n"
     ]
    },
    {
     "name": "stdout",
     "output_type": "stream",
     "text": [
      "Early stopping at epoch 137 (no improvement in 50 epochs)\n",
      "Training time:  0:02:05.552543\n",
      "\n",
      "==== Running for 15 people ====\n"
     ]
    },
    {
     "name": "stderr",
     "output_type": "stream",
     "text": [
      "C:\\Users\\centu\\PycharmProjects\\MasterThesis_mmWavePI\\.venv\\Lib\\site-packages\\torch\\nn\\utils\\weight_norm.py:143: FutureWarning: `torch.nn.utils.weight_norm` is deprecated in favor of `torch.nn.utils.parametrizations.weight_norm`.\n",
      "  WeightNorm.apply(module, name, dim)\n"
     ]
    },
    {
     "name": "stdout",
     "output_type": "stream",
     "text": [
      "\n",
      "(Device: cuda) Started training model: TemporalConvNet\n",
      "Training time:  0:11:29.624704\n",
      "\n",
      "==== Running for 20 people ====\n"
     ]
    },
    {
     "name": "stderr",
     "output_type": "stream",
     "text": [
      "C:\\Users\\centu\\PycharmProjects\\MasterThesis_mmWavePI\\.venv\\Lib\\site-packages\\torch\\nn\\utils\\weight_norm.py:143: FutureWarning: `torch.nn.utils.weight_norm` is deprecated in favor of `torch.nn.utils.parametrizations.weight_norm`.\n",
      "  WeightNorm.apply(module, name, dim)\n"
     ]
    },
    {
     "name": "stdout",
     "output_type": "stream",
     "text": [
      "\n",
      "(Device: cuda) Started training model: TemporalConvNet\n",
      "Early stopping at epoch 262 (no improvement in 50 epochs)\n",
      "Training time:  0:07:03.250006\n",
      "\n",
      "--- Running seed 101010 ---\n",
      "\n",
      "==== Running for 5 people ====\n",
      "\n",
      "(Device: cuda) Started training model: TemporalConvNet\n"
     ]
    },
    {
     "name": "stderr",
     "output_type": "stream",
     "text": [
      "C:\\Users\\centu\\PycharmProjects\\MasterThesis_mmWavePI\\.venv\\Lib\\site-packages\\torch\\nn\\utils\\weight_norm.py:143: FutureWarning: `torch.nn.utils.weight_norm` is deprecated in favor of `torch.nn.utils.parametrizations.weight_norm`.\n",
      "  WeightNorm.apply(module, name, dim)\n"
     ]
    },
    {
     "name": "stdout",
     "output_type": "stream",
     "text": [
      "Early stopping at epoch 185 (no improvement in 50 epochs)\n",
      "Training time:  0:01:22.238653\n",
      "\n",
      "==== Running for 10 people ====\n",
      "\n",
      "(Device: cuda) Started training model: TemporalConvNet\n"
     ]
    },
    {
     "name": "stderr",
     "output_type": "stream",
     "text": [
      "C:\\Users\\centu\\PycharmProjects\\MasterThesis_mmWavePI\\.venv\\Lib\\site-packages\\torch\\nn\\utils\\weight_norm.py:143: FutureWarning: `torch.nn.utils.weight_norm` is deprecated in favor of `torch.nn.utils.parametrizations.weight_norm`.\n",
      "  WeightNorm.apply(module, name, dim)\n"
     ]
    },
    {
     "name": "stdout",
     "output_type": "stream",
     "text": [
      "Early stopping at epoch 305 (no improvement in 50 epochs)\n",
      "Training time:  0:04:35.945629\n",
      "\n",
      "==== Running for 15 people ====\n"
     ]
    },
    {
     "name": "stderr",
     "output_type": "stream",
     "text": [
      "C:\\Users\\centu\\PycharmProjects\\MasterThesis_mmWavePI\\.venv\\Lib\\site-packages\\torch\\nn\\utils\\weight_norm.py:143: FutureWarning: `torch.nn.utils.weight_norm` is deprecated in favor of `torch.nn.utils.parametrizations.weight_norm`.\n",
      "  WeightNorm.apply(module, name, dim)\n"
     ]
    },
    {
     "name": "stdout",
     "output_type": "stream",
     "text": [
      "\n",
      "(Device: cuda) Started training model: TemporalConvNet\n",
      "Early stopping at epoch 348 (no improvement in 50 epochs)\n",
      "Training time:  0:07:49.804827\n",
      "\n",
      "==== Running for 20 people ====\n"
     ]
    },
    {
     "name": "stderr",
     "output_type": "stream",
     "text": [
      "C:\\Users\\centu\\PycharmProjects\\MasterThesis_mmWavePI\\.venv\\Lib\\site-packages\\torch\\nn\\utils\\weight_norm.py:143: FutureWarning: `torch.nn.utils.weight_norm` is deprecated in favor of `torch.nn.utils.parametrizations.weight_norm`.\n",
      "  WeightNorm.apply(module, name, dim)\n"
     ]
    },
    {
     "name": "stdout",
     "output_type": "stream",
     "text": [
      "\n",
      "(Device: cuda) Started training model: TemporalConvNet\n",
      "Early stopping at epoch 182 (no improvement in 50 epochs)\n",
      "Training time:  0:04:50.071614\n",
      "seed outputs:  [([5, 10, 15, 20], [1.0, 0.97, 1.0, 0.97], [1.0, 1.0, 1.0, 0.9]), ([5, 10, 15, 20], [1.0, 0.97, 0.98, 0.98], [1.0, 0.97, 0.96, 0.95]), ([5, 10, 15, 20], [1.0, 0.94, 1.0, 0.98], [0.94, 0.97, 0.98, 0.95])]\n",
      "Running experiment for 60ghz_collected...\n",
      "\n",
      "--- Running seed 42 ---\n",
      "\n",
      "==== Running for 5 people ====\n",
      "\n",
      "(Device: cuda) Started training model: TemporalConvNet\n"
     ]
    },
    {
     "name": "stderr",
     "output_type": "stream",
     "text": [
      "C:\\Users\\centu\\PycharmProjects\\MasterThesis_mmWavePI\\.venv\\Lib\\site-packages\\torch\\nn\\utils\\weight_norm.py:143: FutureWarning: `torch.nn.utils.weight_norm` is deprecated in favor of `torch.nn.utils.parametrizations.weight_norm`.\n",
      "  WeightNorm.apply(module, name, dim)\n"
     ]
    },
    {
     "name": "stdout",
     "output_type": "stream",
     "text": [
      "Early stopping at epoch 77 (no improvement in 50 epochs)\n",
      "Training time:  0:00:33.184392\n",
      "\n",
      "==== Running for 10 people ====\n",
      "\n",
      "(Device: cuda) Started training model: TemporalConvNet\n"
     ]
    },
    {
     "name": "stderr",
     "output_type": "stream",
     "text": [
      "C:\\Users\\centu\\PycharmProjects\\MasterThesis_mmWavePI\\.venv\\Lib\\site-packages\\torch\\nn\\utils\\weight_norm.py:143: FutureWarning: `torch.nn.utils.weight_norm` is deprecated in favor of `torch.nn.utils.parametrizations.weight_norm`.\n",
      "  WeightNorm.apply(module, name, dim)\n"
     ]
    },
    {
     "name": "stdout",
     "output_type": "stream",
     "text": [
      "Early stopping at epoch 123 (no improvement in 50 epochs)\n",
      "Training time:  0:01:45.524781\n",
      "\n",
      "==== Running for 15 people ====\n",
      "\n",
      "(Device: cuda) Started training model: TemporalConvNet\n"
     ]
    },
    {
     "name": "stderr",
     "output_type": "stream",
     "text": [
      "C:\\Users\\centu\\PycharmProjects\\MasterThesis_mmWavePI\\.venv\\Lib\\site-packages\\torch\\nn\\utils\\weight_norm.py:143: FutureWarning: `torch.nn.utils.weight_norm` is deprecated in favor of `torch.nn.utils.parametrizations.weight_norm`.\n",
      "  WeightNorm.apply(module, name, dim)\n"
     ]
    },
    {
     "name": "stdout",
     "output_type": "stream",
     "text": [
      "Early stopping at epoch 136 (no improvement in 50 epochs)\n",
      "Training time:  0:02:50.728990\n",
      "\n",
      "==== Running for 20 people ====\n"
     ]
    },
    {
     "name": "stderr",
     "output_type": "stream",
     "text": [
      "C:\\Users\\centu\\PycharmProjects\\MasterThesis_mmWavePI\\.venv\\Lib\\site-packages\\torch\\nn\\utils\\weight_norm.py:143: FutureWarning: `torch.nn.utils.weight_norm` is deprecated in favor of `torch.nn.utils.parametrizations.weight_norm`.\n",
      "  WeightNorm.apply(module, name, dim)\n"
     ]
    },
    {
     "name": "stdout",
     "output_type": "stream",
     "text": [
      "\n",
      "(Device: cuda) Started training model: TemporalConvNet\n",
      "Early stopping at epoch 179 (no improvement in 50 epochs)\n",
      "Training time:  0:05:02.033697\n",
      "\n",
      "--- Running seed 420 ---\n",
      "\n",
      "==== Running for 5 people ====\n",
      "\n",
      "(Device: cuda) Started training model: TemporalConvNet\n"
     ]
    },
    {
     "name": "stderr",
     "output_type": "stream",
     "text": [
      "C:\\Users\\centu\\PycharmProjects\\MasterThesis_mmWavePI\\.venv\\Lib\\site-packages\\torch\\nn\\utils\\weight_norm.py:143: FutureWarning: `torch.nn.utils.weight_norm` is deprecated in favor of `torch.nn.utils.parametrizations.weight_norm`.\n",
      "  WeightNorm.apply(module, name, dim)\n"
     ]
    },
    {
     "name": "stdout",
     "output_type": "stream",
     "text": [
      "Early stopping at epoch 60 (no improvement in 50 epochs)\n",
      "Training time:  0:00:25.395666\n",
      "\n",
      "==== Running for 10 people ====\n",
      "\n",
      "(Device: cuda) Started training model: TemporalConvNet\n"
     ]
    },
    {
     "name": "stderr",
     "output_type": "stream",
     "text": [
      "C:\\Users\\centu\\PycharmProjects\\MasterThesis_mmWavePI\\.venv\\Lib\\site-packages\\torch\\nn\\utils\\weight_norm.py:143: FutureWarning: `torch.nn.utils.weight_norm` is deprecated in favor of `torch.nn.utils.parametrizations.weight_norm`.\n",
      "  WeightNorm.apply(module, name, dim)\n"
     ]
    },
    {
     "name": "stdout",
     "output_type": "stream",
     "text": [
      "Early stopping at epoch 123 (no improvement in 50 epochs)\n",
      "Training time:  0:01:47.060173\n",
      "\n",
      "==== Running for 15 people ====\n",
      "\n",
      "(Device: cuda) Started training model: TemporalConvNet\n"
     ]
    },
    {
     "name": "stderr",
     "output_type": "stream",
     "text": [
      "C:\\Users\\centu\\PycharmProjects\\MasterThesis_mmWavePI\\.venv\\Lib\\site-packages\\torch\\nn\\utils\\weight_norm.py:143: FutureWarning: `torch.nn.utils.weight_norm` is deprecated in favor of `torch.nn.utils.parametrizations.weight_norm`.\n",
      "  WeightNorm.apply(module, name, dim)\n"
     ]
    },
    {
     "name": "stdout",
     "output_type": "stream",
     "text": [
      "Early stopping at epoch 212 (no improvement in 50 epochs)\n",
      "Training time:  0:04:33.801045\n",
      "\n",
      "==== Running for 20 people ====\n"
     ]
    },
    {
     "name": "stderr",
     "output_type": "stream",
     "text": [
      "C:\\Users\\centu\\PycharmProjects\\MasterThesis_mmWavePI\\.venv\\Lib\\site-packages\\torch\\nn\\utils\\weight_norm.py:143: FutureWarning: `torch.nn.utils.weight_norm` is deprecated in favor of `torch.nn.utils.parametrizations.weight_norm`.\n",
      "  WeightNorm.apply(module, name, dim)\n"
     ]
    },
    {
     "name": "stdout",
     "output_type": "stream",
     "text": [
      "\n",
      "(Device: cuda) Started training model: TemporalConvNet\n",
      "Early stopping at epoch 148 (no improvement in 50 epochs)\n",
      "Training time:  0:04:09.782850\n",
      "\n",
      "--- Running seed 101010 ---\n",
      "\n",
      "==== Running for 5 people ====\n",
      "\n",
      "(Device: cuda) Started training model: TemporalConvNet\n"
     ]
    },
    {
     "name": "stderr",
     "output_type": "stream",
     "text": [
      "C:\\Users\\centu\\PycharmProjects\\MasterThesis_mmWavePI\\.venv\\Lib\\site-packages\\torch\\nn\\utils\\weight_norm.py:143: FutureWarning: `torch.nn.utils.weight_norm` is deprecated in favor of `torch.nn.utils.parametrizations.weight_norm`.\n",
      "  WeightNorm.apply(module, name, dim)\n"
     ]
    },
    {
     "name": "stdout",
     "output_type": "stream",
     "text": [
      "Early stopping at epoch 91 (no improvement in 50 epochs)\n",
      "Training time:  0:00:40.086855\n",
      "\n",
      "==== Running for 10 people ====\n",
      "\n",
      "(Device: cuda) Started training model: TemporalConvNet\n"
     ]
    },
    {
     "name": "stderr",
     "output_type": "stream",
     "text": [
      "C:\\Users\\centu\\PycharmProjects\\MasterThesis_mmWavePI\\.venv\\Lib\\site-packages\\torch\\nn\\utils\\weight_norm.py:143: FutureWarning: `torch.nn.utils.weight_norm` is deprecated in favor of `torch.nn.utils.parametrizations.weight_norm`.\n",
      "  WeightNorm.apply(module, name, dim)\n"
     ]
    },
    {
     "name": "stdout",
     "output_type": "stream",
     "text": [
      "Early stopping at epoch 197 (no improvement in 50 epochs)\n",
      "Training time:  0:02:48.681471\n",
      "\n",
      "==== Running for 15 people ====\n",
      "\n",
      "(Device: cuda) Started training model: TemporalConvNet\n"
     ]
    },
    {
     "name": "stderr",
     "output_type": "stream",
     "text": [
      "C:\\Users\\centu\\PycharmProjects\\MasterThesis_mmWavePI\\.venv\\Lib\\site-packages\\torch\\nn\\utils\\weight_norm.py:143: FutureWarning: `torch.nn.utils.weight_norm` is deprecated in favor of `torch.nn.utils.parametrizations.weight_norm`.\n",
      "  WeightNorm.apply(module, name, dim)\n"
     ]
    },
    {
     "name": "stdout",
     "output_type": "stream",
     "text": [
      "Early stopping at epoch 170 (no improvement in 50 epochs)\n",
      "Training time:  0:03:34.326355\n",
      "\n",
      "==== Running for 20 people ====\n"
     ]
    },
    {
     "name": "stderr",
     "output_type": "stream",
     "text": [
      "C:\\Users\\centu\\PycharmProjects\\MasterThesis_mmWavePI\\.venv\\Lib\\site-packages\\torch\\nn\\utils\\weight_norm.py:143: FutureWarning: `torch.nn.utils.weight_norm` is deprecated in favor of `torch.nn.utils.parametrizations.weight_norm`.\n",
      "  WeightNorm.apply(module, name, dim)\n"
     ]
    },
    {
     "name": "stdout",
     "output_type": "stream",
     "text": [
      "\n",
      "(Device: cuda) Started training model: TemporalConvNet\n",
      "Early stopping at epoch 199 (no improvement in 50 epochs)\n",
      "Training time:  0:05:33.611690\n",
      "seed outputs:  [([5, 10, 15, 20], [1.0, 0.97, 0.96, 0.96], [0.88, 0.91, 0.92, 0.96]), ([5, 10, 15, 20], [1.0, 1.0, 0.98, 0.99], [0.89, 0.94, 0.98, 0.94]), ([5, 10, 15, 20], [1.0, 1.0, 0.98, 0.99], [0.94, 0.94, 0.92, 0.93])]\n"
     ]
    }
   ],
   "execution_count": 3
  },
  {
   "cell_type": "code",
   "id": "4b3277961b663ec",
   "metadata": {
    "ExecuteTime": {
     "end_time": "2025-06-04T00:46:59.660433Z",
     "start_time": "2025-06-04T00:46:59.656972Z"
    }
   },
   "source": [
    "results_per_signal"
   ],
   "outputs": [
    {
     "data": {
      "text/plain": [
       "{'5ghz_10hz': ([5, 10, 15, 20],\n",
       "  [1.0, 0.9533333333333333, 0.9533333333333333, 0.8933333333333334]),\n",
       " '5ghz_200hz': ([5, 10, 15, 20], [0.98, 0.98, 0.98, 0.9333333333333332]),\n",
       " '60ghz_collected': ([5, 10, 15, 20],\n",
       "  [0.9033333333333333, 0.93, 0.94, 0.9433333333333334])}"
      ]
     },
     "execution_count": 4,
     "metadata": {},
     "output_type": "execute_result"
    }
   ],
   "execution_count": 4
  },
  {
   "cell_type": "code",
   "id": "6a89edcf222f79d9",
   "metadata": {
    "ExecuteTime": {
     "end_time": "2025-06-04T00:46:59.871744Z",
     "start_time": "2025-06-04T00:46:59.677208Z"
    }
   },
   "source": [
    "plot_people_vs_accuracy(results_dict=results_per_signal, \n",
    "                        std_dict=stds_per_signal, \n",
    "                        output_path=output_path)"
   ],
   "outputs": [
    {
     "data": {
      "text/plain": [
       "<Figure size 640x560 with 1 Axes>"
      ],
      "image/png": "[encoded data removed]"
     },
     "metadata": {},
     "output_type": "display_data"
    }
   ],
   "execution_count": 5
  },
  {
   "metadata": {
    "ExecuteTime": {
     "end_time": "2025-06-04T05:05:32.342430Z",
     "start_time": "2025-06-04T00:46:59.876751Z"
    }
   },
   "cell_type": "code",
   "source": [
    "results_per_signal, stds_per_signal = run_experiment_with_seeds(experiment_func=get_varying_people_data,\n",
    "                                                                signal_configs=signal_configs,\n",
    "                                                                varying_param_name='people_counts',\n",
    "                                                                varying_param_value=people_counts,\n",
    "                                                                n_seeds=num_seeds,\n",
    "                                                                accuracy_type=accuracy_type,\n",
    "                                                                seconds_per_sample=3)"
   ],
   "id": "887c1565d96764fb",
   "outputs": [
    {
     "name": "stdout",
     "output_type": "stream",
     "text": [
      "Running experiment for 5ghz_10hz...\n",
      "\n",
      "--- Running seed 42 ---\n",
      "\n",
      "==== Running for 5 people ====\n",
      "\n",
      "(Device: cuda) Started training model: TemporalConvNet\n"
     ]
    },
    {
     "name": "stderr",
     "output_type": "stream",
     "text": [
      "C:\\Users\\centu\\PycharmProjects\\MasterThesis_mmWavePI\\.venv\\Lib\\site-packages\\torch\\nn\\utils\\weight_norm.py:143: FutureWarning: `torch.nn.utils.weight_norm` is deprecated in favor of `torch.nn.utils.parametrizations.weight_norm`.\n",
      "  WeightNorm.apply(module, name, dim)\n"
     ]
    },
    {
     "name": "stdout",
     "output_type": "stream",
     "text": [
      "Early stopping at epoch 87 (no improvement in 50 epochs)\n",
      "Training time:  0:01:01.940400\n",
      "\n",
      "==== Running for 10 people ====\n",
      "\n",
      "(Device: cuda) Started training model: TemporalConvNet\n"
     ]
    },
    {
     "name": "stderr",
     "output_type": "stream",
     "text": [
      "C:\\Users\\centu\\PycharmProjects\\MasterThesis_mmWavePI\\.venv\\Lib\\site-packages\\torch\\nn\\utils\\weight_norm.py:143: FutureWarning: `torch.nn.utils.weight_norm` is deprecated in favor of `torch.nn.utils.parametrizations.weight_norm`.\n",
      "  WeightNorm.apply(module, name, dim)\n"
     ]
    },
    {
     "name": "stdout",
     "output_type": "stream",
     "text": [
      "Early stopping at epoch 225 (no improvement in 50 epochs)\n",
      "Training time:  0:05:20.714129\n",
      "\n",
      "==== Running for 15 people ====\n",
      "\n",
      "(Device: cuda) Started training model: TemporalConvNet\n"
     ]
    },
    {
     "name": "stderr",
     "output_type": "stream",
     "text": [
      "C:\\Users\\centu\\PycharmProjects\\MasterThesis_mmWavePI\\.venv\\Lib\\site-packages\\torch\\nn\\utils\\weight_norm.py:143: FutureWarning: `torch.nn.utils.weight_norm` is deprecated in favor of `torch.nn.utils.parametrizations.weight_norm`.\n",
      "  WeightNorm.apply(module, name, dim)\n"
     ]
    },
    {
     "name": "stdout",
     "output_type": "stream",
     "text": [
      "Early stopping at epoch 213 (no improvement in 50 epochs)\n",
      "Training time:  0:07:27.159683\n",
      "\n",
      "==== Running for 20 people ====\n",
      "\n",
      "(Device: cuda) Started training model: TemporalConvNet\n"
     ]
    },
    {
     "name": "stderr",
     "output_type": "stream",
     "text": [
      "C:\\Users\\centu\\PycharmProjects\\MasterThesis_mmWavePI\\.venv\\Lib\\site-packages\\torch\\nn\\utils\\weight_norm.py:143: FutureWarning: `torch.nn.utils.weight_norm` is deprecated in favor of `torch.nn.utils.parametrizations.weight_norm`.\n",
      "  WeightNorm.apply(module, name, dim)\n"
     ]
    },
    {
     "name": "stdout",
     "output_type": "stream",
     "text": [
      "Early stopping at epoch 203 (no improvement in 50 epochs)\n",
      "Training time:  0:09:31.144397\n",
      "\n",
      "--- Running seed 420 ---\n",
      "\n",
      "==== Running for 5 people ====\n",
      "\n",
      "(Device: cuda) Started training model: TemporalConvNet\n"
     ]
    },
    {
     "name": "stderr",
     "output_type": "stream",
     "text": [
      "C:\\Users\\centu\\PycharmProjects\\MasterThesis_mmWavePI\\.venv\\Lib\\site-packages\\torch\\nn\\utils\\weight_norm.py:143: FutureWarning: `torch.nn.utils.weight_norm` is deprecated in favor of `torch.nn.utils.parametrizations.weight_norm`.\n",
      "  WeightNorm.apply(module, name, dim)\n"
     ]
    },
    {
     "name": "stdout",
     "output_type": "stream",
     "text": [
      "Early stopping at epoch 186 (no improvement in 50 epochs)\n",
      "Training time:  0:02:12.387250\n",
      "\n",
      "==== Running for 10 people ====\n",
      "\n",
      "(Device: cuda) Started training model: TemporalConvNet\n"
     ]
    },
    {
     "name": "stderr",
     "output_type": "stream",
     "text": [
      "C:\\Users\\centu\\PycharmProjects\\MasterThesis_mmWavePI\\.venv\\Lib\\site-packages\\torch\\nn\\utils\\weight_norm.py:143: FutureWarning: `torch.nn.utils.weight_norm` is deprecated in favor of `torch.nn.utils.parametrizations.weight_norm`.\n",
      "  WeightNorm.apply(module, name, dim)\n"
     ]
    },
    {
     "name": "stdout",
     "output_type": "stream",
     "text": [
      "Early stopping at epoch 212 (no improvement in 50 epochs)\n",
      "Training time:  0:05:03.318153\n",
      "\n",
      "==== Running for 15 people ====\n",
      "\n",
      "(Device: cuda) Started training model: TemporalConvNet\n"
     ]
    },
    {
     "name": "stderr",
     "output_type": "stream",
     "text": [
      "C:\\Users\\centu\\PycharmProjects\\MasterThesis_mmWavePI\\.venv\\Lib\\site-packages\\torch\\nn\\utils\\weight_norm.py:143: FutureWarning: `torch.nn.utils.weight_norm` is deprecated in favor of `torch.nn.utils.parametrizations.weight_norm`.\n",
      "  WeightNorm.apply(module, name, dim)\n"
     ]
    },
    {
     "name": "stdout",
     "output_type": "stream",
     "text": [
      "Early stopping at epoch 177 (no improvement in 50 epochs)\n",
      "Training time:  0:06:14.324730\n",
      "\n",
      "==== Running for 20 people ====\n",
      "\n",
      "(Device: cuda) Started training model: TemporalConvNet\n"
     ]
    },
    {
     "name": "stderr",
     "output_type": "stream",
     "text": [
      "C:\\Users\\centu\\PycharmProjects\\MasterThesis_mmWavePI\\.venv\\Lib\\site-packages\\torch\\nn\\utils\\weight_norm.py:143: FutureWarning: `torch.nn.utils.weight_norm` is deprecated in favor of `torch.nn.utils.parametrizations.weight_norm`.\n",
      "  WeightNorm.apply(module, name, dim)\n"
     ]
    },
    {
     "name": "stdout",
     "output_type": "stream",
     "text": [
      "Early stopping at epoch 153 (no improvement in 50 epochs)\n",
      "Training time:  0:06:54.367079\n",
      "\n",
      "--- Running seed 101010 ---\n",
      "\n",
      "==== Running for 5 people ====\n",
      "\n",
      "(Device: cuda) Started training model: TemporalConvNet\n"
     ]
    },
    {
     "name": "stderr",
     "output_type": "stream",
     "text": [
      "C:\\Users\\centu\\PycharmProjects\\MasterThesis_mmWavePI\\.venv\\Lib\\site-packages\\torch\\nn\\utils\\weight_norm.py:143: FutureWarning: `torch.nn.utils.weight_norm` is deprecated in favor of `torch.nn.utils.parametrizations.weight_norm`.\n",
      "  WeightNorm.apply(module, name, dim)\n"
     ]
    },
    {
     "name": "stdout",
     "output_type": "stream",
     "text": [
      "Early stopping at epoch 105 (no improvement in 50 epochs)\n",
      "Training time:  0:01:15.536032\n",
      "\n",
      "==== Running for 10 people ====\n",
      "\n",
      "(Device: cuda) Started training model: TemporalConvNet\n"
     ]
    },
    {
     "name": "stderr",
     "output_type": "stream",
     "text": [
      "C:\\Users\\centu\\PycharmProjects\\MasterThesis_mmWavePI\\.venv\\Lib\\site-packages\\torch\\nn\\utils\\weight_norm.py:143: FutureWarning: `torch.nn.utils.weight_norm` is deprecated in favor of `torch.nn.utils.parametrizations.weight_norm`.\n",
      "  WeightNorm.apply(module, name, dim)\n"
     ]
    },
    {
     "name": "stdout",
     "output_type": "stream",
     "text": [
      "Early stopping at epoch 235 (no improvement in 50 epochs)\n",
      "Training time:  0:05:21.768878\n",
      "\n",
      "==== Running for 15 people ====\n"
     ]
    },
    {
     "name": "stderr",
     "output_type": "stream",
     "text": [
      "C:\\Users\\centu\\PycharmProjects\\MasterThesis_mmWavePI\\.venv\\Lib\\site-packages\\torch\\nn\\utils\\weight_norm.py:143: FutureWarning: `torch.nn.utils.weight_norm` is deprecated in favor of `torch.nn.utils.parametrizations.weight_norm`.\n",
      "  WeightNorm.apply(module, name, dim)\n"
     ]
    },
    {
     "name": "stdout",
     "output_type": "stream",
     "text": [
      "\n",
      "(Device: cuda) Started training model: TemporalConvNet\n",
      "Early stopping at epoch 141 (no improvement in 50 epochs)\n",
      "Training time:  0:04:44.893759\n",
      "\n",
      "==== Running for 20 people ====\n",
      "\n",
      "(Device: cuda) Started training model: TemporalConvNet\n"
     ]
    },
    {
     "name": "stderr",
     "output_type": "stream",
     "text": [
      "C:\\Users\\centu\\PycharmProjects\\MasterThesis_mmWavePI\\.venv\\Lib\\site-packages\\torch\\nn\\utils\\weight_norm.py:143: FutureWarning: `torch.nn.utils.weight_norm` is deprecated in favor of `torch.nn.utils.parametrizations.weight_norm`.\n",
      "  WeightNorm.apply(module, name, dim)\n"
     ]
    },
    {
     "name": "stdout",
     "output_type": "stream",
     "text": [
      "Early stopping at epoch 355 (no improvement in 50 epochs)\n",
      "Training time:  0:16:01.253632\n",
      "seed outputs:  [([5, 10, 15, 20], [1.0, 1.0, 0.99, 0.93], [1.0, 0.93, 0.91, 0.89]), ([5, 10, 15, 20], [1.0, 0.97, 0.97, 0.93], [1.0, 0.92, 0.89, 0.83]), ([5, 10, 15, 20], [1.0, 0.98, 0.92, 0.96], [1.0, 0.94, 0.89, 0.88])]\n",
      "Running experiment for 5ghz_200hz...\n",
      "\n",
      "--- Running seed 42 ---\n",
      "\n",
      "==== Running for 5 people ====\n",
      "\n",
      "(Device: cuda) Started training model: TemporalConvNet\n"
     ]
    },
    {
     "name": "stderr",
     "output_type": "stream",
     "text": [
      "C:\\Users\\centu\\PycharmProjects\\MasterThesis_mmWavePI\\.venv\\Lib\\site-packages\\torch\\nn\\utils\\weight_norm.py:143: FutureWarning: `torch.nn.utils.weight_norm` is deprecated in favor of `torch.nn.utils.parametrizations.weight_norm`.\n",
      "  WeightNorm.apply(module, name, dim)\n"
     ]
    },
    {
     "name": "stdout",
     "output_type": "stream",
     "text": [
      "Early stopping at epoch 151 (no improvement in 50 epochs)\n",
      "Training time:  0:01:44.311863\n",
      "\n",
      "==== Running for 10 people ====\n"
     ]
    },
    {
     "name": "stderr",
     "output_type": "stream",
     "text": [
      "C:\\Users\\centu\\PycharmProjects\\MasterThesis_mmWavePI\\.venv\\Lib\\site-packages\\torch\\nn\\utils\\weight_norm.py:143: FutureWarning: `torch.nn.utils.weight_norm` is deprecated in favor of `torch.nn.utils.parametrizations.weight_norm`.\n",
      "  WeightNorm.apply(module, name, dim)\n"
     ]
    },
    {
     "name": "stdout",
     "output_type": "stream",
     "text": [
      "\n",
      "(Device: cuda) Started training model: TemporalConvNet\n",
      "Early stopping at epoch 263 (no improvement in 50 epochs)\n",
      "Training time:  0:06:34.266038\n",
      "\n",
      "==== Running for 15 people ====\n",
      "\n",
      "(Device: cuda) Started training model: TemporalConvNet\n"
     ]
    },
    {
     "name": "stderr",
     "output_type": "stream",
     "text": [
      "C:\\Users\\centu\\PycharmProjects\\MasterThesis_mmWavePI\\.venv\\Lib\\site-packages\\torch\\nn\\utils\\weight_norm.py:143: FutureWarning: `torch.nn.utils.weight_norm` is deprecated in favor of `torch.nn.utils.parametrizations.weight_norm`.\n",
      "  WeightNorm.apply(module, name, dim)\n"
     ]
    },
    {
     "name": "stdout",
     "output_type": "stream",
     "text": [
      "Early stopping at epoch 136 (no improvement in 50 epochs)\n",
      "Training time:  0:04:56.388173\n",
      "\n",
      "==== Running for 20 people ====\n",
      "\n",
      "(Device: cuda) Started training model: TemporalConvNet\n"
     ]
    },
    {
     "name": "stderr",
     "output_type": "stream",
     "text": [
      "C:\\Users\\centu\\PycharmProjects\\MasterThesis_mmWavePI\\.venv\\Lib\\site-packages\\torch\\nn\\utils\\weight_norm.py:143: FutureWarning: `torch.nn.utils.weight_norm` is deprecated in favor of `torch.nn.utils.parametrizations.weight_norm`.\n",
      "  WeightNorm.apply(module, name, dim)\n"
     ]
    },
    {
     "name": "stdout",
     "output_type": "stream",
     "text": [
      "Early stopping at epoch 249 (no improvement in 50 epochs)\n",
      "Training time:  0:10:55.137259\n",
      "\n",
      "--- Running seed 420 ---\n",
      "\n",
      "==== Running for 5 people ====\n",
      "\n",
      "(Device: cuda) Started training model: TemporalConvNet\n"
     ]
    },
    {
     "name": "stderr",
     "output_type": "stream",
     "text": [
      "C:\\Users\\centu\\PycharmProjects\\MasterThesis_mmWavePI\\.venv\\Lib\\site-packages\\torch\\nn\\utils\\weight_norm.py:143: FutureWarning: `torch.nn.utils.weight_norm` is deprecated in favor of `torch.nn.utils.parametrizations.weight_norm`.\n",
      "  WeightNorm.apply(module, name, dim)\n"
     ]
    },
    {
     "name": "stdout",
     "output_type": "stream",
     "text": [
      "Early stopping at epoch 195 (no improvement in 50 epochs)\n",
      "Training time:  0:02:29.600386\n",
      "\n",
      "==== Running for 10 people ====\n"
     ]
    },
    {
     "name": "stderr",
     "output_type": "stream",
     "text": [
      "C:\\Users\\centu\\PycharmProjects\\MasterThesis_mmWavePI\\.venv\\Lib\\site-packages\\torch\\nn\\utils\\weight_norm.py:143: FutureWarning: `torch.nn.utils.weight_norm` is deprecated in favor of `torch.nn.utils.parametrizations.weight_norm`.\n",
      "  WeightNorm.apply(module, name, dim)\n"
     ]
    },
    {
     "name": "stdout",
     "output_type": "stream",
     "text": [
      "\n",
      "(Device: cuda) Started training model: TemporalConvNet\n",
      "Early stopping at epoch 275 (no improvement in 50 epochs)\n",
      "Training time:  0:06:47.348797\n",
      "\n",
      "==== Running for 15 people ====\n",
      "\n",
      "(Device: cuda) Started training model: TemporalConvNet\n"
     ]
    },
    {
     "name": "stderr",
     "output_type": "stream",
     "text": [
      "C:\\Users\\centu\\PycharmProjects\\MasterThesis_mmWavePI\\.venv\\Lib\\site-packages\\torch\\nn\\utils\\weight_norm.py:143: FutureWarning: `torch.nn.utils.weight_norm` is deprecated in favor of `torch.nn.utils.parametrizations.weight_norm`.\n",
      "  WeightNorm.apply(module, name, dim)\n"
     ]
    },
    {
     "name": "stdout",
     "output_type": "stream",
     "text": [
      "Early stopping at epoch 159 (no improvement in 50 epochs)\n",
      "Training time:  0:05:57.558151\n",
      "\n",
      "==== Running for 20 people ====\n",
      "\n",
      "(Device: cuda) Started training model: TemporalConvNet\n"
     ]
    },
    {
     "name": "stderr",
     "output_type": "stream",
     "text": [
      "C:\\Users\\centu\\PycharmProjects\\MasterThesis_mmWavePI\\.venv\\Lib\\site-packages\\torch\\nn\\utils\\weight_norm.py:143: FutureWarning: `torch.nn.utils.weight_norm` is deprecated in favor of `torch.nn.utils.parametrizations.weight_norm`.\n",
      "  WeightNorm.apply(module, name, dim)\n"
     ]
    },
    {
     "name": "stdout",
     "output_type": "stream",
     "text": [
      "Early stopping at epoch 168 (no improvement in 50 epochs)\n",
      "Training time:  0:07:19.230094\n",
      "\n",
      "--- Running seed 101010 ---\n",
      "\n",
      "==== Running for 5 people ====\n",
      "\n",
      "(Device: cuda) Started training model: TemporalConvNet\n"
     ]
    },
    {
     "name": "stderr",
     "output_type": "stream",
     "text": [
      "C:\\Users\\centu\\PycharmProjects\\MasterThesis_mmWavePI\\.venv\\Lib\\site-packages\\torch\\nn\\utils\\weight_norm.py:143: FutureWarning: `torch.nn.utils.weight_norm` is deprecated in favor of `torch.nn.utils.parametrizations.weight_norm`.\n",
      "  WeightNorm.apply(module, name, dim)\n"
     ]
    },
    {
     "name": "stdout",
     "output_type": "stream",
     "text": [
      "Early stopping at epoch 187 (no improvement in 50 epochs)\n",
      "Training time:  0:02:13.226056\n",
      "\n",
      "==== Running for 10 people ====\n"
     ]
    },
    {
     "name": "stderr",
     "output_type": "stream",
     "text": [
      "C:\\Users\\centu\\PycharmProjects\\MasterThesis_mmWavePI\\.venv\\Lib\\site-packages\\torch\\nn\\utils\\weight_norm.py:143: FutureWarning: `torch.nn.utils.weight_norm` is deprecated in favor of `torch.nn.utils.parametrizations.weight_norm`.\n",
      "  WeightNorm.apply(module, name, dim)\n"
     ]
    },
    {
     "name": "stdout",
     "output_type": "stream",
     "text": [
      "\n",
      "(Device: cuda) Started training model: TemporalConvNet\n",
      "Early stopping at epoch 381 (no improvement in 50 epochs)\n",
      "Training time:  0:33:17.049198\n",
      "\n",
      "==== Running for 15 people ====\n"
     ]
    },
    {
     "name": "stderr",
     "output_type": "stream",
     "text": [
      "C:\\Users\\centu\\PycharmProjects\\MasterThesis_mmWavePI\\.venv\\Lib\\site-packages\\torch\\nn\\utils\\weight_norm.py:143: FutureWarning: `torch.nn.utils.weight_norm` is deprecated in favor of `torch.nn.utils.parametrizations.weight_norm`.\n",
      "  WeightNorm.apply(module, name, dim)\n"
     ]
    },
    {
     "name": "stdout",
     "output_type": "stream",
     "text": [
      "\n",
      "(Device: cuda) Started training model: TemporalConvNet\n",
      "Early stopping at epoch 226 (no improvement in 50 epochs)\n",
      "Training time:  0:10:54.783225\n",
      "\n",
      "==== Running for 20 people ====\n",
      "\n",
      "(Device: cuda) Started training model: TemporalConvNet\n"
     ]
    },
    {
     "name": "stderr",
     "output_type": "stream",
     "text": [
      "C:\\Users\\centu\\PycharmProjects\\MasterThesis_mmWavePI\\.venv\\Lib\\site-packages\\torch\\nn\\utils\\weight_norm.py:143: FutureWarning: `torch.nn.utils.weight_norm` is deprecated in favor of `torch.nn.utils.parametrizations.weight_norm`.\n",
      "  WeightNorm.apply(module, name, dim)\n"
     ]
    },
    {
     "name": "stdout",
     "output_type": "stream",
     "text": [
      "Early stopping at epoch 252 (no improvement in 50 epochs)\n",
      "Training time:  0:10:11.818835\n",
      "seed outputs:  [([5, 10, 15, 20], [1.0, 1.0, 0.97, 0.98], [1.0, 0.95, 0.92, 0.91]), ([5, 10, 15, 20], [1.0, 0.98, 0.98, 0.99], [1.0, 0.93, 0.9, 0.88]), ([5, 10, 15, 20], [1.0, 0.98, 0.97, 0.97], [0.97, 0.92, 0.93, 0.9])]\n",
      "Running experiment for 60ghz_collected...\n",
      "\n",
      "--- Running seed 42 ---\n",
      "\n",
      "==== Running for 5 people ====\n",
      "\n",
      "(Device: cuda) Started training model: TemporalConvNet\n"
     ]
    },
    {
     "name": "stderr",
     "output_type": "stream",
     "text": [
      "C:\\Users\\centu\\PycharmProjects\\MasterThesis_mmWavePI\\.venv\\Lib\\site-packages\\torch\\nn\\utils\\weight_norm.py:143: FutureWarning: `torch.nn.utils.weight_norm` is deprecated in favor of `torch.nn.utils.parametrizations.weight_norm`.\n",
      "  WeightNorm.apply(module, name, dim)\n"
     ]
    },
    {
     "name": "stdout",
     "output_type": "stream",
     "text": [
      "Early stopping at epoch 56 (no improvement in 50 epochs)\n",
      "Training time:  0:00:38.516993\n",
      "\n",
      "==== Running for 10 people ====\n",
      "\n",
      "(Device: cuda) Started training model: TemporalConvNet\n"
     ]
    },
    {
     "name": "stderr",
     "output_type": "stream",
     "text": [
      "C:\\Users\\centu\\PycharmProjects\\MasterThesis_mmWavePI\\.venv\\Lib\\site-packages\\torch\\nn\\utils\\weight_norm.py:143: FutureWarning: `torch.nn.utils.weight_norm` is deprecated in favor of `torch.nn.utils.parametrizations.weight_norm`.\n",
      "  WeightNorm.apply(module, name, dim)\n"
     ]
    },
    {
     "name": "stdout",
     "output_type": "stream",
     "text": [
      "Early stopping at epoch 196 (no improvement in 50 epochs)\n",
      "Training time:  0:12:58.803187\n",
      "\n",
      "==== Running for 15 people ====\n",
      "\n",
      "(Device: cuda) Started training model: TemporalConvNet\n"
     ]
    },
    {
     "name": "stderr",
     "output_type": "stream",
     "text": [
      "C:\\Users\\centu\\PycharmProjects\\MasterThesis_mmWavePI\\.venv\\Lib\\site-packages\\torch\\nn\\utils\\weight_norm.py:143: FutureWarning: `torch.nn.utils.weight_norm` is deprecated in favor of `torch.nn.utils.parametrizations.weight_norm`.\n",
      "  WeightNorm.apply(module, name, dim)\n"
     ]
    },
    {
     "name": "stdout",
     "output_type": "stream",
     "text": [
      "Early stopping at epoch 181 (no improvement in 50 epochs)\n",
      "Training time:  0:24:49.694262\n",
      "\n",
      "==== Running for 20 people ====\n",
      "\n",
      "(Device: cuda) Started training model: TemporalConvNet\n"
     ]
    },
    {
     "name": "stderr",
     "output_type": "stream",
     "text": [
      "C:\\Users\\centu\\PycharmProjects\\MasterThesis_mmWavePI\\.venv\\Lib\\site-packages\\torch\\nn\\utils\\weight_norm.py:143: FutureWarning: `torch.nn.utils.weight_norm` is deprecated in favor of `torch.nn.utils.parametrizations.weight_norm`.\n",
      "  WeightNorm.apply(module, name, dim)\n"
     ]
    },
    {
     "name": "stdout",
     "output_type": "stream",
     "text": [
      "Early stopping at epoch 223 (no improvement in 50 epochs)\n",
      "Training time:  0:09:18.277904\n",
      "\n",
      "--- Running seed 420 ---\n",
      "\n",
      "==== Running for 5 people ====\n",
      "\n",
      "(Device: cuda) Started training model: TemporalConvNet\n"
     ]
    },
    {
     "name": "stderr",
     "output_type": "stream",
     "text": [
      "C:\\Users\\centu\\PycharmProjects\\MasterThesis_mmWavePI\\.venv\\Lib\\site-packages\\torch\\nn\\utils\\weight_norm.py:143: FutureWarning: `torch.nn.utils.weight_norm` is deprecated in favor of `torch.nn.utils.parametrizations.weight_norm`.\n",
      "  WeightNorm.apply(module, name, dim)\n"
     ]
    },
    {
     "name": "stdout",
     "output_type": "stream",
     "text": [
      "Early stopping at epoch 89 (no improvement in 50 epochs)\n",
      "Training time:  0:00:56.557941\n",
      "\n",
      "==== Running for 10 people ====\n",
      "\n",
      "(Device: cuda) Started training model: TemporalConvNet\n"
     ]
    },
    {
     "name": "stderr",
     "output_type": "stream",
     "text": [
      "C:\\Users\\centu\\PycharmProjects\\MasterThesis_mmWavePI\\.venv\\Lib\\site-packages\\torch\\nn\\utils\\weight_norm.py:143: FutureWarning: `torch.nn.utils.weight_norm` is deprecated in favor of `torch.nn.utils.parametrizations.weight_norm`.\n",
      "  WeightNorm.apply(module, name, dim)\n"
     ]
    },
    {
     "name": "stdout",
     "output_type": "stream",
     "text": [
      "Early stopping at epoch 94 (no improvement in 50 epochs)\n",
      "Training time:  0:01:59.924844\n",
      "\n",
      "==== Running for 15 people ====\n"
     ]
    },
    {
     "name": "stderr",
     "output_type": "stream",
     "text": [
      "C:\\Users\\centu\\PycharmProjects\\MasterThesis_mmWavePI\\.venv\\Lib\\site-packages\\torch\\nn\\utils\\weight_norm.py:143: FutureWarning: `torch.nn.utils.weight_norm` is deprecated in favor of `torch.nn.utils.parametrizations.weight_norm`.\n",
      "  WeightNorm.apply(module, name, dim)\n"
     ]
    },
    {
     "name": "stdout",
     "output_type": "stream",
     "text": [
      "\n",
      "(Device: cuda) Started training model: TemporalConvNet\n",
      "Early stopping at epoch 203 (no improvement in 50 epochs)\n",
      "Training time:  0:06:30.549708\n",
      "\n",
      "==== Running for 20 people ====\n",
      "\n",
      "(Device: cuda) Started training model: TemporalConvNet\n"
     ]
    },
    {
     "name": "stderr",
     "output_type": "stream",
     "text": [
      "C:\\Users\\centu\\PycharmProjects\\MasterThesis_mmWavePI\\.venv\\Lib\\site-packages\\torch\\nn\\utils\\weight_norm.py:143: FutureWarning: `torch.nn.utils.weight_norm` is deprecated in favor of `torch.nn.utils.parametrizations.weight_norm`.\n",
      "  WeightNorm.apply(module, name, dim)\n"
     ]
    },
    {
     "name": "stdout",
     "output_type": "stream",
     "text": [
      "Early stopping at epoch 188 (no improvement in 50 epochs)\n",
      "Training time:  0:07:51.145879\n",
      "\n",
      "--- Running seed 101010 ---\n",
      "\n",
      "==== Running for 5 people ====\n",
      "\n",
      "(Device: cuda) Started training model: TemporalConvNet\n"
     ]
    },
    {
     "name": "stderr",
     "output_type": "stream",
     "text": [
      "C:\\Users\\centu\\PycharmProjects\\MasterThesis_mmWavePI\\.venv\\Lib\\site-packages\\torch\\nn\\utils\\weight_norm.py:143: FutureWarning: `torch.nn.utils.weight_norm` is deprecated in favor of `torch.nn.utils.parametrizations.weight_norm`.\n",
      "  WeightNorm.apply(module, name, dim)\n"
     ]
    },
    {
     "name": "stdout",
     "output_type": "stream",
     "text": [
      "Early stopping at epoch 117 (no improvement in 50 epochs)\n",
      "Training time:  0:01:16.081170\n",
      "\n",
      "==== Running for 10 people ====\n",
      "\n",
      "(Device: cuda) Started training model: TemporalConvNet\n"
     ]
    },
    {
     "name": "stderr",
     "output_type": "stream",
     "text": [
      "C:\\Users\\centu\\PycharmProjects\\MasterThesis_mmWavePI\\.venv\\Lib\\site-packages\\torch\\nn\\utils\\weight_norm.py:143: FutureWarning: `torch.nn.utils.weight_norm` is deprecated in favor of `torch.nn.utils.parametrizations.weight_norm`.\n",
      "  WeightNorm.apply(module, name, dim)\n"
     ]
    },
    {
     "name": "stdout",
     "output_type": "stream",
     "text": [
      "Early stopping at epoch 114 (no improvement in 50 epochs)\n",
      "Training time:  0:02:24.160446\n",
      "\n",
      "==== Running for 15 people ====\n"
     ]
    },
    {
     "name": "stderr",
     "output_type": "stream",
     "text": [
      "C:\\Users\\centu\\PycharmProjects\\MasterThesis_mmWavePI\\.venv\\Lib\\site-packages\\torch\\nn\\utils\\weight_norm.py:143: FutureWarning: `torch.nn.utils.weight_norm` is deprecated in favor of `torch.nn.utils.parametrizations.weight_norm`.\n",
      "  WeightNorm.apply(module, name, dim)\n"
     ]
    },
    {
     "name": "stdout",
     "output_type": "stream",
     "text": [
      "\n",
      "(Device: cuda) Started training model: TemporalConvNet\n",
      "Early stopping at epoch 162 (no improvement in 50 epochs)\n",
      "Training time:  0:05:02.850815\n",
      "\n",
      "==== Running for 20 people ====\n",
      "\n",
      "(Device: cuda) Started training model: TemporalConvNet\n"
     ]
    },
    {
     "name": "stderr",
     "output_type": "stream",
     "text": [
      "C:\\Users\\centu\\PycharmProjects\\MasterThesis_mmWavePI\\.venv\\Lib\\site-packages\\torch\\nn\\utils\\weight_norm.py:143: FutureWarning: `torch.nn.utils.weight_norm` is deprecated in favor of `torch.nn.utils.parametrizations.weight_norm`.\n",
      "  WeightNorm.apply(module, name, dim)\n"
     ]
    },
    {
     "name": "stdout",
     "output_type": "stream",
     "text": [
      "Early stopping at epoch 241 (no improvement in 50 epochs)\n",
      "Training time:  0:10:03.769140\n",
      "seed outputs:  [([5, 10, 15, 20], [1.0, 0.93, 0.98, 0.97], [0.9, 0.93, 0.91, 0.94]), ([5, 10, 15, 20], [1.0, 1.0, 0.99, 0.97], [0.9, 0.97, 0.97, 0.94]), ([5, 10, 15, 20], [1.0, 1.0, 0.94, 0.96], [1.0, 0.97, 0.93, 0.91])]\n"
     ]
    }
   ],
   "execution_count": 6
  },
  {
   "metadata": {
    "ExecuteTime": {
     "end_time": "2025-06-04T05:05:32.356514Z",
     "start_time": "2025-06-04T05:05:32.353660Z"
    }
   },
   "cell_type": "code",
   "source": "results_per_signal",
   "id": "48b84f00a7d98764",
   "outputs": [
    {
     "data": {
      "text/plain": [
       "{'5ghz_10hz': ([5, 10, 15, 20],\n",
       "  [1.0, 0.93, 0.8966666666666666, 0.8666666666666667]),\n",
       " '5ghz_200hz': ([5, 10, 15, 20],\n",
       "  [0.9899999999999999,\n",
       "   0.9333333333333332,\n",
       "   0.9166666666666666,\n",
       "   0.8966666666666666]),\n",
       " '60ghz_collected': ([5, 10, 15, 20],\n",
       "  [0.9333333333333332, 0.9566666666666667, 0.9366666666666666, 0.93])}"
      ]
     },
     "execution_count": 7,
     "metadata": {},
     "output_type": "execute_result"
    }
   ],
   "execution_count": 7
  },
  {
   "metadata": {
    "ExecuteTime": {
     "end_time": "2025-06-04T05:05:32.473465Z",
     "start_time": "2025-06-04T05:05:32.402877Z"
    }
   },
   "cell_type": "code",
   "source": [
    "plot_people_vs_accuracy(results_dict=results_per_signal, \n",
    "                        std_dict=stds_per_signal, \n",
    "                        output_path=output_path,)"
   ],
   "id": "b85f770bdf5ceb06",
   "outputs": [
    {
     "data": {
      "text/plain": [
       "<Figure size 640x560 with 1 Axes>"
      ],
      "image/png": "[encoded data removed]"
     },
     "metadata": {},
     "output_type": "display_data"
    }
   ],
   "execution_count": 8
  },
  {
   "metadata": {
    "ExecuteTime": {
     "end_time": "2025-06-04T09:11:22.986661Z",
     "start_time": "2025-06-04T05:05:32.477561Z"
    }
   },
   "cell_type": "code",
   "source": [
    "results_per_signal, stds_per_signal = run_experiment_with_seeds(experiment_func=get_varying_people_data,\n",
    "                                                                signal_configs=signal_configs,\n",
    "                                                                varying_param_name='people_counts',\n",
    "                                                                varying_param_value=people_counts,\n",
    "                                                                n_seeds=num_seeds,\n",
    "                                                                accuracy_type=accuracy_type,\n",
    "                                                                seconds_per_sample=2)"
   ],
   "id": "38c8777801aa4647",
   "outputs": [
    {
     "name": "stdout",
     "output_type": "stream",
     "text": [
      "Running experiment for 5ghz_10hz...\n",
      "\n",
      "--- Running seed 42 ---\n",
      "\n",
      "==== Running for 5 people ====\n",
      "\n",
      "(Device: cuda) Started training model: TemporalConvNet\n"
     ]
    },
    {
     "name": "stderr",
     "output_type": "stream",
     "text": [
      "C:\\Users\\centu\\PycharmProjects\\MasterThesis_mmWavePI\\.venv\\Lib\\site-packages\\torch\\nn\\utils\\weight_norm.py:143: FutureWarning: `torch.nn.utils.weight_norm` is deprecated in favor of `torch.nn.utils.parametrizations.weight_norm`.\n",
      "  WeightNorm.apply(module, name, dim)\n"
     ]
    },
    {
     "name": "stdout",
     "output_type": "stream",
     "text": [
      "Early stopping at epoch 74 (no improvement in 50 epochs)\n",
      "Training time:  0:01:10.631184\n",
      "\n",
      "==== Running for 10 people ====\n",
      "\n",
      "(Device: cuda) Started training model: TemporalConvNet\n"
     ]
    },
    {
     "name": "stderr",
     "output_type": "stream",
     "text": [
      "C:\\Users\\centu\\PycharmProjects\\MasterThesis_mmWavePI\\.venv\\Lib\\site-packages\\torch\\nn\\utils\\weight_norm.py:143: FutureWarning: `torch.nn.utils.weight_norm` is deprecated in favor of `torch.nn.utils.parametrizations.weight_norm`.\n",
      "  WeightNorm.apply(module, name, dim)\n"
     ]
    },
    {
     "name": "stdout",
     "output_type": "stream",
     "text": [
      "Early stopping at epoch 234 (no improvement in 50 epochs)\n",
      "Training time:  0:07:22.940006\n",
      "\n",
      "==== Running for 15 people ====\n",
      "\n",
      "(Device: cuda) Started training model: TemporalConvNet\n"
     ]
    },
    {
     "name": "stderr",
     "output_type": "stream",
     "text": [
      "C:\\Users\\centu\\PycharmProjects\\MasterThesis_mmWavePI\\.venv\\Lib\\site-packages\\torch\\nn\\utils\\weight_norm.py:143: FutureWarning: `torch.nn.utils.weight_norm` is deprecated in favor of `torch.nn.utils.parametrizations.weight_norm`.\n",
      "  WeightNorm.apply(module, name, dim)\n"
     ]
    },
    {
     "name": "stdout",
     "output_type": "stream",
     "text": [
      "Early stopping at epoch 196 (no improvement in 50 epochs)\n",
      "Training time:  0:09:09.439091\n",
      "\n",
      "==== Running for 20 people ====\n",
      "\n",
      "(Device: cuda) Started training model: TemporalConvNet\n"
     ]
    },
    {
     "name": "stderr",
     "output_type": "stream",
     "text": [
      "C:\\Users\\centu\\PycharmProjects\\MasterThesis_mmWavePI\\.venv\\Lib\\site-packages\\torch\\nn\\utils\\weight_norm.py:143: FutureWarning: `torch.nn.utils.weight_norm` is deprecated in favor of `torch.nn.utils.parametrizations.weight_norm`.\n",
      "  WeightNorm.apply(module, name, dim)\n"
     ]
    },
    {
     "name": "stdout",
     "output_type": "stream",
     "text": [
      "Early stopping at epoch 157 (no improvement in 50 epochs)\n",
      "Training time:  0:09:51.865369\n",
      "\n",
      "--- Running seed 420 ---\n",
      "\n",
      "==== Running for 5 people ====\n",
      "\n",
      "(Device: cuda) Started training model: TemporalConvNet\n"
     ]
    },
    {
     "name": "stderr",
     "output_type": "stream",
     "text": [
      "C:\\Users\\centu\\PycharmProjects\\MasterThesis_mmWavePI\\.venv\\Lib\\site-packages\\torch\\nn\\utils\\weight_norm.py:143: FutureWarning: `torch.nn.utils.weight_norm` is deprecated in favor of `torch.nn.utils.parametrizations.weight_norm`.\n",
      "  WeightNorm.apply(module, name, dim)\n"
     ]
    },
    {
     "name": "stdout",
     "output_type": "stream",
     "text": [
      "Early stopping at epoch 118 (no improvement in 50 epochs)\n",
      "Training time:  0:01:52.442530\n",
      "\n",
      "==== Running for 10 people ====\n",
      "\n",
      "(Device: cuda) Started training model: TemporalConvNet\n"
     ]
    },
    {
     "name": "stderr",
     "output_type": "stream",
     "text": [
      "C:\\Users\\centu\\PycharmProjects\\MasterThesis_mmWavePI\\.venv\\Lib\\site-packages\\torch\\nn\\utils\\weight_norm.py:143: FutureWarning: `torch.nn.utils.weight_norm` is deprecated in favor of `torch.nn.utils.parametrizations.weight_norm`.\n",
      "  WeightNorm.apply(module, name, dim)\n"
     ]
    },
    {
     "name": "stdout",
     "output_type": "stream",
     "text": [
      "Early stopping at epoch 170 (no improvement in 50 epochs)\n",
      "Training time:  0:05:26.941674\n",
      "\n",
      "==== Running for 15 people ====\n",
      "\n",
      "(Device: cuda) Started training model: TemporalConvNet\n"
     ]
    },
    {
     "name": "stderr",
     "output_type": "stream",
     "text": [
      "C:\\Users\\centu\\PycharmProjects\\MasterThesis_mmWavePI\\.venv\\Lib\\site-packages\\torch\\nn\\utils\\weight_norm.py:143: FutureWarning: `torch.nn.utils.weight_norm` is deprecated in favor of `torch.nn.utils.parametrizations.weight_norm`.\n",
      "  WeightNorm.apply(module, name, dim)\n"
     ]
    },
    {
     "name": "stdout",
     "output_type": "stream",
     "text": [
      "Early stopping at epoch 247 (no improvement in 50 epochs)\n",
      "Training time:  0:11:45.997367\n",
      "\n",
      "==== Running for 20 people ====\n",
      "\n",
      "(Device: cuda) Started training model: TemporalConvNet\n"
     ]
    },
    {
     "name": "stderr",
     "output_type": "stream",
     "text": [
      "C:\\Users\\centu\\PycharmProjects\\MasterThesis_mmWavePI\\.venv\\Lib\\site-packages\\torch\\nn\\utils\\weight_norm.py:143: FutureWarning: `torch.nn.utils.weight_norm` is deprecated in favor of `torch.nn.utils.parametrizations.weight_norm`.\n",
      "  WeightNorm.apply(module, name, dim)\n"
     ]
    },
    {
     "name": "stdout",
     "output_type": "stream",
     "text": [
      "Early stopping at epoch 229 (no improvement in 50 epochs)\n",
      "Training time:  0:14:23.620677\n",
      "\n",
      "--- Running seed 101010 ---\n",
      "\n",
      "==== Running for 5 people ====\n",
      "\n",
      "(Device: cuda) Started training model: TemporalConvNet\n"
     ]
    },
    {
     "name": "stderr",
     "output_type": "stream",
     "text": [
      "C:\\Users\\centu\\PycharmProjects\\MasterThesis_mmWavePI\\.venv\\Lib\\site-packages\\torch\\nn\\utils\\weight_norm.py:143: FutureWarning: `torch.nn.utils.weight_norm` is deprecated in favor of `torch.nn.utils.parametrizations.weight_norm`.\n",
      "  WeightNorm.apply(module, name, dim)\n"
     ]
    },
    {
     "name": "stdout",
     "output_type": "stream",
     "text": [
      "Early stopping at epoch 91 (no improvement in 50 epochs)\n",
      "Training time:  0:01:28.751085\n",
      "\n",
      "==== Running for 10 people ====\n",
      "\n",
      "(Device: cuda) Started training model: TemporalConvNet\n"
     ]
    },
    {
     "name": "stderr",
     "output_type": "stream",
     "text": [
      "C:\\Users\\centu\\PycharmProjects\\MasterThesis_mmWavePI\\.venv\\Lib\\site-packages\\torch\\nn\\utils\\weight_norm.py:143: FutureWarning: `torch.nn.utils.weight_norm` is deprecated in favor of `torch.nn.utils.parametrizations.weight_norm`.\n",
      "  WeightNorm.apply(module, name, dim)\n"
     ]
    },
    {
     "name": "stdout",
     "output_type": "stream",
     "text": [
      "Early stopping at epoch 138 (no improvement in 50 epochs)\n",
      "Training time:  0:04:26.940504\n",
      "\n",
      "==== Running for 15 people ====\n",
      "\n",
      "(Device: cuda) Started training model: TemporalConvNet\n"
     ]
    },
    {
     "name": "stderr",
     "output_type": "stream",
     "text": [
      "C:\\Users\\centu\\PycharmProjects\\MasterThesis_mmWavePI\\.venv\\Lib\\site-packages\\torch\\nn\\utils\\weight_norm.py:143: FutureWarning: `torch.nn.utils.weight_norm` is deprecated in favor of `torch.nn.utils.parametrizations.weight_norm`.\n",
      "  WeightNorm.apply(module, name, dim)\n"
     ]
    },
    {
     "name": "stdout",
     "output_type": "stream",
     "text": [
      "Early stopping at epoch 339 (no improvement in 50 epochs)\n",
      "Training time:  0:16:01.339001\n",
      "\n",
      "==== Running for 20 people ====\n",
      "\n",
      "(Device: cuda) Started training model: TemporalConvNet\n"
     ]
    },
    {
     "name": "stderr",
     "output_type": "stream",
     "text": [
      "C:\\Users\\centu\\PycharmProjects\\MasterThesis_mmWavePI\\.venv\\Lib\\site-packages\\torch\\nn\\utils\\weight_norm.py:143: FutureWarning: `torch.nn.utils.weight_norm` is deprecated in favor of `torch.nn.utils.parametrizations.weight_norm`.\n",
      "  WeightNorm.apply(module, name, dim)\n"
     ]
    },
    {
     "name": "stdout",
     "output_type": "stream",
     "text": [
      "Early stopping at epoch 233 (no improvement in 50 epochs)\n",
      "Training time:  0:14:36.298364\n",
      "seed outputs:  [([5, 10, 15, 20], [1.0, 0.99, 0.95, 0.9], [0.98, 0.96, 0.83, 0.83]), ([5, 10, 15, 20], [1.0, 0.96, 0.95, 0.93], [1.0, 0.85, 0.92, 0.85]), ([5, 10, 15, 20], [0.98, 0.96, 0.95, 0.94], [1.0, 0.85, 0.82, 0.85])]\n",
      "Running experiment for 5ghz_200hz...\n",
      "\n",
      "--- Running seed 42 ---\n",
      "\n",
      "==== Running for 5 people ====\n",
      "\n",
      "(Device: cuda) Started training model: TemporalConvNet\n"
     ]
    },
    {
     "name": "stderr",
     "output_type": "stream",
     "text": [
      "C:\\Users\\centu\\PycharmProjects\\MasterThesis_mmWavePI\\.venv\\Lib\\site-packages\\torch\\nn\\utils\\weight_norm.py:143: FutureWarning: `torch.nn.utils.weight_norm` is deprecated in favor of `torch.nn.utils.parametrizations.weight_norm`.\n",
      "  WeightNorm.apply(module, name, dim)\n"
     ]
    },
    {
     "name": "stdout",
     "output_type": "stream",
     "text": [
      "Early stopping at epoch 204 (no improvement in 50 epochs)\n",
      "Training time:  0:03:24.407701\n",
      "\n",
      "==== Running for 10 people ====\n"
     ]
    },
    {
     "name": "stderr",
     "output_type": "stream",
     "text": [
      "C:\\Users\\centu\\PycharmProjects\\MasterThesis_mmWavePI\\.venv\\Lib\\site-packages\\torch\\nn\\utils\\weight_norm.py:143: FutureWarning: `torch.nn.utils.weight_norm` is deprecated in favor of `torch.nn.utils.parametrizations.weight_norm`.\n",
      "  WeightNorm.apply(module, name, dim)\n"
     ]
    },
    {
     "name": "stdout",
     "output_type": "stream",
     "text": [
      "\n",
      "(Device: cuda) Started training model: TemporalConvNet\n",
      "Early stopping at epoch 177 (no improvement in 50 epochs)\n",
      "Training time:  0:05:54.573185\n",
      "\n",
      "==== Running for 15 people ====\n",
      "\n",
      "(Device: cuda) Started training model: TemporalConvNet\n"
     ]
    },
    {
     "name": "stderr",
     "output_type": "stream",
     "text": [
      "C:\\Users\\centu\\PycharmProjects\\MasterThesis_mmWavePI\\.venv\\Lib\\site-packages\\torch\\nn\\utils\\weight_norm.py:143: FutureWarning: `torch.nn.utils.weight_norm` is deprecated in favor of `torch.nn.utils.parametrizations.weight_norm`.\n",
      "  WeightNorm.apply(module, name, dim)\n"
     ]
    },
    {
     "name": "stdout",
     "output_type": "stream",
     "text": [
      "Early stopping at epoch 228 (no improvement in 50 epochs)\n",
      "Training time:  0:11:17.374505\n",
      "\n",
      "==== Running for 20 people ====\n",
      "\n",
      "(Device: cuda) Started training model: TemporalConvNet\n"
     ]
    },
    {
     "name": "stderr",
     "output_type": "stream",
     "text": [
      "C:\\Users\\centu\\PycharmProjects\\MasterThesis_mmWavePI\\.venv\\Lib\\site-packages\\torch\\nn\\utils\\weight_norm.py:143: FutureWarning: `torch.nn.utils.weight_norm` is deprecated in favor of `torch.nn.utils.parametrizations.weight_norm`.\n",
      "  WeightNorm.apply(module, name, dim)\n"
     ]
    },
    {
     "name": "stdout",
     "output_type": "stream",
     "text": [
      "Early stopping at epoch 197 (no improvement in 50 epochs)\n",
      "Training time:  0:11:43.272220\n",
      "\n",
      "--- Running seed 420 ---\n",
      "\n",
      "==== Running for 5 people ====\n",
      "\n",
      "(Device: cuda) Started training model: TemporalConvNet\n"
     ]
    },
    {
     "name": "stderr",
     "output_type": "stream",
     "text": [
      "C:\\Users\\centu\\PycharmProjects\\MasterThesis_mmWavePI\\.venv\\Lib\\site-packages\\torch\\nn\\utils\\weight_norm.py:143: FutureWarning: `torch.nn.utils.weight_norm` is deprecated in favor of `torch.nn.utils.parametrizations.weight_norm`.\n",
      "  WeightNorm.apply(module, name, dim)\n"
     ]
    },
    {
     "name": "stdout",
     "output_type": "stream",
     "text": [
      "Early stopping at epoch 169 (no improvement in 50 epochs)\n",
      "Training time:  0:02:56.221577\n",
      "\n",
      "==== Running for 10 people ====\n"
     ]
    },
    {
     "name": "stderr",
     "output_type": "stream",
     "text": [
      "C:\\Users\\centu\\PycharmProjects\\MasterThesis_mmWavePI\\.venv\\Lib\\site-packages\\torch\\nn\\utils\\weight_norm.py:143: FutureWarning: `torch.nn.utils.weight_norm` is deprecated in favor of `torch.nn.utils.parametrizations.weight_norm`.\n",
      "  WeightNorm.apply(module, name, dim)\n"
     ]
    },
    {
     "name": "stdout",
     "output_type": "stream",
     "text": [
      "\n",
      "(Device: cuda) Started training model: TemporalConvNet\n",
      "Early stopping at epoch 109 (no improvement in 50 epochs)\n",
      "Training time:  0:03:36.976495\n",
      "\n",
      "==== Running for 15 people ====\n",
      "\n",
      "(Device: cuda) Started training model: TemporalConvNet\n"
     ]
    },
    {
     "name": "stderr",
     "output_type": "stream",
     "text": [
      "C:\\Users\\centu\\PycharmProjects\\MasterThesis_mmWavePI\\.venv\\Lib\\site-packages\\torch\\nn\\utils\\weight_norm.py:143: FutureWarning: `torch.nn.utils.weight_norm` is deprecated in favor of `torch.nn.utils.parametrizations.weight_norm`.\n",
      "  WeightNorm.apply(module, name, dim)\n"
     ]
    },
    {
     "name": "stdout",
     "output_type": "stream",
     "text": [
      "Early stopping at epoch 226 (no improvement in 50 epochs)\n",
      "Training time:  0:11:19.552074\n",
      "\n",
      "==== Running for 20 people ====\n",
      "\n",
      "(Device: cuda) Started training model: TemporalConvNet\n"
     ]
    },
    {
     "name": "stderr",
     "output_type": "stream",
     "text": [
      "C:\\Users\\centu\\PycharmProjects\\MasterThesis_mmWavePI\\.venv\\Lib\\site-packages\\torch\\nn\\utils\\weight_norm.py:143: FutureWarning: `torch.nn.utils.weight_norm` is deprecated in favor of `torch.nn.utils.parametrizations.weight_norm`.\n",
      "  WeightNorm.apply(module, name, dim)\n"
     ]
    },
    {
     "name": "stdout",
     "output_type": "stream",
     "text": [
      "Early stopping at epoch 148 (no improvement in 50 epochs)\n",
      "Training time:  0:08:51.912060\n",
      "\n",
      "--- Running seed 101010 ---\n",
      "\n",
      "==== Running for 5 people ====\n",
      "\n",
      "(Device: cuda) Started training model: TemporalConvNet\n"
     ]
    },
    {
     "name": "stderr",
     "output_type": "stream",
     "text": [
      "C:\\Users\\centu\\PycharmProjects\\MasterThesis_mmWavePI\\.venv\\Lib\\site-packages\\torch\\nn\\utils\\weight_norm.py:143: FutureWarning: `torch.nn.utils.weight_norm` is deprecated in favor of `torch.nn.utils.parametrizations.weight_norm`.\n",
      "  WeightNorm.apply(module, name, dim)\n"
     ]
    },
    {
     "name": "stdout",
     "output_type": "stream",
     "text": [
      "Early stopping at epoch 144 (no improvement in 50 epochs)\n",
      "Training time:  0:02:21.687755\n",
      "\n",
      "==== Running for 10 people ====\n"
     ]
    },
    {
     "name": "stderr",
     "output_type": "stream",
     "text": [
      "C:\\Users\\centu\\PycharmProjects\\MasterThesis_mmWavePI\\.venv\\Lib\\site-packages\\torch\\nn\\utils\\weight_norm.py:143: FutureWarning: `torch.nn.utils.weight_norm` is deprecated in favor of `torch.nn.utils.parametrizations.weight_norm`.\n",
      "  WeightNorm.apply(module, name, dim)\n"
     ]
    },
    {
     "name": "stdout",
     "output_type": "stream",
     "text": [
      "\n",
      "(Device: cuda) Started training model: TemporalConvNet\n",
      "Early stopping at epoch 199 (no improvement in 50 epochs)\n",
      "Training time:  0:06:42.199483\n",
      "\n",
      "==== Running for 15 people ====\n",
      "\n",
      "(Device: cuda) Started training model: TemporalConvNet\n"
     ]
    },
    {
     "name": "stderr",
     "output_type": "stream",
     "text": [
      "C:\\Users\\centu\\PycharmProjects\\MasterThesis_mmWavePI\\.venv\\Lib\\site-packages\\torch\\nn\\utils\\weight_norm.py:143: FutureWarning: `torch.nn.utils.weight_norm` is deprecated in favor of `torch.nn.utils.parametrizations.weight_norm`.\n",
      "  WeightNorm.apply(module, name, dim)\n"
     ]
    },
    {
     "name": "stdout",
     "output_type": "stream",
     "text": [
      "Early stopping at epoch 201 (no improvement in 50 epochs)\n",
      "Training time:  0:10:10.053331\n",
      "\n",
      "==== Running for 20 people ====\n",
      "\n",
      "(Device: cuda) Started training model: TemporalConvNet\n"
     ]
    },
    {
     "name": "stderr",
     "output_type": "stream",
     "text": [
      "C:\\Users\\centu\\PycharmProjects\\MasterThesis_mmWavePI\\.venv\\Lib\\site-packages\\torch\\nn\\utils\\weight_norm.py:143: FutureWarning: `torch.nn.utils.weight_norm` is deprecated in favor of `torch.nn.utils.parametrizations.weight_norm`.\n",
      "  WeightNorm.apply(module, name, dim)\n"
     ]
    },
    {
     "name": "stdout",
     "output_type": "stream",
     "text": [
      "Early stopping at epoch 149 (no improvement in 50 epochs)\n",
      "Training time:  0:08:48.855692\n",
      "seed outputs:  [([5, 10, 15, 20], [1.0, 1.0, 0.97, 0.96], [0.98, 0.99, 0.91, 0.91]), ([5, 10, 15, 20], [1.0, 0.98, 0.96, 0.94], [1.0, 0.91, 0.87, 0.87]), ([5, 10, 15, 20], [1.0, 0.96, 0.96, 0.96], [0.96, 0.93, 0.88, 0.88])]\n",
      "Running experiment for 60ghz_collected...\n",
      "\n",
      "--- Running seed 42 ---\n",
      "\n",
      "==== Running for 5 people ====\n",
      "\n",
      "(Device: cuda) Started training model: TemporalConvNet\n"
     ]
    },
    {
     "name": "stderr",
     "output_type": "stream",
     "text": [
      "C:\\Users\\centu\\PycharmProjects\\MasterThesis_mmWavePI\\.venv\\Lib\\site-packages\\torch\\nn\\utils\\weight_norm.py:143: FutureWarning: `torch.nn.utils.weight_norm` is deprecated in favor of `torch.nn.utils.parametrizations.weight_norm`.\n",
      "  WeightNorm.apply(module, name, dim)\n"
     ]
    },
    {
     "name": "stdout",
     "output_type": "stream",
     "text": [
      "Early stopping at epoch 54 (no improvement in 50 epochs)\n",
      "Training time:  0:00:55.884793\n",
      "\n",
      "==== Running for 10 people ====\n",
      "\n",
      "(Device: cuda) Started training model: TemporalConvNet\n"
     ]
    },
    {
     "name": "stderr",
     "output_type": "stream",
     "text": [
      "C:\\Users\\centu\\PycharmProjects\\MasterThesis_mmWavePI\\.venv\\Lib\\site-packages\\torch\\nn\\utils\\weight_norm.py:143: FutureWarning: `torch.nn.utils.weight_norm` is deprecated in favor of `torch.nn.utils.parametrizations.weight_norm`.\n",
      "  WeightNorm.apply(module, name, dim)\n"
     ]
    },
    {
     "name": "stdout",
     "output_type": "stream",
     "text": [
      "Early stopping at epoch 160 (no improvement in 50 epochs)\n",
      "Training time:  0:05:03.227201\n",
      "\n",
      "==== Running for 15 people ====\n",
      "\n",
      "(Device: cuda) Started training model: TemporalConvNet\n"
     ]
    },
    {
     "name": "stderr",
     "output_type": "stream",
     "text": [
      "C:\\Users\\centu\\PycharmProjects\\MasterThesis_mmWavePI\\.venv\\Lib\\site-packages\\torch\\nn\\utils\\weight_norm.py:143: FutureWarning: `torch.nn.utils.weight_norm` is deprecated in favor of `torch.nn.utils.parametrizations.weight_norm`.\n",
      "  WeightNorm.apply(module, name, dim)\n"
     ]
    },
    {
     "name": "stdout",
     "output_type": "stream",
     "text": [
      "Early stopping at epoch 86 (no improvement in 50 epochs)\n",
      "Training time:  0:04:00.499064\n",
      "\n",
      "==== Running for 20 people ====\n",
      "\n",
      "(Device: cuda) Started training model: TemporalConvNet\n"
     ]
    },
    {
     "name": "stderr",
     "output_type": "stream",
     "text": [
      "C:\\Users\\centu\\PycharmProjects\\MasterThesis_mmWavePI\\.venv\\Lib\\site-packages\\torch\\nn\\utils\\weight_norm.py:143: FutureWarning: `torch.nn.utils.weight_norm` is deprecated in favor of `torch.nn.utils.parametrizations.weight_norm`.\n",
      "  WeightNorm.apply(module, name, dim)\n"
     ]
    },
    {
     "name": "stdout",
     "output_type": "stream",
     "text": [
      "Early stopping at epoch 143 (no improvement in 50 epochs)\n",
      "Training time:  0:09:11.723238\n",
      "\n",
      "--- Running seed 420 ---\n",
      "\n",
      "==== Running for 5 people ====\n",
      "\n",
      "(Device: cuda) Started training model: TemporalConvNet\n"
     ]
    },
    {
     "name": "stderr",
     "output_type": "stream",
     "text": [
      "C:\\Users\\centu\\PycharmProjects\\MasterThesis_mmWavePI\\.venv\\Lib\\site-packages\\torch\\nn\\utils\\weight_norm.py:143: FutureWarning: `torch.nn.utils.weight_norm` is deprecated in favor of `torch.nn.utils.parametrizations.weight_norm`.\n",
      "  WeightNorm.apply(module, name, dim)\n"
     ]
    },
    {
     "name": "stdout",
     "output_type": "stream",
     "text": [
      "Early stopping at epoch 54 (no improvement in 50 epochs)\n",
      "Training time:  0:00:52.627161\n",
      "\n",
      "==== Running for 10 people ====\n"
     ]
    },
    {
     "name": "stderr",
     "output_type": "stream",
     "text": [
      "C:\\Users\\centu\\PycharmProjects\\MasterThesis_mmWavePI\\.venv\\Lib\\site-packages\\torch\\nn\\utils\\weight_norm.py:143: FutureWarning: `torch.nn.utils.weight_norm` is deprecated in favor of `torch.nn.utils.parametrizations.weight_norm`.\n",
      "  WeightNorm.apply(module, name, dim)\n"
     ]
    },
    {
     "name": "stdout",
     "output_type": "stream",
     "text": [
      "\n",
      "(Device: cuda) Started training model: TemporalConvNet\n",
      "Early stopping at epoch 140 (no improvement in 50 epochs)\n",
      "Training time:  0:04:30.643853\n",
      "\n",
      "==== Running for 15 people ====\n",
      "\n",
      "(Device: cuda) Started training model: TemporalConvNet\n"
     ]
    },
    {
     "name": "stderr",
     "output_type": "stream",
     "text": [
      "C:\\Users\\centu\\PycharmProjects\\MasterThesis_mmWavePI\\.venv\\Lib\\site-packages\\torch\\nn\\utils\\weight_norm.py:143: FutureWarning: `torch.nn.utils.weight_norm` is deprecated in favor of `torch.nn.utils.parametrizations.weight_norm`.\n",
      "  WeightNorm.apply(module, name, dim)\n"
     ]
    },
    {
     "name": "stdout",
     "output_type": "stream",
     "text": [
      "Early stopping at epoch 95 (no improvement in 50 epochs)\n",
      "Training time:  0:04:30.540895\n",
      "\n",
      "==== Running for 20 people ====\n",
      "\n",
      "(Device: cuda) Started training model: TemporalConvNet\n"
     ]
    },
    {
     "name": "stderr",
     "output_type": "stream",
     "text": [
      "C:\\Users\\centu\\PycharmProjects\\MasterThesis_mmWavePI\\.venv\\Lib\\site-packages\\torch\\nn\\utils\\weight_norm.py:143: FutureWarning: `torch.nn.utils.weight_norm` is deprecated in favor of `torch.nn.utils.parametrizations.weight_norm`.\n",
      "  WeightNorm.apply(module, name, dim)\n"
     ]
    },
    {
     "name": "stdout",
     "output_type": "stream",
     "text": [
      "Early stopping at epoch 141 (no improvement in 50 epochs)\n",
      "Training time:  0:08:47.581429\n",
      "\n",
      "--- Running seed 101010 ---\n",
      "\n",
      "==== Running for 5 people ====\n",
      "\n",
      "(Device: cuda) Started training model: TemporalConvNet\n"
     ]
    },
    {
     "name": "stderr",
     "output_type": "stream",
     "text": [
      "C:\\Users\\centu\\PycharmProjects\\MasterThesis_mmWavePI\\.venv\\Lib\\site-packages\\torch\\nn\\utils\\weight_norm.py:143: FutureWarning: `torch.nn.utils.weight_norm` is deprecated in favor of `torch.nn.utils.parametrizations.weight_norm`.\n",
      "  WeightNorm.apply(module, name, dim)\n"
     ]
    },
    {
     "name": "stdout",
     "output_type": "stream",
     "text": [
      "Early stopping at epoch 91 (no improvement in 50 epochs)\n",
      "Training time:  0:01:28.593175\n",
      "\n",
      "==== Running for 10 people ====\n",
      "\n",
      "(Device: cuda) Started training model: TemporalConvNet\n"
     ]
    },
    {
     "name": "stderr",
     "output_type": "stream",
     "text": [
      "C:\\Users\\centu\\PycharmProjects\\MasterThesis_mmWavePI\\.venv\\Lib\\site-packages\\torch\\nn\\utils\\weight_norm.py:143: FutureWarning: `torch.nn.utils.weight_norm` is deprecated in favor of `torch.nn.utils.parametrizations.weight_norm`.\n",
      "  WeightNorm.apply(module, name, dim)\n"
     ]
    },
    {
     "name": "stdout",
     "output_type": "stream",
     "text": [
      "Early stopping at epoch 126 (no improvement in 50 epochs)\n",
      "Training time:  0:04:01.241014\n",
      "\n",
      "==== Running for 15 people ====\n",
      "\n",
      "(Device: cuda) Started training model: TemporalConvNet\n"
     ]
    },
    {
     "name": "stderr",
     "output_type": "stream",
     "text": [
      "C:\\Users\\centu\\PycharmProjects\\MasterThesis_mmWavePI\\.venv\\Lib\\site-packages\\torch\\nn\\utils\\weight_norm.py:143: FutureWarning: `torch.nn.utils.weight_norm` is deprecated in favor of `torch.nn.utils.parametrizations.weight_norm`.\n",
      "  WeightNorm.apply(module, name, dim)\n"
     ]
    },
    {
     "name": "stdout",
     "output_type": "stream",
     "text": [
      "Early stopping at epoch 185 (no improvement in 50 epochs)\n",
      "Training time:  0:08:37.045437\n",
      "\n",
      "==== Running for 20 people ====\n",
      "\n",
      "(Device: cuda) Started training model: TemporalConvNet\n"
     ]
    },
    {
     "name": "stderr",
     "output_type": "stream",
     "text": [
      "C:\\Users\\centu\\PycharmProjects\\MasterThesis_mmWavePI\\.venv\\Lib\\site-packages\\torch\\nn\\utils\\weight_norm.py:143: FutureWarning: `torch.nn.utils.weight_norm` is deprecated in favor of `torch.nn.utils.parametrizations.weight_norm`.\n",
      "  WeightNorm.apply(module, name, dim)\n"
     ]
    },
    {
     "name": "stdout",
     "output_type": "stream",
     "text": [
      "Early stopping at epoch 142 (no improvement in 50 epochs)\n",
      "Training time:  0:08:51.239913\n",
      "seed outputs:  [([5, 10, 15, 20], [1.0, 0.97, 0.92, 0.92], [0.92, 0.93, 0.86, 0.87]), ([5, 10, 15, 20], [1.0, 1.0, 0.92, 0.95], [0.92, 0.98, 0.91, 0.88]), ([5, 10, 15, 20], [0.98, 1.0, 0.93, 0.93], [1.0, 0.95, 0.87, 0.9])]\n"
     ]
    }
   ],
   "execution_count": 9
  },
  {
   "metadata": {
    "ExecuteTime": {
     "end_time": "2025-06-04T09:11:22.996511Z",
     "start_time": "2025-06-04T09:11:22.993023Z"
    }
   },
   "cell_type": "code",
   "source": "results_per_signal",
   "id": "89a1661961f69020",
   "outputs": [
    {
     "data": {
      "text/plain": [
       "{'5ghz_10hz': ([5, 10, 15, 20],\n",
       "  [0.9933333333333333,\n",
       "   0.8866666666666667,\n",
       "   0.8566666666666666,\n",
       "   0.8433333333333333]),\n",
       " '5ghz_200hz': ([5, 10, 15, 20],\n",
       "  [0.98, 0.9433333333333334, 0.8866666666666667, 0.8866666666666667]),\n",
       " '60ghz_collected': ([5, 10, 15, 20],\n",
       "  [0.9466666666666667, 0.9533333333333335, 0.88, 0.8833333333333333])}"
      ]
     },
     "execution_count": 10,
     "metadata": {},
     "output_type": "execute_result"
    }
   ],
   "execution_count": 10
  },
  {
   "metadata": {
    "ExecuteTime": {
     "end_time": "2025-06-04T09:11:23.087961Z",
     "start_time": "2025-06-04T09:11:23.015799Z"
    }
   },
   "cell_type": "code",
   "source": [
    "plot_people_vs_accuracy(results_dict=results_per_signal, \n",
    "                        std_dict=stds_per_signal, \n",
    "                        output_path=output_path)"
   ],
   "id": "76bb0115629f73ad",
   "outputs": [
    {
     "data": {
      "text/plain": [
       "<Figure size 640x560 with 1 Axes>"
      ],
      "image/png": "[encoded data removed]"
     },
     "metadata": {},
     "output_type": "display_data"
    }
   ],
   "execution_count": 11
  },
  {
   "metadata": {},
   "cell_type": "code",
   "source": [
    "results_per_signal, stds_per_signal = run_experiment_with_seeds(experiment_func=get_varying_people_data,\n",
    "                                                                signal_configs=signal_configs,\n",
    "                                                                varying_param_name='people_counts',\n",
    "                                                                varying_param_value=people_counts,\n",
    "                                                                n_seeds=num_seeds,\n",
    "                                                                accuracy_type=accuracy_type,\n",
    "                                                                seconds_per_sample=1)"
   ],
   "id": "ba4983577682e8b3",
   "outputs": [],
   "execution_count": null
  },
  {
   "metadata": {},
   "cell_type": "code",
   "source": "results_per_signal",
   "id": "aa46001298a91628",
   "outputs": [],
   "execution_count": null
  },
  {
   "metadata": {},
   "cell_type": "code",
   "source": [
    "plot_people_vs_accuracy(results_dict=results_per_signal, \n",
    "                        std_dict=stds_per_signal, \n",
    "                        output_path=output_path)"
   ],
   "id": "e8f13b1f225459f5",
   "outputs": [],
   "execution_count": null
  }
 ],
 "metadata": {
  "kernelspec": {
   "display_name": "Python 3 (ipykernel)",
   "language": "python",
   "name": "python3"
  },
  "language_info": {
   "codemirror_mode": {
    "name": "ipython",
    "version": 3
   },
   "file_extension": ".py",
   "mimetype": "text/x-python",
   "name": "python",
   "nbconvert_exporter": "python",
   "pygments_lexer": "ipython3",
   "version": "3.12.2"
  }
 },
 "nbformat": 4,
 "nbformat_minor": 5
}
